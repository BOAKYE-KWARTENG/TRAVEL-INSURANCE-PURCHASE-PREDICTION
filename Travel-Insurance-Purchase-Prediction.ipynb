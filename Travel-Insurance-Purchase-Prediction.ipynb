{
 "cells": [
  {
   "attachments": {},
   "cell_type": "markdown",
   "metadata": {},
   "source": [
    "## **INSURANCE PURCHASE PREDICTION WITH MACHINE LEARNING**"
   ]
  },
  {
   "attachments": {},
   "cell_type": "markdown",
   "metadata": {},
   "source": [
    "## THE CHALLENGE"
   ]
  },
  {
   "attachments": {},
   "cell_type": "markdown",
   "metadata": {},
   "source": [
    "As a Premium Administration Officer within the insurance industry, I have identified several challenges that impede premium collection and optimization. It is my belief that these challenges can be effectively addressed through the utilization of data analysis. By leveraging the data available in our database, as well as by taking a more intentional approach to data collection, we can create thoughtful solutions that will lead to **actionable results**.\n",
    "\n",
    "In order to meet our premium collection targets, my team - the premium administration team - has been tasked with developing creative and cost-effective solutions. As a data analyst, my role is to leverage existing data, and where necessary, collect new data that is tailored to the specific needs of our analysis.\n",
    "\n",
    "Through extensive research, I came across the concept of Insurance Purchase Prediction with Machine Learning, a solution that is both related to our task and personally relevant to my experience as an insurance player, data analyst, and machine learning enthusiast.\n",
    "\n",
    "To study the algorithm and its application to our challenge, we will utilize an online dataset. By doing so, we will be able to gain a deeper understanding of the process and potential impact of utilizing machine learning. Moving forward, we plan to tailor this approach to meet the specific needs of our team and company in order to optimize our premium collection efforts."
   ]
  },
  {
   "attachments": {},
   "cell_type": "markdown",
   "metadata": {},
   "source": [
    "This project aims to collaborate with the Financial Advisors (commonly referred to as Sales Executives in the insurance industry), Sales Managers, and the Marketing team in order to achieve our premium collection target. As a data analyst, my role is to leverage data-driven insights and solutions to support the marketing and sales teams in their efforts to optimize premium collection. By working together, we can develop and implement effective strategies that meet our business objectives."
   ]
  },
  {
   "attachments": {},
   "cell_type": "markdown",
   "metadata": {},
   "source": [
    "As a data analyst in the insurance industry, it is imperative to ensure that resources are utilized in the most efficient manner. In light of this, I have identified an opportunity to optimize the sales process of insurance policies. Currently, Financial Advisors and Sales Managers engage in a random approach to sell insurance policies, resulting in wasted time, effort, and resources. As a solution, I plan to utilize data analysis **to identify potential clients** who are more likely to purchase insurance policies. This approach will increase the efficiency of the sales process, reducing the likelihood of wasted resources, while maximizing premium collection."
   ]
  },
  {
   "attachments": {},
   "cell_type": "markdown",
   "metadata": {},
   "source": [
    "The focus of this project is to develop a **predictive model** that can accurately forecast the sales of Travel Insurance. The model will be designed with the potential to be extended to other types of insurance policies, such as Special Investment Plan, Transition Plan, and more. This approach will enable the company to gain valuable insights into the market and help in making data-driven decisions to optimize sales across multiple insurance products."
   ]
  },
  {
   "attachments": {},
   "cell_type": "markdown",
   "metadata": {},
   "source": [
    "### **Objective:**"
   ]
  },
  {
   "attachments": {},
   "cell_type": "markdown",
   "metadata": {},
   "source": [
    "The objective of this project is to develop a Machine Learning Model to assist the Sales Team (including Financial Advisors, Sales Managers, and the Marketing Team) in predicting the likelihood of a person buying a Travel Insurance policy. The model will be used to identify the most profitable customers, saving time and resources while boosting leads, conversions, and premium collection revenue. Ultimately, the goal is to meet or exceed the company's premium collection target through the use of this technology."
   ]
  },
  {
   "attachments": {},
   "cell_type": "markdown",
   "metadata": {},
   "source": [
    "### **Terms Definition:**"
   ]
  },
  {
   "attachments": {},
   "cell_type": "markdown",
   "metadata": {},
   "source": [
    "**Insurance** is a means of protection from financial loss in which, in exchange for a fee, a party agrees to compensate another party in the event of a certain loss, damage, or injury. It is a form of risk management, primarily used to hedge against the risk of a contingent or uncertain loss.\n",
    "\n",
    "\n",
    "**Travel insurance** is designed to provide financial protection for unexpected events that impact a traveler’s trip. Popular benefits on a travel insurance policy include coverage for trip cancellations, medical emergencies, travel delays, and luggage."
   ]
  },
  {
   "attachments": {},
   "cell_type": "markdown",
   "metadata": {},
   "source": [
    "**The person** is refered to as tthe policy holder"
   ]
  },
  {
   "attachments": {},
   "cell_type": "markdown",
   "metadata": {},
   "source": [
    "### <div class=\"wp-block-button is-style-circular\"><a class=\"wp-block-button__link\" href=\"https://raw.githubusercontent.com/amankharwal/Website-data/master/TravelInsurancePrediction.csv\"><strong>Dataset:</strong></a></div> "
   ]
  },
  {
   "attachments": {},
   "cell_type": "markdown",
   "metadata": {},
   "source": [
    "The **Dataset** used is a GitHub data from amankharwal which suits the purpose of our studies. It is a past history of the sales of Travel Insurance from an Insurance Company. Which records the following parameters:\n",
    "\n"
   ]
  },
  {
   "attachments": {},
   "cell_type": "markdown",
   "metadata": {},
   "source": [
    "\n",
    "\n",
    "<ul>\n",
    "    <li><b>Age:</b> Age of the policy buyer</li>\n",
    "    <li><b>Employment Type:</b>  Government Sector or Private Sector/Self Employed</li>\n",
    "    <li><b>GraduateOrNot:</b> Is the person a graduate or not</li>\n",
    "    <li><b>AnnualIncome:</b> what is the annual income of the person</li>\n",
    "    <li><b>FamilyMembers:</b> how may family members do the person have ?</li>\n",
    "    <li><b>ChronicDiseases:</b> Is the person having a chronic disease? Y/N </li>\n",
    "    <li><b>FrequentFlyer:</b> Do the person travel Abroad frequently? Y/N</li>\n",
    "    <li><b>EverTravelledAbroad:</b> Has the person ever traveled Abroad? Y/N</li>\n",
    "</ul>\n",
    "\n",
    "<ul>\n",
    "    <li><b>TravelInsurance:</b> Did the person purchse the travel insurance? Y/N</li>\n",
    "</ul>"
   ]
  },
  {
   "attachments": {},
   "cell_type": "markdown",
   "metadata": {},
   "source": [
    "### **Travel Insurance Prediction using Python**"
   ]
  },
  {
   "attachments": {},
   "cell_type": "markdown",
   "metadata": {},
   "source": [
    "Importing the python libraries needed for the insurance prediction:\n",
    "\n",
    "<ul>\n",
    "<li>\n",
    "<b>Pandas Library:</b> will be used for data manipulation and analysis in this project. In particular, it will offer data structure and operations for manipulating the tabular data used. Pandas will allow importing the <u>TravelInsurancePrediction.csv</u> data, view the head of the data, clean the data for the modelling; converting the categorical values to numerics, check for the null values in the dataset and drop them if need be.\n",
    "</li>\n",
    "\n",
    "<li>\n",
    "<b>Plotly Library:</b> is used to visualize our data and understand it simply and easily. Plotly is used for the histogram visualizations in the project; visualizing how age, employment type and annual income affects the purchase of travel insurance. Plotly was used because of its hover tool capabilities and how visually attractive it is.\n",
    "</li>\n",
    "<li>\n",
    "<b>NumPy Library:</b>  is a general-purpose array-processing package. It provides a high-performance multidimensional array object, and tools for working with these arrays. It was deployed to group the data variables into inputs(x) and outputs(y)\n",
    "</li>\n",
    "<li>\n",
    "<b>Scikit-learn (Sklearn) Library:</b>   is the library for the machine learning  modelling. It provides a selection of efficient tools for machine learning and statistical modeling like the DecisionTreeClassifier (classification tool) used. The train_test_split module also helped to split the data used into train and test datasets for the modelling.\n",
    "</li>\n",
    "\n",
    "\n",
    "</ul>"
   ]
  },
  {
   "cell_type": "code",
   "execution_count": 54,
   "metadata": {},
   "outputs": [],
   "source": [
    "\n",
    "\n",
    "import pandas as pd\n",
    "import plotly.express as px\n",
    "import numpy as np\n",
    "import matplotlib.pyplot as plt\n",
    "import seaborn as sns\n",
    "\n",
    "\n",
    "from sklearn.model_selection import train_test_split\n",
    "from sklearn.tree import DecisionTreeClassifier\n",
    "\n"
   ]
  },
  {
   "attachments": {},
   "cell_type": "markdown",
   "metadata": {},
   "source": [
    "To begin the data analysis project, the first step is to import the relevant dataset. In this case, we will be using the **\"TravelInsurancePrediction.csv\"** file. Once we have imported the file, we will store it in a data object for further analysis. It is always good practice to have an initial view of the data, and therefore, we will take a look at the first five rows of the dataset to get an idea of its structure and content. This will help us to understand the variables in the dataset and guide our data cleaning and preprocessing steps."
   ]
  },
  {
   "cell_type": "code",
   "execution_count": 55,
   "metadata": {},
   "outputs": [
    {
     "data": {
      "text/html": [
       "<div>\n",
       "<style scoped>\n",
       "    .dataframe tbody tr th:only-of-type {\n",
       "        vertical-align: middle;\n",
       "    }\n",
       "\n",
       "    .dataframe tbody tr th {\n",
       "        vertical-align: top;\n",
       "    }\n",
       "\n",
       "    .dataframe thead th {\n",
       "        text-align: right;\n",
       "    }\n",
       "</style>\n",
       "<table border=\"1\" class=\"dataframe\">\n",
       "  <thead>\n",
       "    <tr style=\"text-align: right;\">\n",
       "      <th></th>\n",
       "      <th>Unnamed: 0</th>\n",
       "      <th>Age</th>\n",
       "      <th>Employment Type</th>\n",
       "      <th>GraduateOrNot</th>\n",
       "      <th>AnnualIncome</th>\n",
       "      <th>FamilyMembers</th>\n",
       "      <th>ChronicDiseases</th>\n",
       "      <th>FrequentFlyer</th>\n",
       "      <th>EverTravelledAbroad</th>\n",
       "      <th>TravelInsurance</th>\n",
       "    </tr>\n",
       "  </thead>\n",
       "  <tbody>\n",
       "    <tr>\n",
       "      <th>0</th>\n",
       "      <td>0</td>\n",
       "      <td>31</td>\n",
       "      <td>Government Sector</td>\n",
       "      <td>Yes</td>\n",
       "      <td>400000</td>\n",
       "      <td>6</td>\n",
       "      <td>1</td>\n",
       "      <td>No</td>\n",
       "      <td>No</td>\n",
       "      <td>0</td>\n",
       "    </tr>\n",
       "    <tr>\n",
       "      <th>1</th>\n",
       "      <td>1</td>\n",
       "      <td>31</td>\n",
       "      <td>Private Sector/Self Employed</td>\n",
       "      <td>Yes</td>\n",
       "      <td>1250000</td>\n",
       "      <td>7</td>\n",
       "      <td>0</td>\n",
       "      <td>No</td>\n",
       "      <td>No</td>\n",
       "      <td>0</td>\n",
       "    </tr>\n",
       "    <tr>\n",
       "      <th>2</th>\n",
       "      <td>2</td>\n",
       "      <td>34</td>\n",
       "      <td>Private Sector/Self Employed</td>\n",
       "      <td>Yes</td>\n",
       "      <td>500000</td>\n",
       "      <td>4</td>\n",
       "      <td>1</td>\n",
       "      <td>No</td>\n",
       "      <td>No</td>\n",
       "      <td>1</td>\n",
       "    </tr>\n",
       "    <tr>\n",
       "      <th>3</th>\n",
       "      <td>3</td>\n",
       "      <td>28</td>\n",
       "      <td>Private Sector/Self Employed</td>\n",
       "      <td>Yes</td>\n",
       "      <td>700000</td>\n",
       "      <td>3</td>\n",
       "      <td>1</td>\n",
       "      <td>No</td>\n",
       "      <td>No</td>\n",
       "      <td>0</td>\n",
       "    </tr>\n",
       "    <tr>\n",
       "      <th>4</th>\n",
       "      <td>4</td>\n",
       "      <td>28</td>\n",
       "      <td>Private Sector/Self Employed</td>\n",
       "      <td>Yes</td>\n",
       "      <td>700000</td>\n",
       "      <td>8</td>\n",
       "      <td>1</td>\n",
       "      <td>Yes</td>\n",
       "      <td>No</td>\n",
       "      <td>0</td>\n",
       "    </tr>\n",
       "  </tbody>\n",
       "</table>\n",
       "</div>"
      ],
      "text/plain": [
       "   Unnamed: 0  Age               Employment Type GraduateOrNot  AnnualIncome  \\\n",
       "0           0   31             Government Sector           Yes        400000   \n",
       "1           1   31  Private Sector/Self Employed           Yes       1250000   \n",
       "2           2   34  Private Sector/Self Employed           Yes        500000   \n",
       "3           3   28  Private Sector/Self Employed           Yes        700000   \n",
       "4           4   28  Private Sector/Self Employed           Yes        700000   \n",
       "\n",
       "   FamilyMembers  ChronicDiseases FrequentFlyer EverTravelledAbroad  \\\n",
       "0              6                1            No                  No   \n",
       "1              7                0            No                  No   \n",
       "2              4                1            No                  No   \n",
       "3              3                1            No                  No   \n",
       "4              8                1           Yes                  No   \n",
       "\n",
       "   TravelInsurance  \n",
       "0                0  \n",
       "1                0  \n",
       "2                1  \n",
       "3                0  \n",
       "4                0  "
      ]
     },
     "execution_count": 55,
     "metadata": {},
     "output_type": "execute_result"
    }
   ],
   "source": [
    "data = pd.read_csv(\"TravelInsurancePrediction.csv\")\n",
    "data.head()"
   ]
  },
  {
   "attachments": {},
   "cell_type": "markdown",
   "metadata": {},
   "source": [
    "## EXPLORATORY DATA ANALYSIS (EDA)"
   ]
  },
  {
   "attachments": {},
   "cell_type": "markdown",
   "metadata": {},
   "source": [
    "It is crucial to conduct an Exploratory Data Analysis (EDA) to gain a deeper understanding of the data and extract valuable insights. The primary goal of EDA is to identify patterns, relationships, anomalies, and other important features of the data that can inform subsequent analyses. In our project, we will perform EDA to gain insights into the TravelInsurancePrediction dataset and to understand the nature of the data we are working with. This will help us identify trends, patterns, and potential issues in the data, which will be crucial for developing a successful machine learning model."
   ]
  },
  {
   "attachments": {},
   "cell_type": "markdown",
   "metadata": {},
   "source": [
    "To ensure the **accuracy** and **reliability** of our model, it is important to assess the impact of missing values on the data. One way to do this is by using the .isnull().sum() method, which counts the number of missing values in the DataFrame. The resulting Boolean DataFrame or Series from the .isnull() method indicates which values are missing, with True indicating a missing value and False indicating a present value. The .sum() method then sums the Boolean values for each column or row, yielding the total number of missing values. Since missing values may lead to biased analysis and incorrect predictions, it is crucial to address them appropriately in order to create a reliable model for future use."
   ]
  },
  {
   "cell_type": "code",
   "execution_count": 56,
   "metadata": {},
   "outputs": [
    {
     "data": {
      "text/plain": [
       "Unnamed: 0             0\n",
       "Age                    0\n",
       "Employment Type        0\n",
       "GraduateOrNot          0\n",
       "AnnualIncome           0\n",
       "FamilyMembers          0\n",
       "ChronicDiseases        0\n",
       "FrequentFlyer          0\n",
       "EverTravelledAbroad    0\n",
       "TravelInsurance        0\n",
       "dtype: int64"
      ]
     },
     "execution_count": 56,
     "metadata": {},
     "output_type": "execute_result"
    }
   ],
   "source": [
    "\n",
    "\n",
    "# None of the data points in the dataset is null--run this chunk\n",
    "data.isnull().sum()\n",
    "\n"
   ]
  },
  {
   "attachments": {},
   "cell_type": "markdown",
   "metadata": {},
   "source": [
    "one useful method for getting an overview of a dataset is the **.info()** method. This method provides a summary of the dataset, including the number of non-null values, the data type of each column, and the memory usage. It also provides information about the index object and the column names of the DataFrame. By leveraging the .info() method, we can quickly understand the structure and composition of our dataset, which is critical for performing accurate and meaningful analyses."
   ]
  },
  {
   "cell_type": "code",
   "execution_count": 57,
   "metadata": {},
   "outputs": [
    {
     "name": "stdout",
     "output_type": "stream",
     "text": [
      "<class 'pandas.core.frame.DataFrame'>\n",
      "RangeIndex: 1987 entries, 0 to 1986\n",
      "Data columns (total 10 columns):\n",
      " #   Column               Non-Null Count  Dtype \n",
      "---  ------               --------------  ----- \n",
      " 0   Unnamed: 0           1987 non-null   int64 \n",
      " 1   Age                  1987 non-null   int64 \n",
      " 2   Employment Type      1987 non-null   object\n",
      " 3   GraduateOrNot        1987 non-null   object\n",
      " 4   AnnualIncome         1987 non-null   int64 \n",
      " 5   FamilyMembers        1987 non-null   int64 \n",
      " 6   ChronicDiseases      1987 non-null   int64 \n",
      " 7   FrequentFlyer        1987 non-null   object\n",
      " 8   EverTravelledAbroad  1987 non-null   object\n",
      " 9   TravelInsurance      1987 non-null   int64 \n",
      "dtypes: int64(6), object(4)\n",
      "memory usage: 155.4+ KB\n"
     ]
    }
   ],
   "source": [
    "\n",
    "\n",
    "data.info()\n",
    "\n"
   ]
  },
  {
   "attachments": {},
   "cell_type": "markdown",
   "metadata": {},
   "source": [
    "Let's check for the unique values in the object columns of our dataset. There are four object columns in the dataset, which may contain categorical variables. The .unique() function in Pandas can be used to return an array of unique values in a specified column of a Pandas dataframe. By using this method for each of the object columns, we can get an understanding of the range of categorical variables present in the dataset. This information can help us later when we encode these variables as numerical values for use in our model."
   ]
  },
  {
   "cell_type": "code",
   "execution_count": 58,
   "metadata": {},
   "outputs": [
    {
     "data": {
      "text/plain": [
       "array([0, 1], dtype=int64)"
      ]
     },
     "execution_count": 58,
     "metadata": {},
     "output_type": "execute_result"
    }
   ],
   "source": [
    "\n",
    "\n",
    "data['TravelInsurance'].unique()\n",
    "\n"
   ]
  },
  {
   "cell_type": "code",
   "execution_count": 59,
   "metadata": {},
   "outputs": [
    {
     "data": {
      "text/plain": [
       "0    1277\n",
       "1     710\n",
       "Name: TravelInsurance, dtype: int64"
      ]
     },
     "execution_count": 59,
     "metadata": {},
     "output_type": "execute_result"
    }
   ],
   "source": [
    "\n",
    "\n",
    "data['TravelInsurance'].value_counts()\n",
    "\n"
   ]
  },
  {
   "cell_type": "code",
   "execution_count": 60,
   "metadata": {},
   "outputs": [
    {
     "data": {
      "text/plain": [
       "array(['Government Sector', 'Private Sector/Self Employed'], dtype=object)"
      ]
     },
     "execution_count": 60,
     "metadata": {},
     "output_type": "execute_result"
    }
   ],
   "source": [
    "\n",
    "\n",
    "data['Employment Type'].unique()\n",
    "\n"
   ]
  },
  {
   "cell_type": "code",
   "execution_count": 61,
   "metadata": {},
   "outputs": [
    {
     "data": {
      "text/plain": [
       "array(['No', 'Yes'], dtype=object)"
      ]
     },
     "execution_count": 61,
     "metadata": {},
     "output_type": "execute_result"
    }
   ],
   "source": [
    "\n",
    "\n",
    "data['FrequentFlyer'].unique()\n",
    "\n"
   ]
  },
  {
   "cell_type": "code",
   "execution_count": 62,
   "metadata": {},
   "outputs": [
    {
     "data": {
      "text/plain": [
       "array(['Yes', 'No'], dtype=object)"
      ]
     },
     "execution_count": 62,
     "metadata": {},
     "output_type": "execute_result"
    }
   ],
   "source": [
    "\n",
    "\n",
    "data['GraduateOrNot'].unique()\n",
    "\n"
   ]
  },
  {
   "attachments": {},
   "cell_type": "markdown",
   "metadata": {},
   "source": [
    "In the dataset, the target variable to be predicted is the \"TravelInsurance\" column. This column contains values of 0 and 1, where 0 indicates that the travel insurance policy was not purchased, and 1 indicates that it was purchased. To make it easier to interpret and visualize the data during analysis, it is recommended to replace 0 and 1 with \"Not Purchased\" and \"Purchased\", respectively."
   ]
  },
  {
   "cell_type": "code",
   "execution_count": 63,
   "metadata": {},
   "outputs": [],
   "source": [
    "\n",
    "\n",
    "data[\"TravelInsurance\"] = data[\"TravelInsurance\"].map({0: \"Not Purchased\", 1: \"Purchased\"})\n"
   ]
  },
  {
   "attachments": {},
   "cell_type": "markdown",
   "metadata": {},
   "source": [
    "### WHAT AFFECTS THE PURCHASE OF TRAVEL INSURANCE ?"
   ]
  },
  {
   "attachments": {},
   "cell_type": "markdown",
   "metadata": {},
   "source": [
    "\n",
    "let’s start by looking at the age column to see how age affects the purchase of an insurance policy.\n",
    "\n",
    "\n",
    "\n",
    "The lines of code are creating a histogram using the Plotly Express library. The histogram is based on the \"Age\" column of the data DataFrame and is colored based on the \"TravelInsurance\" column. The resulting histogram provides insights into the distribution of age for those who purchased travel insurance versus those who did not. The final line of code displays the histogram in the output."
   ]
  },
  {
   "cell_type": "code",
   "execution_count": 64,
   "metadata": {},
   "outputs": [
    {
     "data": {
      "application/vnd.plotly.v1+json": {
       "config": {
        "plotlyServerURL": "https://plot.ly"
       },
       "data": [
        {
         "alignmentgroup": "True",
         "bingroup": "x",
         "hovertemplate": "TravelInsurance=Not Purchased<br>Age=%{x}<br>count=%{y}<extra></extra>",
         "legendgroup": "Not Purchased",
         "marker": {
          "color": "#636efa",
          "pattern": {
           "shape": ""
          }
         },
         "name": "Not Purchased",
         "offsetgroup": "Not Purchased",
         "orientation": "v",
         "showlegend": true,
         "type": "histogram",
         "x": [
          31,
          31,
          28,
          28,
          25,
          31,
          33,
          31,
          31,
          34,
          28,
          28,
          31,
          31,
          35,
          28,
          26,
          31,
          30,
          31,
          32,
          33,
          31,
          34,
          34,
          33,
          35,
          28,
          31,
          29,
          31,
          28,
          29,
          26,
          31,
          28,
          27,
          26,
          30,
          29,
          31,
          34,
          28,
          28,
          28,
          28,
          34,
          31,
          31,
          26,
          25,
          28,
          32,
          32,
          28,
          34,
          28,
          27,
          28,
          28,
          34,
          28,
          29,
          29,
          29,
          29,
          28,
          28,
          34,
          34,
          31,
          28,
          30,
          29,
          29,
          29,
          31,
          31,
          28,
          32,
          27,
          32,
          32,
          27,
          29,
          28,
          28,
          28,
          28,
          29,
          28,
          28,
          25,
          32,
          26,
          31,
          28,
          31,
          28,
          28,
          25,
          28,
          28,
          28,
          27,
          32,
          28,
          33,
          28,
          31,
          27,
          25,
          28,
          27,
          30,
          28,
          32,
          26,
          28,
          26,
          25,
          25,
          28,
          26,
          27,
          30,
          28,
          34,
          33,
          29,
          28,
          32,
          29,
          31,
          25,
          28,
          27,
          28,
          27,
          33,
          28,
          26,
          31,
          35,
          28,
          28,
          30,
          31,
          31,
          34,
          34,
          34,
          29,
          31,
          28,
          31,
          34,
          30,
          30,
          29,
          26,
          27,
          33,
          26,
          27,
          28,
          31,
          28,
          28,
          28,
          29,
          26,
          35,
          29,
          27,
          31,
          27,
          35,
          28,
          29,
          31,
          32,
          32,
          26,
          26,
          33,
          28,
          29,
          29,
          26,
          32,
          34,
          27,
          29,
          28,
          32,
          27,
          27,
          31,
          34,
          26,
          28,
          34,
          30,
          32,
          28,
          31,
          35,
          28,
          28,
          28,
          31,
          28,
          34,
          28,
          35,
          31,
          32,
          30,
          28,
          29,
          27,
          28,
          28,
          32,
          29,
          34,
          31,
          28,
          31,
          29,
          31,
          34,
          34,
          34,
          25,
          28,
          28,
          34,
          31,
          28,
          31,
          32,
          27,
          29,
          28,
          28,
          28,
          31,
          28,
          29,
          29,
          33,
          34,
          28,
          28,
          29,
          32,
          25,
          28,
          35,
          29,
          34,
          31,
          28,
          32,
          31,
          28,
          28,
          28,
          28,
          28,
          34,
          25,
          34,
          28,
          29,
          25,
          28,
          32,
          28,
          34,
          28,
          28,
          27,
          33,
          28,
          29,
          27,
          28,
          29,
          31,
          28,
          31,
          28,
          35,
          25,
          26,
          26,
          33,
          28,
          26,
          28,
          28,
          26,
          28,
          31,
          29,
          34,
          29,
          32,
          28,
          27,
          33,
          28,
          30,
          29,
          34,
          29,
          34,
          31,
          26,
          29,
          32,
          31,
          31,
          29,
          28,
          28,
          32,
          31,
          31,
          29,
          27,
          27,
          31,
          35,
          28,
          33,
          32,
          26,
          31,
          28,
          25,
          28,
          29,
          28,
          29,
          30,
          28,
          33,
          29,
          27,
          34,
          31,
          26,
          28,
          27,
          28,
          34,
          27,
          33,
          32,
          26,
          33,
          27,
          34,
          29,
          33,
          29,
          28,
          27,
          35,
          27,
          25,
          32,
          28,
          27,
          29,
          34,
          33,
          31,
          28,
          29,
          29,
          28,
          28,
          25,
          28,
          33,
          25,
          34,
          34,
          34,
          32,
          28,
          28,
          31,
          28,
          28,
          31,
          34,
          28,
          27,
          29,
          28,
          32,
          28,
          34,
          31,
          28,
          27,
          28,
          25,
          28,
          34,
          28,
          34,
          28,
          34,
          31,
          27,
          34,
          26,
          28,
          32,
          28,
          28,
          28,
          28,
          27,
          32,
          28,
          31,
          34,
          28,
          28,
          26,
          28,
          28,
          26,
          33,
          26,
          28,
          29,
          27,
          27,
          27,
          29,
          27,
          26,
          28,
          28,
          25,
          28,
          33,
          27,
          33,
          31,
          31,
          27,
          28,
          32,
          32,
          28,
          27,
          27,
          34,
          28,
          34,
          28,
          28,
          28,
          27,
          34,
          27,
          34,
          29,
          25,
          28,
          27,
          28,
          30,
          27,
          28,
          30,
          28,
          29,
          29,
          28,
          27,
          28,
          35,
          33,
          32,
          29,
          28,
          27,
          27,
          28,
          28,
          27,
          29,
          34,
          28,
          30,
          28,
          35,
          31,
          28,
          32,
          27,
          27,
          31,
          28,
          29,
          29,
          29,
          34,
          34,
          28,
          26,
          32,
          28,
          28,
          31,
          31,
          29,
          27,
          29,
          30,
          29,
          26,
          33,
          30,
          29,
          25,
          34,
          28,
          25,
          29,
          28,
          32,
          28,
          26,
          27,
          35,
          29,
          29,
          29,
          29,
          33,
          28,
          28,
          35,
          34,
          32,
          27,
          31,
          32,
          26,
          27,
          28,
          34,
          28,
          29,
          26,
          33,
          28,
          35,
          25,
          27,
          28,
          29,
          28,
          26,
          28,
          29,
          26,
          32,
          28,
          28,
          35,
          29,
          29,
          31,
          33,
          31,
          31,
          33,
          28,
          28,
          28,
          34,
          34,
          34,
          27,
          32,
          28,
          28,
          32,
          33,
          29,
          28,
          31,
          30,
          28,
          28,
          28,
          33,
          28,
          34,
          25,
          29,
          33,
          28,
          35,
          29,
          28,
          29,
          34,
          28,
          27,
          31,
          28,
          33,
          25,
          29,
          31,
          31,
          27,
          28,
          26,
          32,
          30,
          28,
          27,
          27,
          28,
          31,
          28,
          34,
          28,
          27,
          28,
          28,
          29,
          31,
          31,
          27,
          28,
          27,
          29,
          25,
          29,
          28,
          31,
          25,
          27,
          28,
          25,
          25,
          31,
          34,
          29,
          31,
          34,
          28,
          28,
          26,
          31,
          30,
          28,
          33,
          25,
          29,
          33,
          25,
          29,
          31,
          31,
          28,
          27,
          32,
          35,
          31,
          32,
          28,
          29,
          28,
          28,
          33,
          27,
          31,
          28,
          34,
          32,
          27,
          31,
          34,
          28,
          29,
          25,
          29,
          28,
          28,
          31,
          28,
          26,
          29,
          34,
          28,
          28,
          34,
          29,
          34,
          34,
          34,
          29,
          34,
          35,
          33,
          33,
          34,
          28,
          33,
          28,
          31,
          29,
          28,
          29,
          30,
          33,
          28,
          31,
          35,
          28,
          26,
          28,
          33,
          27,
          27,
          31,
          28,
          29,
          28,
          28,
          28,
          34,
          34,
          31,
          29,
          29,
          34,
          34,
          28,
          34,
          31,
          30,
          33,
          34,
          34,
          27,
          26,
          28,
          28,
          29,
          35,
          33,
          31,
          29,
          26,
          34,
          31,
          25,
          34,
          31,
          28,
          33,
          28,
          28,
          28,
          33,
          26,
          31,
          34,
          31,
          31,
          28,
          28,
          28,
          29,
          33,
          31,
          29,
          31,
          31,
          27,
          34,
          28,
          28,
          31,
          28,
          28,
          25,
          26,
          26,
          28,
          28,
          28,
          34,
          28,
          28,
          30,
          28,
          31,
          34,
          31,
          31,
          29,
          34,
          29,
          29,
          28,
          33,
          26,
          28,
          34,
          28,
          28,
          33,
          28,
          28,
          29,
          28,
          28,
          31,
          28,
          28,
          28,
          28,
          31,
          34,
          29,
          25,
          26,
          31,
          34,
          34,
          28,
          28,
          33,
          29,
          28,
          25,
          28,
          28,
          34,
          28,
          29,
          28,
          33,
          28,
          31,
          33,
          30,
          30,
          34,
          28,
          29,
          34,
          31,
          34,
          28,
          28,
          28,
          27,
          34,
          35,
          34,
          27,
          28,
          27,
          32,
          31,
          33,
          30,
          35,
          32,
          28,
          25,
          29,
          28,
          26,
          28,
          33,
          31,
          28,
          28,
          34,
          26,
          35,
          27,
          33,
          28,
          33,
          31,
          28,
          26,
          34,
          31,
          32,
          34,
          31,
          26,
          31,
          28,
          31,
          32,
          29,
          25,
          30,
          27,
          28,
          28,
          31,
          28,
          28,
          31,
          35,
          29,
          32,
          31,
          28,
          33,
          28,
          29,
          28,
          28,
          34,
          28,
          27,
          33,
          28,
          28,
          34,
          32,
          32,
          28,
          25,
          27,
          32,
          28,
          33,
          28,
          28,
          28,
          29,
          34,
          27,
          28,
          27,
          28,
          26,
          26,
          28,
          32,
          34,
          28,
          31,
          27,
          29,
          30,
          28,
          26,
          27,
          28,
          26,
          31,
          34,
          28,
          28,
          32,
          29,
          30,
          27,
          28,
          28,
          28,
          31,
          32,
          32,
          34,
          28,
          28,
          31,
          30,
          28,
          29,
          27,
          28,
          25,
          33,
          28,
          30,
          28,
          27,
          28,
          28,
          31,
          28,
          28,
          28,
          31,
          30,
          28,
          26,
          34,
          31,
          31,
          32,
          27,
          28,
          28,
          28,
          29,
          26,
          33,
          27,
          33,
          28,
          30,
          28,
          28,
          25,
          27,
          31,
          26,
          29,
          34,
          33,
          32,
          25,
          34,
          31,
          28,
          26,
          28,
          31,
          28,
          25,
          34,
          28,
          28,
          28,
          26,
          28,
          35,
          29,
          28,
          28,
          28,
          25,
          31,
          28,
          29,
          28,
          34,
          28,
          28,
          31,
          29,
          30,
          28,
          28,
          28,
          31,
          31,
          27,
          29,
          31,
          35,
          28,
          29,
          29,
          28,
          31,
          27,
          31,
          26,
          28,
          33,
          35,
          28,
          28,
          28,
          27,
          28,
          31,
          29,
          32,
          28,
          28,
          26,
          31,
          31,
          29,
          31,
          34,
          34,
          27,
          29,
          29,
          26,
          28,
          28,
          28,
          34,
          31,
          28,
          33,
          28,
          28,
          26,
          34,
          25,
          26,
          25,
          30,
          28,
          29,
          32,
          26,
          28,
          29,
          34,
          28,
          28,
          32,
          29,
          34,
          28,
          31,
          29,
          34,
          25,
          31,
          34,
          26,
          28,
          28,
          28,
          27,
          28,
          28,
          25,
          29,
          31,
          28,
          29,
          26,
          28,
          28,
          27,
          29,
          28,
          34,
          26,
          28,
          35,
          28,
          29,
          29,
          28,
          31,
          29,
          29,
          31,
          31,
          33,
          34,
          28,
          32,
          28,
          32,
          34,
          28,
          27,
          28,
          32,
          31,
          28,
          28,
          28,
          34,
          26,
          27,
          32,
          28,
          34,
          28,
          34,
          28,
          29,
          34,
          29,
          28,
          27,
          27,
          35,
          32,
          31,
          26,
          31,
          28,
          28,
          32,
          28,
          26,
          25,
          31,
          27,
          28,
          33,
          28,
          25,
          28,
          28,
          28,
          34,
          33,
          30,
          28,
          28,
          28,
          32,
          31,
          34,
          26,
          33,
          33,
          31,
          34,
          35,
          28,
          25,
          33,
          34,
          34,
          27,
          25,
          28,
          29,
          32,
          28,
          27,
          30,
          33,
          31,
          31,
          28,
          26,
          25,
          28,
          34,
          34,
          28,
          31,
          31,
          28,
          28,
          32,
          28,
          25,
          28,
          28,
          34
         ],
         "xaxis": "x",
         "yaxis": "y"
        },
        {
         "alignmentgroup": "True",
         "bingroup": "x",
         "hovertemplate": "TravelInsurance=Purchased<br>Age=%{x}<br>count=%{y}<extra></extra>",
         "legendgroup": "Purchased",
         "marker": {
          "color": "#EF553B",
          "pattern": {
           "shape": ""
          }
         },
         "name": "Purchased",
         "offsetgroup": "Purchased",
         "orientation": "v",
         "showlegend": true,
         "type": "histogram",
         "x": [
          34,
          31,
          28,
          26,
          32,
          31,
          28,
          29,
          34,
          29,
          28,
          34,
          25,
          28,
          33,
          25,
          26,
          28,
          25,
          34,
          25,
          31,
          28,
          34,
          33,
          33,
          32,
          30,
          34,
          29,
          31,
          34,
          25,
          33,
          26,
          28,
          33,
          26,
          26,
          25,
          28,
          31,
          26,
          29,
          31,
          25,
          28,
          29,
          35,
          30,
          25,
          28,
          29,
          34,
          31,
          31,
          34,
          34,
          31,
          26,
          34,
          34,
          35,
          28,
          28,
          26,
          25,
          34,
          25,
          30,
          27,
          31,
          28,
          25,
          29,
          26,
          34,
          34,
          26,
          35,
          27,
          34,
          34,
          29,
          28,
          34,
          34,
          33,
          33,
          26,
          28,
          33,
          34,
          34,
          34,
          32,
          26,
          32,
          26,
          28,
          31,
          35,
          25,
          32,
          34,
          33,
          33,
          34,
          25,
          26,
          32,
          34,
          25,
          33,
          34,
          33,
          31,
          29,
          28,
          28,
          25,
          31,
          25,
          28,
          29,
          25,
          35,
          31,
          27,
          25,
          27,
          31,
          28,
          31,
          33,
          28,
          31,
          28,
          33,
          33,
          28,
          25,
          25,
          33,
          31,
          31,
          34,
          25,
          29,
          25,
          26,
          34,
          34,
          34,
          34,
          25,
          28,
          33,
          31,
          34,
          26,
          34,
          25,
          35,
          34,
          26,
          25,
          25,
          34,
          33,
          34,
          34,
          33,
          34,
          28,
          28,
          26,
          28,
          28,
          28,
          28,
          31,
          29,
          25,
          35,
          31,
          27,
          31,
          29,
          26,
          26,
          25,
          29,
          26,
          33,
          35,
          29,
          31,
          27,
          29,
          34,
          29,
          35,
          26,
          25,
          31,
          35,
          34,
          34,
          33,
          28,
          28,
          28,
          30,
          31,
          35,
          33,
          25,
          26,
          34,
          26,
          33,
          33,
          28,
          30,
          32,
          34,
          30,
          25,
          29,
          26,
          34,
          33,
          34,
          25,
          33,
          28,
          29,
          33,
          33,
          26,
          34,
          28,
          28,
          29,
          33,
          30,
          25,
          34,
          31,
          34,
          28,
          33,
          34,
          34,
          34,
          34,
          34,
          28,
          28,
          33,
          34,
          26,
          34,
          29,
          25,
          25,
          27,
          31,
          28,
          32,
          35,
          28,
          34,
          31,
          30,
          27,
          34,
          30,
          27,
          28,
          34,
          29,
          32,
          34,
          34,
          34,
          31,
          33,
          28,
          26,
          28,
          34,
          29,
          28,
          34,
          28,
          30,
          31,
          31,
          33,
          32,
          26,
          29,
          28,
          35,
          31,
          33,
          30,
          28,
          25,
          29,
          34,
          26,
          26,
          31,
          31,
          26,
          33,
          26,
          34,
          33,
          26,
          26,
          34,
          27,
          27,
          28,
          31,
          25,
          25,
          29,
          34,
          28,
          34,
          25,
          28,
          26,
          33,
          25,
          34,
          26,
          26,
          30,
          34,
          35,
          25,
          25,
          33,
          33,
          29,
          30,
          31,
          26,
          34,
          26,
          34,
          26,
          34,
          35,
          26,
          26,
          27,
          28,
          25,
          32,
          31,
          32,
          25,
          29,
          30,
          32,
          25,
          31,
          34,
          25,
          29,
          34,
          27,
          31,
          26,
          34,
          31,
          26,
          34,
          30,
          35,
          27,
          26,
          26,
          35,
          25,
          28,
          34,
          34,
          25,
          26,
          34,
          35,
          31,
          28,
          27,
          26,
          25,
          28,
          34,
          28,
          28,
          28,
          28,
          34,
          31,
          28,
          25,
          28,
          32,
          28,
          33,
          31,
          25,
          26,
          31,
          28,
          29,
          34,
          30,
          25,
          25,
          25,
          27,
          34,
          33,
          34,
          33,
          31,
          34,
          34,
          34,
          33,
          33,
          26,
          28,
          25,
          34,
          28,
          34,
          33,
          33,
          27,
          33,
          31,
          33,
          25,
          33,
          31,
          34,
          30,
          29,
          25,
          31,
          31,
          34,
          35,
          27,
          28,
          34,
          29,
          33,
          28,
          28,
          31,
          31,
          25,
          31,
          31,
          34,
          33,
          30,
          33,
          31,
          25,
          28,
          34,
          28,
          25,
          26,
          25,
          26,
          33,
          26,
          30,
          26,
          32,
          26,
          28,
          27,
          29,
          28,
          33,
          28,
          26,
          28,
          25,
          28,
          25,
          30,
          25,
          27,
          31,
          28,
          34,
          33,
          28,
          29,
          26,
          31,
          30,
          31,
          25,
          34,
          32,
          25,
          25,
          28,
          31,
          34,
          30,
          33,
          29,
          29,
          34,
          31,
          33,
          25,
          25,
          34,
          35,
          33,
          25,
          34,
          29,
          26,
          25,
          29,
          33,
          25,
          25,
          28,
          34,
          26,
          31,
          28,
          29,
          30,
          31,
          31,
          33,
          33,
          33,
          29,
          33,
          34,
          34,
          28,
          28,
          26,
          30,
          29,
          34,
          33,
          34,
          28,
          33,
          25,
          28,
          25,
          25,
          25,
          28,
          29,
          26,
          26,
          31,
          34,
          27,
          34,
          33,
          25,
          28,
          29,
          31,
          35,
          29,
          25,
          28,
          28,
          25,
          34,
          34,
          26,
          25,
          29,
          34,
          26,
          34,
          29,
          28,
          33,
          27,
          31,
          26,
          35,
          26,
          31,
          28,
          26,
          31,
          28,
          34,
          34,
          25,
          30,
          34,
          28,
          34,
          35,
          33,
          35,
          33,
          33,
          30,
          29,
          34,
          34,
          35,
          26,
          33,
          25,
          29,
          34,
          34,
          34,
          28,
          25,
          26,
          33,
          26,
          29,
          28,
          33,
          29,
          25,
          25,
          25,
          32,
          31,
          25,
          28,
          28,
          34,
          27,
          30,
          31,
          26,
          35,
          25,
          31,
          25,
          34,
          26,
          34,
          28,
          27,
          34,
          31,
          28,
          28,
          31,
          35,
          33,
          28,
          28,
          27,
          34,
          33,
          25,
          34,
          34,
          28,
          33,
          27,
          34,
          28,
          32,
          35,
          34,
          31,
          34,
          32,
          28,
          33,
          30,
          29,
          31,
          26,
          25,
          34,
          27,
          33,
          34
         ],
         "xaxis": "x",
         "yaxis": "y"
        }
       ],
       "layout": {
        "barmode": "relative",
        "legend": {
         "title": {
          "text": "TravelInsurance"
         },
         "tracegroupgap": 0
        },
        "template": {
         "data": {
          "bar": [
           {
            "error_x": {
             "color": "#2a3f5f"
            },
            "error_y": {
             "color": "#2a3f5f"
            },
            "marker": {
             "line": {
              "color": "#E5ECF6",
              "width": 0.5
             },
             "pattern": {
              "fillmode": "overlay",
              "size": 10,
              "solidity": 0.2
             }
            },
            "type": "bar"
           }
          ],
          "barpolar": [
           {
            "marker": {
             "line": {
              "color": "#E5ECF6",
              "width": 0.5
             },
             "pattern": {
              "fillmode": "overlay",
              "size": 10,
              "solidity": 0.2
             }
            },
            "type": "barpolar"
           }
          ],
          "carpet": [
           {
            "aaxis": {
             "endlinecolor": "#2a3f5f",
             "gridcolor": "white",
             "linecolor": "white",
             "minorgridcolor": "white",
             "startlinecolor": "#2a3f5f"
            },
            "baxis": {
             "endlinecolor": "#2a3f5f",
             "gridcolor": "white",
             "linecolor": "white",
             "minorgridcolor": "white",
             "startlinecolor": "#2a3f5f"
            },
            "type": "carpet"
           }
          ],
          "choropleth": [
           {
            "colorbar": {
             "outlinewidth": 0,
             "ticks": ""
            },
            "type": "choropleth"
           }
          ],
          "contour": [
           {
            "colorbar": {
             "outlinewidth": 0,
             "ticks": ""
            },
            "colorscale": [
             [
              0,
              "#0d0887"
             ],
             [
              0.1111111111111111,
              "#46039f"
             ],
             [
              0.2222222222222222,
              "#7201a8"
             ],
             [
              0.3333333333333333,
              "#9c179e"
             ],
             [
              0.4444444444444444,
              "#bd3786"
             ],
             [
              0.5555555555555556,
              "#d8576b"
             ],
             [
              0.6666666666666666,
              "#ed7953"
             ],
             [
              0.7777777777777778,
              "#fb9f3a"
             ],
             [
              0.8888888888888888,
              "#fdca26"
             ],
             [
              1,
              "#f0f921"
             ]
            ],
            "type": "contour"
           }
          ],
          "contourcarpet": [
           {
            "colorbar": {
             "outlinewidth": 0,
             "ticks": ""
            },
            "type": "contourcarpet"
           }
          ],
          "heatmap": [
           {
            "colorbar": {
             "outlinewidth": 0,
             "ticks": ""
            },
            "colorscale": [
             [
              0,
              "#0d0887"
             ],
             [
              0.1111111111111111,
              "#46039f"
             ],
             [
              0.2222222222222222,
              "#7201a8"
             ],
             [
              0.3333333333333333,
              "#9c179e"
             ],
             [
              0.4444444444444444,
              "#bd3786"
             ],
             [
              0.5555555555555556,
              "#d8576b"
             ],
             [
              0.6666666666666666,
              "#ed7953"
             ],
             [
              0.7777777777777778,
              "#fb9f3a"
             ],
             [
              0.8888888888888888,
              "#fdca26"
             ],
             [
              1,
              "#f0f921"
             ]
            ],
            "type": "heatmap"
           }
          ],
          "heatmapgl": [
           {
            "colorbar": {
             "outlinewidth": 0,
             "ticks": ""
            },
            "colorscale": [
             [
              0,
              "#0d0887"
             ],
             [
              0.1111111111111111,
              "#46039f"
             ],
             [
              0.2222222222222222,
              "#7201a8"
             ],
             [
              0.3333333333333333,
              "#9c179e"
             ],
             [
              0.4444444444444444,
              "#bd3786"
             ],
             [
              0.5555555555555556,
              "#d8576b"
             ],
             [
              0.6666666666666666,
              "#ed7953"
             ],
             [
              0.7777777777777778,
              "#fb9f3a"
             ],
             [
              0.8888888888888888,
              "#fdca26"
             ],
             [
              1,
              "#f0f921"
             ]
            ],
            "type": "heatmapgl"
           }
          ],
          "histogram": [
           {
            "marker": {
             "pattern": {
              "fillmode": "overlay",
              "size": 10,
              "solidity": 0.2
             }
            },
            "type": "histogram"
           }
          ],
          "histogram2d": [
           {
            "colorbar": {
             "outlinewidth": 0,
             "ticks": ""
            },
            "colorscale": [
             [
              0,
              "#0d0887"
             ],
             [
              0.1111111111111111,
              "#46039f"
             ],
             [
              0.2222222222222222,
              "#7201a8"
             ],
             [
              0.3333333333333333,
              "#9c179e"
             ],
             [
              0.4444444444444444,
              "#bd3786"
             ],
             [
              0.5555555555555556,
              "#d8576b"
             ],
             [
              0.6666666666666666,
              "#ed7953"
             ],
             [
              0.7777777777777778,
              "#fb9f3a"
             ],
             [
              0.8888888888888888,
              "#fdca26"
             ],
             [
              1,
              "#f0f921"
             ]
            ],
            "type": "histogram2d"
           }
          ],
          "histogram2dcontour": [
           {
            "colorbar": {
             "outlinewidth": 0,
             "ticks": ""
            },
            "colorscale": [
             [
              0,
              "#0d0887"
             ],
             [
              0.1111111111111111,
              "#46039f"
             ],
             [
              0.2222222222222222,
              "#7201a8"
             ],
             [
              0.3333333333333333,
              "#9c179e"
             ],
             [
              0.4444444444444444,
              "#bd3786"
             ],
             [
              0.5555555555555556,
              "#d8576b"
             ],
             [
              0.6666666666666666,
              "#ed7953"
             ],
             [
              0.7777777777777778,
              "#fb9f3a"
             ],
             [
              0.8888888888888888,
              "#fdca26"
             ],
             [
              1,
              "#f0f921"
             ]
            ],
            "type": "histogram2dcontour"
           }
          ],
          "mesh3d": [
           {
            "colorbar": {
             "outlinewidth": 0,
             "ticks": ""
            },
            "type": "mesh3d"
           }
          ],
          "parcoords": [
           {
            "line": {
             "colorbar": {
              "outlinewidth": 0,
              "ticks": ""
             }
            },
            "type": "parcoords"
           }
          ],
          "pie": [
           {
            "automargin": true,
            "type": "pie"
           }
          ],
          "scatter": [
           {
            "fillpattern": {
             "fillmode": "overlay",
             "size": 10,
             "solidity": 0.2
            },
            "type": "scatter"
           }
          ],
          "scatter3d": [
           {
            "line": {
             "colorbar": {
              "outlinewidth": 0,
              "ticks": ""
             }
            },
            "marker": {
             "colorbar": {
              "outlinewidth": 0,
              "ticks": ""
             }
            },
            "type": "scatter3d"
           }
          ],
          "scattercarpet": [
           {
            "marker": {
             "colorbar": {
              "outlinewidth": 0,
              "ticks": ""
             }
            },
            "type": "scattercarpet"
           }
          ],
          "scattergeo": [
           {
            "marker": {
             "colorbar": {
              "outlinewidth": 0,
              "ticks": ""
             }
            },
            "type": "scattergeo"
           }
          ],
          "scattergl": [
           {
            "marker": {
             "colorbar": {
              "outlinewidth": 0,
              "ticks": ""
             }
            },
            "type": "scattergl"
           }
          ],
          "scattermapbox": [
           {
            "marker": {
             "colorbar": {
              "outlinewidth": 0,
              "ticks": ""
             }
            },
            "type": "scattermapbox"
           }
          ],
          "scatterpolar": [
           {
            "marker": {
             "colorbar": {
              "outlinewidth": 0,
              "ticks": ""
             }
            },
            "type": "scatterpolar"
           }
          ],
          "scatterpolargl": [
           {
            "marker": {
             "colorbar": {
              "outlinewidth": 0,
              "ticks": ""
             }
            },
            "type": "scatterpolargl"
           }
          ],
          "scatterternary": [
           {
            "marker": {
             "colorbar": {
              "outlinewidth": 0,
              "ticks": ""
             }
            },
            "type": "scatterternary"
           }
          ],
          "surface": [
           {
            "colorbar": {
             "outlinewidth": 0,
             "ticks": ""
            },
            "colorscale": [
             [
              0,
              "#0d0887"
             ],
             [
              0.1111111111111111,
              "#46039f"
             ],
             [
              0.2222222222222222,
              "#7201a8"
             ],
             [
              0.3333333333333333,
              "#9c179e"
             ],
             [
              0.4444444444444444,
              "#bd3786"
             ],
             [
              0.5555555555555556,
              "#d8576b"
             ],
             [
              0.6666666666666666,
              "#ed7953"
             ],
             [
              0.7777777777777778,
              "#fb9f3a"
             ],
             [
              0.8888888888888888,
              "#fdca26"
             ],
             [
              1,
              "#f0f921"
             ]
            ],
            "type": "surface"
           }
          ],
          "table": [
           {
            "cells": {
             "fill": {
              "color": "#EBF0F8"
             },
             "line": {
              "color": "white"
             }
            },
            "header": {
             "fill": {
              "color": "#C8D4E3"
             },
             "line": {
              "color": "white"
             }
            },
            "type": "table"
           }
          ]
         },
         "layout": {
          "annotationdefaults": {
           "arrowcolor": "#2a3f5f",
           "arrowhead": 0,
           "arrowwidth": 1
          },
          "autotypenumbers": "strict",
          "coloraxis": {
           "colorbar": {
            "outlinewidth": 0,
            "ticks": ""
           }
          },
          "colorscale": {
           "diverging": [
            [
             0,
             "#8e0152"
            ],
            [
             0.1,
             "#c51b7d"
            ],
            [
             0.2,
             "#de77ae"
            ],
            [
             0.3,
             "#f1b6da"
            ],
            [
             0.4,
             "#fde0ef"
            ],
            [
             0.5,
             "#f7f7f7"
            ],
            [
             0.6,
             "#e6f5d0"
            ],
            [
             0.7,
             "#b8e186"
            ],
            [
             0.8,
             "#7fbc41"
            ],
            [
             0.9,
             "#4d9221"
            ],
            [
             1,
             "#276419"
            ]
           ],
           "sequential": [
            [
             0,
             "#0d0887"
            ],
            [
             0.1111111111111111,
             "#46039f"
            ],
            [
             0.2222222222222222,
             "#7201a8"
            ],
            [
             0.3333333333333333,
             "#9c179e"
            ],
            [
             0.4444444444444444,
             "#bd3786"
            ],
            [
             0.5555555555555556,
             "#d8576b"
            ],
            [
             0.6666666666666666,
             "#ed7953"
            ],
            [
             0.7777777777777778,
             "#fb9f3a"
            ],
            [
             0.8888888888888888,
             "#fdca26"
            ],
            [
             1,
             "#f0f921"
            ]
           ],
           "sequentialminus": [
            [
             0,
             "#0d0887"
            ],
            [
             0.1111111111111111,
             "#46039f"
            ],
            [
             0.2222222222222222,
             "#7201a8"
            ],
            [
             0.3333333333333333,
             "#9c179e"
            ],
            [
             0.4444444444444444,
             "#bd3786"
            ],
            [
             0.5555555555555556,
             "#d8576b"
            ],
            [
             0.6666666666666666,
             "#ed7953"
            ],
            [
             0.7777777777777778,
             "#fb9f3a"
            ],
            [
             0.8888888888888888,
             "#fdca26"
            ],
            [
             1,
             "#f0f921"
            ]
           ]
          },
          "colorway": [
           "#636efa",
           "#EF553B",
           "#00cc96",
           "#ab63fa",
           "#FFA15A",
           "#19d3f3",
           "#FF6692",
           "#B6E880",
           "#FF97FF",
           "#FECB52"
          ],
          "font": {
           "color": "#2a3f5f"
          },
          "geo": {
           "bgcolor": "white",
           "lakecolor": "white",
           "landcolor": "#E5ECF6",
           "showlakes": true,
           "showland": true,
           "subunitcolor": "white"
          },
          "hoverlabel": {
           "align": "left"
          },
          "hovermode": "closest",
          "mapbox": {
           "style": "light"
          },
          "paper_bgcolor": "white",
          "plot_bgcolor": "#E5ECF6",
          "polar": {
           "angularaxis": {
            "gridcolor": "white",
            "linecolor": "white",
            "ticks": ""
           },
           "bgcolor": "#E5ECF6",
           "radialaxis": {
            "gridcolor": "white",
            "linecolor": "white",
            "ticks": ""
           }
          },
          "scene": {
           "xaxis": {
            "backgroundcolor": "#E5ECF6",
            "gridcolor": "white",
            "gridwidth": 2,
            "linecolor": "white",
            "showbackground": true,
            "ticks": "",
            "zerolinecolor": "white"
           },
           "yaxis": {
            "backgroundcolor": "#E5ECF6",
            "gridcolor": "white",
            "gridwidth": 2,
            "linecolor": "white",
            "showbackground": true,
            "ticks": "",
            "zerolinecolor": "white"
           },
           "zaxis": {
            "backgroundcolor": "#E5ECF6",
            "gridcolor": "white",
            "gridwidth": 2,
            "linecolor": "white",
            "showbackground": true,
            "ticks": "",
            "zerolinecolor": "white"
           }
          },
          "shapedefaults": {
           "line": {
            "color": "#2a3f5f"
           }
          },
          "ternary": {
           "aaxis": {
            "gridcolor": "white",
            "linecolor": "white",
            "ticks": ""
           },
           "baxis": {
            "gridcolor": "white",
            "linecolor": "white",
            "ticks": ""
           },
           "bgcolor": "#E5ECF6",
           "caxis": {
            "gridcolor": "white",
            "linecolor": "white",
            "ticks": ""
           }
          },
          "title": {
           "x": 0.05
          },
          "xaxis": {
           "automargin": true,
           "gridcolor": "white",
           "linecolor": "white",
           "ticks": "",
           "title": {
            "standoff": 15
           },
           "zerolinecolor": "white",
           "zerolinewidth": 2
          },
          "yaxis": {
           "automargin": true,
           "gridcolor": "white",
           "linecolor": "white",
           "ticks": "",
           "title": {
            "standoff": 15
           },
           "zerolinecolor": "white",
           "zerolinewidth": 2
          }
         }
        },
        "title": {
         "text": "FACTORS AFFECTING PURCHASE OF TRAVEL INSURANCE: AGE"
        },
        "xaxis": {
         "anchor": "y",
         "domain": [
          0,
          1
         ],
         "title": {
          "text": "Age"
         }
        },
        "yaxis": {
         "anchor": "x",
         "domain": [
          0,
          1
         ],
         "title": {
          "text": "count"
         }
        }
       }
      }
     },
     "metadata": {},
     "output_type": "display_data"
    }
   ],
   "source": [
    "\n",
    "\n",
    "data = data\n",
    "figure = px.histogram(data, x = \"Age\", \n",
    "                      color = \"TravelInsurance\", \n",
    "                      title= \"FACTORS AFFECTING PURCHASE OF TRAVEL INSURANCE: AGE\")\n",
    "figure.show()\n",
    "\n"
   ]
  },
  {
   "attachments": {},
   "cell_type": "markdown",
   "metadata": {},
   "source": [
    "Based on the analysis of the visualization, individuals who are around 34 years old have a higher likelihood of purchasing an insurance policy, while individuals around 28 years old have a significantly lower likelihood of purchasing an insurance policy."
   ]
  },
  {
   "attachments": {},
   "cell_type": "markdown",
   "metadata": {},
   "source": [
    "**How does a person’s type of employment affects the purchase of an insurance policy?**\n",
    "\n",
    "This line of code creates a histogram using Plotly Express library's px.histogram() function to visualize the relationship between Employment Type and Travel Insurance. The data DataFrame is used as the first argument, while the \"Employment Type\" column is specified as the x argument for the histogram. The histogram bars are colored based on the \"TravelInsurance\" column using the color argument, and the title of the histogram is specified using the title argument."
   ]
  },
  {
   "cell_type": "code",
   "execution_count": 65,
   "metadata": {},
   "outputs": [
    {
     "data": {
      "application/vnd.plotly.v1+json": {
       "config": {
        "plotlyServerURL": "https://plot.ly"
       },
       "data": [
        {
         "alignmentgroup": "True",
         "bingroup": "x",
         "hovertemplate": "TravelInsurance=Not Purchased<br>Employment Type=%{x}<br>count=%{y}<extra></extra>",
         "legendgroup": "Not Purchased",
         "marker": {
          "color": "#636efa",
          "pattern": {
           "shape": ""
          }
         },
         "name": "Not Purchased",
         "offsetgroup": "Not Purchased",
         "orientation": "v",
         "showlegend": true,
         "type": "histogram",
         "x": [
          "Government Sector",
          "Private Sector/Self Employed",
          "Private Sector/Self Employed",
          "Private Sector/Self Employed",
          "Private Sector/Self Employed",
          "Government Sector",
          "Government Sector",
          "Government Sector",
          "Government Sector",
          "Private Sector/Self Employed",
          "Private Sector/Self Employed",
          "Private Sector/Self Employed",
          "Private Sector/Self Employed",
          "Government Sector",
          "Private Sector/Self Employed",
          "Private Sector/Self Employed",
          "Private Sector/Self Employed",
          "Private Sector/Self Employed",
          "Private Sector/Self Employed",
          "Government Sector",
          "Government Sector",
          "Private Sector/Self Employed",
          "Government Sector",
          "Private Sector/Self Employed",
          "Government Sector",
          "Private Sector/Self Employed",
          "Government Sector",
          "Private Sector/Self Employed",
          "Private Sector/Self Employed",
          "Private Sector/Self Employed",
          "Private Sector/Self Employed",
          "Government Sector",
          "Private Sector/Self Employed",
          "Private Sector/Self Employed",
          "Private Sector/Self Employed",
          "Private Sector/Self Employed",
          "Government Sector",
          "Private Sector/Self Employed",
          "Private Sector/Self Employed",
          "Private Sector/Self Employed",
          "Government Sector",
          "Government Sector",
          "Private Sector/Self Employed",
          "Private Sector/Self Employed",
          "Private Sector/Self Employed",
          "Private Sector/Self Employed",
          "Private Sector/Self Employed",
          "Government Sector",
          "Government Sector",
          "Private Sector/Self Employed",
          "Private Sector/Self Employed",
          "Private Sector/Self Employed",
          "Government Sector",
          "Government Sector",
          "Government Sector",
          "Private Sector/Self Employed",
          "Government Sector",
          "Government Sector",
          "Government Sector",
          "Private Sector/Self Employed",
          "Private Sector/Self Employed",
          "Private Sector/Self Employed",
          "Private Sector/Self Employed",
          "Private Sector/Self Employed",
          "Government Sector",
          "Private Sector/Self Employed",
          "Private Sector/Self Employed",
          "Private Sector/Self Employed",
          "Private Sector/Self Employed",
          "Private Sector/Self Employed",
          "Government Sector",
          "Private Sector/Self Employed",
          "Private Sector/Self Employed",
          "Private Sector/Self Employed",
          "Private Sector/Self Employed",
          "Private Sector/Self Employed",
          "Government Sector",
          "Private Sector/Self Employed",
          "Private Sector/Self Employed",
          "Government Sector",
          "Government Sector",
          "Government Sector",
          "Government Sector",
          "Government Sector",
          "Private Sector/Self Employed",
          "Private Sector/Self Employed",
          "Private Sector/Self Employed",
          "Private Sector/Self Employed",
          "Private Sector/Self Employed",
          "Private Sector/Self Employed",
          "Private Sector/Self Employed",
          "Private Sector/Self Employed",
          "Private Sector/Self Employed",
          "Government Sector",
          "Private Sector/Self Employed",
          "Private Sector/Self Employed",
          "Private Sector/Self Employed",
          "Government Sector",
          "Private Sector/Self Employed",
          "Private Sector/Self Employed",
          "Private Sector/Self Employed",
          "Private Sector/Self Employed",
          "Private Sector/Self Employed",
          "Private Sector/Self Employed",
          "Government Sector",
          "Government Sector",
          "Government Sector",
          "Government Sector",
          "Private Sector/Self Employed",
          "Government Sector",
          "Government Sector",
          "Private Sector/Self Employed",
          "Private Sector/Self Employed",
          "Private Sector/Self Employed",
          "Private Sector/Self Employed",
          "Private Sector/Self Employed",
          "Government Sector",
          "Private Sector/Self Employed",
          "Private Sector/Self Employed",
          "Private Sector/Self Employed",
          "Private Sector/Self Employed",
          "Government Sector",
          "Private Sector/Self Employed",
          "Government Sector",
          "Government Sector",
          "Private Sector/Self Employed",
          "Private Sector/Self Employed",
          "Private Sector/Self Employed",
          "Government Sector",
          "Private Sector/Self Employed",
          "Private Sector/Self Employed",
          "Government Sector",
          "Private Sector/Self Employed",
          "Government Sector",
          "Private Sector/Self Employed",
          "Private Sector/Self Employed",
          "Private Sector/Self Employed",
          "Private Sector/Self Employed",
          "Government Sector",
          "Government Sector",
          "Private Sector/Self Employed",
          "Private Sector/Self Employed",
          "Private Sector/Self Employed",
          "Private Sector/Self Employed",
          "Private Sector/Self Employed",
          "Private Sector/Self Employed",
          "Private Sector/Self Employed",
          "Private Sector/Self Employed",
          "Private Sector/Self Employed",
          "Private Sector/Self Employed",
          "Private Sector/Self Employed",
          "Private Sector/Self Employed",
          "Private Sector/Self Employed",
          "Government Sector",
          "Private Sector/Self Employed",
          "Government Sector",
          "Private Sector/Self Employed",
          "Private Sector/Self Employed",
          "Private Sector/Self Employed",
          "Private Sector/Self Employed",
          "Private Sector/Self Employed",
          "Private Sector/Self Employed",
          "Government Sector",
          "Private Sector/Self Employed",
          "Government Sector",
          "Private Sector/Self Employed",
          "Government Sector",
          "Private Sector/Self Employed",
          "Government Sector",
          "Government Sector",
          "Private Sector/Self Employed",
          "Private Sector/Self Employed",
          "Private Sector/Self Employed",
          "Private Sector/Self Employed",
          "Government Sector",
          "Government Sector",
          "Private Sector/Self Employed",
          "Government Sector",
          "Private Sector/Self Employed",
          "Private Sector/Self Employed",
          "Private Sector/Self Employed",
          "Government Sector",
          "Government Sector",
          "Private Sector/Self Employed",
          "Private Sector/Self Employed",
          "Private Sector/Self Employed",
          "Private Sector/Self Employed",
          "Private Sector/Self Employed",
          "Private Sector/Self Employed",
          "Private Sector/Self Employed",
          "Government Sector",
          "Private Sector/Self Employed",
          "Government Sector",
          "Private Sector/Self Employed",
          "Private Sector/Self Employed",
          "Government Sector",
          "Private Sector/Self Employed",
          "Government Sector",
          "Government Sector",
          "Private Sector/Self Employed",
          "Private Sector/Self Employed",
          "Private Sector/Self Employed",
          "Private Sector/Self Employed",
          "Private Sector/Self Employed",
          "Government Sector",
          "Government Sector",
          "Private Sector/Self Employed",
          "Private Sector/Self Employed",
          "Private Sector/Self Employed",
          "Private Sector/Self Employed",
          "Government Sector",
          "Private Sector/Self Employed",
          "Private Sector/Self Employed",
          "Government Sector",
          "Private Sector/Self Employed",
          "Private Sector/Self Employed",
          "Private Sector/Self Employed",
          "Government Sector",
          "Private Sector/Self Employed",
          "Private Sector/Self Employed",
          "Private Sector/Self Employed",
          "Private Sector/Self Employed",
          "Private Sector/Self Employed",
          "Private Sector/Self Employed",
          "Government Sector",
          "Private Sector/Self Employed",
          "Private Sector/Self Employed",
          "Private Sector/Self Employed",
          "Private Sector/Self Employed",
          "Private Sector/Self Employed",
          "Private Sector/Self Employed",
          "Government Sector",
          "Private Sector/Self Employed",
          "Private Sector/Self Employed",
          "Private Sector/Self Employed",
          "Private Sector/Self Employed",
          "Private Sector/Self Employed",
          "Private Sector/Self Employed",
          "Government Sector",
          "Government Sector",
          "Government Sector",
          "Government Sector",
          "Government Sector",
          "Government Sector",
          "Private Sector/Self Employed",
          "Private Sector/Self Employed",
          "Government Sector",
          "Private Sector/Self Employed",
          "Government Sector",
          "Private Sector/Self Employed",
          "Private Sector/Self Employed",
          "Private Sector/Self Employed",
          "Government Sector",
          "Private Sector/Self Employed",
          "Government Sector",
          "Private Sector/Self Employed",
          "Private Sector/Self Employed",
          "Government Sector",
          "Government Sector",
          "Private Sector/Self Employed",
          "Private Sector/Self Employed",
          "Private Sector/Self Employed",
          "Private Sector/Self Employed",
          "Private Sector/Self Employed",
          "Private Sector/Self Employed",
          "Government Sector",
          "Government Sector",
          "Private Sector/Self Employed",
          "Private Sector/Self Employed",
          "Government Sector",
          "Government Sector",
          "Government Sector",
          "Private Sector/Self Employed",
          "Private Sector/Self Employed",
          "Private Sector/Self Employed",
          "Government Sector",
          "Private Sector/Self Employed",
          "Private Sector/Self Employed",
          "Private Sector/Self Employed",
          "Government Sector",
          "Private Sector/Self Employed",
          "Private Sector/Self Employed",
          "Private Sector/Self Employed",
          "Private Sector/Self Employed",
          "Private Sector/Self Employed",
          "Government Sector",
          "Private Sector/Self Employed",
          "Private Sector/Self Employed",
          "Government Sector",
          "Private Sector/Self Employed",
          "Private Sector/Self Employed",
          "Private Sector/Self Employed",
          "Private Sector/Self Employed",
          "Private Sector/Self Employed",
          "Government Sector",
          "Government Sector",
          "Private Sector/Self Employed",
          "Private Sector/Self Employed",
          "Private Sector/Self Employed",
          "Private Sector/Self Employed",
          "Private Sector/Self Employed",
          "Government Sector",
          "Private Sector/Self Employed",
          "Private Sector/Self Employed",
          "Private Sector/Self Employed",
          "Government Sector",
          "Private Sector/Self Employed",
          "Private Sector/Self Employed",
          "Government Sector",
          "Private Sector/Self Employed",
          "Government Sector",
          "Private Sector/Self Employed",
          "Private Sector/Self Employed",
          "Private Sector/Self Employed",
          "Government Sector",
          "Private Sector/Self Employed",
          "Private Sector/Self Employed",
          "Private Sector/Self Employed",
          "Private Sector/Self Employed",
          "Government Sector",
          "Government Sector",
          "Private Sector/Self Employed",
          "Private Sector/Self Employed",
          "Government Sector",
          "Private Sector/Self Employed",
          "Government Sector",
          "Private Sector/Self Employed",
          "Private Sector/Self Employed",
          "Private Sector/Self Employed",
          "Government Sector",
          "Private Sector/Self Employed",
          "Private Sector/Self Employed",
          "Private Sector/Self Employed",
          "Government Sector",
          "Government Sector",
          "Private Sector/Self Employed",
          "Government Sector",
          "Private Sector/Self Employed",
          "Government Sector",
          "Government Sector",
          "Private Sector/Self Employed",
          "Private Sector/Self Employed",
          "Private Sector/Self Employed",
          "Private Sector/Self Employed",
          "Private Sector/Self Employed",
          "Private Sector/Self Employed",
          "Private Sector/Self Employed",
          "Private Sector/Self Employed",
          "Private Sector/Self Employed",
          "Private Sector/Self Employed",
          "Government Sector",
          "Private Sector/Self Employed",
          "Private Sector/Self Employed",
          "Private Sector/Self Employed",
          "Government Sector",
          "Private Sector/Self Employed",
          "Private Sector/Self Employed",
          "Government Sector",
          "Government Sector",
          "Private Sector/Self Employed",
          "Government Sector",
          "Private Sector/Self Employed",
          "Government Sector",
          "Private Sector/Self Employed",
          "Private Sector/Self Employed",
          "Government Sector",
          "Private Sector/Self Employed",
          "Private Sector/Self Employed",
          "Government Sector",
          "Private Sector/Self Employed",
          "Private Sector/Self Employed",
          "Government Sector",
          "Private Sector/Self Employed",
          "Government Sector",
          "Private Sector/Self Employed",
          "Government Sector",
          "Private Sector/Self Employed",
          "Private Sector/Self Employed",
          "Private Sector/Self Employed",
          "Private Sector/Self Employed",
          "Government Sector",
          "Private Sector/Self Employed",
          "Private Sector/Self Employed",
          "Private Sector/Self Employed",
          "Private Sector/Self Employed",
          "Government Sector",
          "Private Sector/Self Employed",
          "Private Sector/Self Employed",
          "Government Sector",
          "Private Sector/Self Employed",
          "Private Sector/Self Employed",
          "Private Sector/Self Employed",
          "Private Sector/Self Employed",
          "Private Sector/Self Employed",
          "Government Sector",
          "Private Sector/Self Employed",
          "Private Sector/Self Employed",
          "Private Sector/Self Employed",
          "Private Sector/Self Employed",
          "Private Sector/Self Employed",
          "Private Sector/Self Employed",
          "Private Sector/Self Employed",
          "Government Sector",
          "Government Sector",
          "Private Sector/Self Employed",
          "Private Sector/Self Employed",
          "Government Sector",
          "Private Sector/Self Employed",
          "Private Sector/Self Employed",
          "Private Sector/Self Employed",
          "Private Sector/Self Employed",
          "Government Sector",
          "Private Sector/Self Employed",
          "Private Sector/Self Employed",
          "Private Sector/Self Employed",
          "Private Sector/Self Employed",
          "Private Sector/Self Employed",
          "Private Sector/Self Employed",
          "Private Sector/Self Employed",
          "Private Sector/Self Employed",
          "Private Sector/Self Employed",
          "Private Sector/Self Employed",
          "Private Sector/Self Employed",
          "Government Sector",
          "Private Sector/Self Employed",
          "Government Sector",
          "Private Sector/Self Employed",
          "Private Sector/Self Employed",
          "Private Sector/Self Employed",
          "Government Sector",
          "Government Sector",
          "Government Sector",
          "Private Sector/Self Employed",
          "Private Sector/Self Employed",
          "Private Sector/Self Employed",
          "Government Sector",
          "Government Sector",
          "Private Sector/Self Employed",
          "Private Sector/Self Employed",
          "Private Sector/Self Employed",
          "Private Sector/Self Employed",
          "Government Sector",
          "Private Sector/Self Employed",
          "Private Sector/Self Employed",
          "Private Sector/Self Employed",
          "Government Sector",
          "Government Sector",
          "Private Sector/Self Employed",
          "Private Sector/Self Employed",
          "Private Sector/Self Employed",
          "Government Sector",
          "Private Sector/Self Employed",
          "Private Sector/Self Employed",
          "Private Sector/Self Employed",
          "Private Sector/Self Employed",
          "Government Sector",
          "Government Sector",
          "Private Sector/Self Employed",
          "Private Sector/Self Employed",
          "Government Sector",
          "Private Sector/Self Employed",
          "Private Sector/Self Employed",
          "Government Sector",
          "Government Sector",
          "Private Sector/Self Employed",
          "Government Sector",
          "Government Sector",
          "Private Sector/Self Employed",
          "Private Sector/Self Employed",
          "Private Sector/Self Employed",
          "Government Sector",
          "Private Sector/Self Employed",
          "Private Sector/Self Employed",
          "Government Sector",
          "Private Sector/Self Employed",
          "Government Sector",
          "Private Sector/Self Employed",
          "Private Sector/Self Employed",
          "Government Sector",
          "Private Sector/Self Employed",
          "Private Sector/Self Employed",
          "Private Sector/Self Employed",
          "Private Sector/Self Employed",
          "Government Sector",
          "Government Sector",
          "Private Sector/Self Employed",
          "Private Sector/Self Employed",
          "Private Sector/Self Employed",
          "Private Sector/Self Employed",
          "Government Sector",
          "Government Sector",
          "Private Sector/Self Employed",
          "Private Sector/Self Employed",
          "Government Sector",
          "Government Sector",
          "Private Sector/Self Employed",
          "Government Sector",
          "Government Sector",
          "Government Sector",
          "Private Sector/Self Employed",
          "Government Sector",
          "Government Sector",
          "Private Sector/Self Employed",
          "Private Sector/Self Employed",
          "Government Sector",
          "Private Sector/Self Employed",
          "Government Sector",
          "Private Sector/Self Employed",
          "Private Sector/Self Employed",
          "Private Sector/Self Employed",
          "Government Sector",
          "Government Sector",
          "Government Sector",
          "Government Sector",
          "Private Sector/Self Employed",
          "Private Sector/Self Employed",
          "Private Sector/Self Employed",
          "Private Sector/Self Employed",
          "Private Sector/Self Employed",
          "Private Sector/Self Employed",
          "Private Sector/Self Employed",
          "Government Sector",
          "Government Sector",
          "Government Sector",
          "Government Sector",
          "Government Sector",
          "Government Sector",
          "Private Sector/Self Employed",
          "Private Sector/Self Employed",
          "Private Sector/Self Employed",
          "Private Sector/Self Employed",
          "Private Sector/Self Employed",
          "Private Sector/Self Employed",
          "Government Sector",
          "Private Sector/Self Employed",
          "Private Sector/Self Employed",
          "Private Sector/Self Employed",
          "Private Sector/Self Employed",
          "Private Sector/Self Employed",
          "Private Sector/Self Employed",
          "Private Sector/Self Employed",
          "Private Sector/Self Employed",
          "Government Sector",
          "Private Sector/Self Employed",
          "Private Sector/Self Employed",
          "Government Sector",
          "Private Sector/Self Employed",
          "Private Sector/Self Employed",
          "Private Sector/Self Employed",
          "Private Sector/Self Employed",
          "Private Sector/Self Employed",
          "Government Sector",
          "Private Sector/Self Employed",
          "Private Sector/Self Employed",
          "Government Sector",
          "Government Sector",
          "Government Sector",
          "Government Sector",
          "Government Sector",
          "Government Sector",
          "Private Sector/Self Employed",
          "Government Sector",
          "Private Sector/Self Employed",
          "Private Sector/Self Employed",
          "Government Sector",
          "Private Sector/Self Employed",
          "Private Sector/Self Employed",
          "Private Sector/Self Employed",
          "Government Sector",
          "Private Sector/Self Employed",
          "Private Sector/Self Employed",
          "Private Sector/Self Employed",
          "Private Sector/Self Employed",
          "Private Sector/Self Employed",
          "Private Sector/Self Employed",
          "Private Sector/Self Employed",
          "Private Sector/Self Employed",
          "Private Sector/Self Employed",
          "Private Sector/Self Employed",
          "Government Sector",
          "Government Sector",
          "Private Sector/Self Employed",
          "Private Sector/Self Employed",
          "Private Sector/Self Employed",
          "Private Sector/Self Employed",
          "Government Sector",
          "Government Sector",
          "Government Sector",
          "Government Sector",
          "Government Sector",
          "Government Sector",
          "Government Sector",
          "Private Sector/Self Employed",
          "Government Sector",
          "Private Sector/Self Employed",
          "Government Sector",
          "Government Sector",
          "Government Sector",
          "Government Sector",
          "Government Sector",
          "Government Sector",
          "Government Sector",
          "Private Sector/Self Employed",
          "Private Sector/Self Employed",
          "Government Sector",
          "Private Sector/Self Employed",
          "Government Sector",
          "Government Sector",
          "Private Sector/Self Employed",
          "Government Sector",
          "Private Sector/Self Employed",
          "Private Sector/Self Employed",
          "Private Sector/Self Employed",
          "Private Sector/Self Employed",
          "Government Sector",
          "Private Sector/Self Employed",
          "Private Sector/Self Employed",
          "Private Sector/Self Employed",
          "Private Sector/Self Employed",
          "Private Sector/Self Employed",
          "Private Sector/Self Employed",
          "Private Sector/Self Employed",
          "Private Sector/Self Employed",
          "Private Sector/Self Employed",
          "Government Sector",
          "Government Sector",
          "Private Sector/Self Employed",
          "Private Sector/Self Employed",
          "Private Sector/Self Employed",
          "Private Sector/Self Employed",
          "Private Sector/Self Employed",
          "Private Sector/Self Employed",
          "Private Sector/Self Employed",
          "Government Sector",
          "Private Sector/Self Employed",
          "Government Sector",
          "Government Sector",
          "Government Sector",
          "Private Sector/Self Employed",
          "Private Sector/Self Employed",
          "Private Sector/Self Employed",
          "Private Sector/Self Employed",
          "Private Sector/Self Employed",
          "Government Sector",
          "Private Sector/Self Employed",
          "Government Sector",
          "Private Sector/Self Employed",
          "Private Sector/Self Employed",
          "Government Sector",
          "Private Sector/Self Employed",
          "Private Sector/Self Employed",
          "Government Sector",
          "Private Sector/Self Employed",
          "Private Sector/Self Employed",
          "Private Sector/Self Employed",
          "Government Sector",
          "Government Sector",
          "Private Sector/Self Employed",
          "Government Sector",
          "Private Sector/Self Employed",
          "Private Sector/Self Employed",
          "Private Sector/Self Employed",
          "Government Sector",
          "Private Sector/Self Employed",
          "Private Sector/Self Employed",
          "Private Sector/Self Employed",
          "Private Sector/Self Employed",
          "Private Sector/Self Employed",
          "Private Sector/Self Employed",
          "Private Sector/Self Employed",
          "Private Sector/Self Employed",
          "Private Sector/Self Employed",
          "Private Sector/Self Employed",
          "Government Sector",
          "Private Sector/Self Employed",
          "Private Sector/Self Employed",
          "Government Sector",
          "Private Sector/Self Employed",
          "Private Sector/Self Employed",
          "Government Sector",
          "Government Sector",
          "Private Sector/Self Employed",
          "Government Sector",
          "Government Sector",
          "Private Sector/Self Employed",
          "Government Sector",
          "Government Sector",
          "Private Sector/Self Employed",
          "Private Sector/Self Employed",
          "Government Sector",
          "Private Sector/Self Employed",
          "Government Sector",
          "Government Sector",
          "Government Sector",
          "Private Sector/Self Employed",
          "Private Sector/Self Employed",
          "Government Sector",
          "Government Sector",
          "Government Sector",
          "Private Sector/Self Employed",
          "Private Sector/Self Employed",
          "Private Sector/Self Employed",
          "Private Sector/Self Employed",
          "Private Sector/Self Employed",
          "Private Sector/Self Employed",
          "Government Sector",
          "Government Sector",
          "Private Sector/Self Employed",
          "Private Sector/Self Employed",
          "Private Sector/Self Employed",
          "Private Sector/Self Employed",
          "Government Sector",
          "Private Sector/Self Employed",
          "Private Sector/Self Employed",
          "Private Sector/Self Employed",
          "Private Sector/Self Employed",
          "Private Sector/Self Employed",
          "Private Sector/Self Employed",
          "Private Sector/Self Employed",
          "Private Sector/Self Employed",
          "Private Sector/Self Employed",
          "Government Sector",
          "Government Sector",
          "Private Sector/Self Employed",
          "Private Sector/Self Employed",
          "Government Sector",
          "Government Sector",
          "Government Sector",
          "Private Sector/Self Employed",
          "Government Sector",
          "Private Sector/Self Employed",
          "Private Sector/Self Employed",
          "Government Sector",
          "Private Sector/Self Employed",
          "Government Sector",
          "Private Sector/Self Employed",
          "Private Sector/Self Employed",
          "Private Sector/Self Employed",
          "Private Sector/Self Employed",
          "Private Sector/Self Employed",
          "Government Sector",
          "Government Sector",
          "Government Sector",
          "Private Sector/Self Employed",
          "Private Sector/Self Employed",
          "Private Sector/Self Employed",
          "Government Sector",
          "Private Sector/Self Employed",
          "Private Sector/Self Employed",
          "Private Sector/Self Employed",
          "Private Sector/Self Employed",
          "Private Sector/Self Employed",
          "Private Sector/Self Employed",
          "Private Sector/Self Employed",
          "Private Sector/Self Employed",
          "Government Sector",
          "Government Sector",
          "Government Sector",
          "Private Sector/Self Employed",
          "Government Sector",
          "Private Sector/Self Employed",
          "Private Sector/Self Employed",
          "Government Sector",
          "Private Sector/Self Employed",
          "Private Sector/Self Employed",
          "Government Sector",
          "Private Sector/Self Employed",
          "Private Sector/Self Employed",
          "Government Sector",
          "Private Sector/Self Employed",
          "Private Sector/Self Employed",
          "Private Sector/Self Employed",
          "Private Sector/Self Employed",
          "Private Sector/Self Employed",
          "Private Sector/Self Employed",
          "Private Sector/Self Employed",
          "Private Sector/Self Employed",
          "Government Sector",
          "Government Sector",
          "Government Sector",
          "Private Sector/Self Employed",
          "Private Sector/Self Employed",
          "Government Sector",
          "Private Sector/Self Employed",
          "Government Sector",
          "Private Sector/Self Employed",
          "Government Sector",
          "Government Sector",
          "Private Sector/Self Employed",
          "Private Sector/Self Employed",
          "Government Sector",
          "Private Sector/Self Employed",
          "Private Sector/Self Employed",
          "Government Sector",
          "Private Sector/Self Employed",
          "Government Sector",
          "Government Sector",
          "Government Sector",
          "Government Sector",
          "Government Sector",
          "Government Sector",
          "Private Sector/Self Employed",
          "Private Sector/Self Employed",
          "Private Sector/Self Employed",
          "Private Sector/Self Employed",
          "Private Sector/Self Employed",
          "Private Sector/Self Employed",
          "Private Sector/Self Employed",
          "Government Sector",
          "Private Sector/Self Employed",
          "Private Sector/Self Employed",
          "Government Sector",
          "Private Sector/Self Employed",
          "Private Sector/Self Employed",
          "Government Sector",
          "Government Sector",
          "Private Sector/Self Employed",
          "Government Sector",
          "Government Sector",
          "Private Sector/Self Employed",
          "Private Sector/Self Employed",
          "Private Sector/Self Employed",
          "Government Sector",
          "Private Sector/Self Employed",
          "Government Sector",
          "Government Sector",
          "Private Sector/Self Employed",
          "Private Sector/Self Employed",
          "Private Sector/Self Employed",
          "Private Sector/Self Employed",
          "Government Sector",
          "Government Sector",
          "Private Sector/Self Employed",
          "Private Sector/Self Employed",
          "Government Sector",
          "Private Sector/Self Employed",
          "Government Sector",
          "Private Sector/Self Employed",
          "Private Sector/Self Employed",
          "Private Sector/Self Employed",
          "Private Sector/Self Employed",
          "Private Sector/Self Employed",
          "Private Sector/Self Employed",
          "Private Sector/Self Employed",
          "Private Sector/Self Employed",
          "Private Sector/Self Employed",
          "Government Sector",
          "Private Sector/Self Employed",
          "Private Sector/Self Employed",
          "Private Sector/Self Employed",
          "Private Sector/Self Employed",
          "Government Sector",
          "Private Sector/Self Employed",
          "Private Sector/Self Employed",
          "Government Sector",
          "Private Sector/Self Employed",
          "Private Sector/Self Employed",
          "Private Sector/Self Employed",
          "Private Sector/Self Employed",
          "Private Sector/Self Employed",
          "Private Sector/Self Employed",
          "Government Sector",
          "Private Sector/Self Employed",
          "Government Sector",
          "Private Sector/Self Employed",
          "Private Sector/Self Employed",
          "Private Sector/Self Employed",
          "Private Sector/Self Employed",
          "Government Sector",
          "Private Sector/Self Employed",
          "Private Sector/Self Employed",
          "Government Sector",
          "Private Sector/Self Employed",
          "Private Sector/Self Employed",
          "Private Sector/Self Employed",
          "Government Sector",
          "Government Sector",
          "Government Sector",
          "Private Sector/Self Employed",
          "Private Sector/Self Employed",
          "Government Sector",
          "Private Sector/Self Employed",
          "Private Sector/Self Employed",
          "Government Sector",
          "Private Sector/Self Employed",
          "Government Sector",
          "Private Sector/Self Employed",
          "Government Sector",
          "Government Sector",
          "Private Sector/Self Employed",
          "Private Sector/Self Employed",
          "Private Sector/Self Employed",
          "Government Sector",
          "Private Sector/Self Employed",
          "Government Sector",
          "Government Sector",
          "Private Sector/Self Employed",
          "Private Sector/Self Employed",
          "Private Sector/Self Employed",
          "Private Sector/Self Employed",
          "Private Sector/Self Employed",
          "Private Sector/Self Employed",
          "Government Sector",
          "Government Sector",
          "Private Sector/Self Employed",
          "Private Sector/Self Employed",
          "Government Sector",
          "Government Sector",
          "Government Sector",
          "Private Sector/Self Employed",
          "Private Sector/Self Employed",
          "Government Sector",
          "Private Sector/Self Employed",
          "Government Sector",
          "Private Sector/Self Employed",
          "Private Sector/Self Employed",
          "Private Sector/Self Employed",
          "Government Sector",
          "Government Sector",
          "Private Sector/Self Employed",
          "Private Sector/Self Employed",
          "Private Sector/Self Employed",
          "Government Sector",
          "Private Sector/Self Employed",
          "Private Sector/Self Employed",
          "Government Sector",
          "Private Sector/Self Employed",
          "Private Sector/Self Employed",
          "Government Sector",
          "Private Sector/Self Employed",
          "Private Sector/Self Employed",
          "Government Sector",
          "Private Sector/Self Employed",
          "Government Sector",
          "Government Sector",
          "Private Sector/Self Employed",
          "Private Sector/Self Employed",
          "Government Sector",
          "Government Sector",
          "Private Sector/Self Employed",
          "Government Sector",
          "Government Sector",
          "Government Sector",
          "Government Sector",
          "Private Sector/Self Employed",
          "Private Sector/Self Employed",
          "Government Sector",
          "Government Sector",
          "Private Sector/Self Employed",
          "Private Sector/Self Employed",
          "Private Sector/Self Employed",
          "Government Sector",
          "Private Sector/Self Employed",
          "Government Sector",
          "Private Sector/Self Employed",
          "Private Sector/Self Employed",
          "Private Sector/Self Employed",
          "Private Sector/Self Employed",
          "Private Sector/Self Employed",
          "Government Sector",
          "Private Sector/Self Employed",
          "Government Sector",
          "Private Sector/Self Employed",
          "Private Sector/Self Employed",
          "Private Sector/Self Employed",
          "Private Sector/Self Employed",
          "Government Sector",
          "Government Sector",
          "Government Sector",
          "Government Sector",
          "Government Sector",
          "Private Sector/Self Employed",
          "Private Sector/Self Employed",
          "Private Sector/Self Employed",
          "Private Sector/Self Employed",
          "Government Sector",
          "Government Sector",
          "Private Sector/Self Employed",
          "Government Sector",
          "Government Sector",
          "Private Sector/Self Employed",
          "Private Sector/Self Employed",
          "Government Sector",
          "Private Sector/Self Employed",
          "Private Sector/Self Employed",
          "Private Sector/Self Employed",
          "Private Sector/Self Employed",
          "Private Sector/Self Employed",
          "Private Sector/Self Employed",
          "Private Sector/Self Employed",
          "Government Sector",
          "Government Sector",
          "Private Sector/Self Employed",
          "Private Sector/Self Employed",
          "Private Sector/Self Employed",
          "Private Sector/Self Employed",
          "Private Sector/Self Employed",
          "Private Sector/Self Employed",
          "Private Sector/Self Employed",
          "Government Sector",
          "Private Sector/Self Employed",
          "Private Sector/Self Employed",
          "Government Sector",
          "Private Sector/Self Employed",
          "Private Sector/Self Employed",
          "Government Sector",
          "Government Sector",
          "Private Sector/Self Employed",
          "Private Sector/Self Employed",
          "Private Sector/Self Employed",
          "Government Sector",
          "Government Sector",
          "Private Sector/Self Employed",
          "Private Sector/Self Employed",
          "Private Sector/Self Employed",
          "Government Sector",
          "Private Sector/Self Employed",
          "Private Sector/Self Employed",
          "Government Sector",
          "Private Sector/Self Employed",
          "Government Sector",
          "Government Sector",
          "Private Sector/Self Employed",
          "Private Sector/Self Employed",
          "Government Sector",
          "Private Sector/Self Employed",
          "Private Sector/Self Employed",
          "Government Sector",
          "Government Sector",
          "Private Sector/Self Employed",
          "Private Sector/Self Employed",
          "Private Sector/Self Employed",
          "Private Sector/Self Employed",
          "Government Sector",
          "Government Sector",
          "Government Sector",
          "Private Sector/Self Employed",
          "Private Sector/Self Employed",
          "Private Sector/Self Employed",
          "Private Sector/Self Employed",
          "Government Sector",
          "Government Sector",
          "Private Sector/Self Employed",
          "Private Sector/Self Employed",
          "Private Sector/Self Employed",
          "Private Sector/Self Employed",
          "Private Sector/Self Employed",
          "Private Sector/Self Employed",
          "Private Sector/Self Employed",
          "Private Sector/Self Employed",
          "Private Sector/Self Employed",
          "Private Sector/Self Employed",
          "Private Sector/Self Employed",
          "Private Sector/Self Employed",
          "Government Sector",
          "Private Sector/Self Employed",
          "Private Sector/Self Employed",
          "Private Sector/Self Employed",
          "Private Sector/Self Employed",
          "Private Sector/Self Employed",
          "Private Sector/Self Employed",
          "Private Sector/Self Employed",
          "Private Sector/Self Employed",
          "Government Sector",
          "Private Sector/Self Employed",
          "Private Sector/Self Employed",
          "Private Sector/Self Employed",
          "Private Sector/Self Employed",
          "Government Sector",
          "Private Sector/Self Employed",
          "Government Sector",
          "Private Sector/Self Employed",
          "Private Sector/Self Employed",
          "Private Sector/Self Employed",
          "Private Sector/Self Employed",
          "Private Sector/Self Employed",
          "Government Sector",
          "Private Sector/Self Employed",
          "Government Sector",
          "Private Sector/Self Employed",
          "Government Sector",
          "Government Sector",
          "Private Sector/Self Employed",
          "Private Sector/Self Employed",
          "Private Sector/Self Employed",
          "Private Sector/Self Employed",
          "Private Sector/Self Employed",
          "Government Sector",
          "Private Sector/Self Employed",
          "Private Sector/Self Employed",
          "Government Sector",
          "Government Sector",
          "Private Sector/Self Employed",
          "Private Sector/Self Employed",
          "Private Sector/Self Employed",
          "Private Sector/Self Employed",
          "Government Sector",
          "Private Sector/Self Employed",
          "Private Sector/Self Employed",
          "Private Sector/Self Employed",
          "Government Sector",
          "Private Sector/Self Employed",
          "Private Sector/Self Employed",
          "Private Sector/Self Employed",
          "Private Sector/Self Employed",
          "Private Sector/Self Employed",
          "Private Sector/Self Employed",
          "Government Sector",
          "Private Sector/Self Employed",
          "Private Sector/Self Employed",
          "Government Sector",
          "Private Sector/Self Employed",
          "Private Sector/Self Employed",
          "Private Sector/Self Employed",
          "Private Sector/Self Employed",
          "Private Sector/Self Employed",
          "Private Sector/Self Employed",
          "Private Sector/Self Employed",
          "Government Sector",
          "Private Sector/Self Employed",
          "Government Sector",
          "Private Sector/Self Employed",
          "Government Sector",
          "Government Sector",
          "Private Sector/Self Employed",
          "Private Sector/Self Employed",
          "Government Sector",
          "Government Sector",
          "Private Sector/Self Employed",
          "Private Sector/Self Employed",
          "Private Sector/Self Employed",
          "Government Sector",
          "Government Sector",
          "Private Sector/Self Employed",
          "Private Sector/Self Employed",
          "Private Sector/Self Employed",
          "Private Sector/Self Employed",
          "Private Sector/Self Employed",
          "Government Sector",
          "Private Sector/Self Employed",
          "Private Sector/Self Employed",
          "Private Sector/Self Employed",
          "Private Sector/Self Employed",
          "Private Sector/Self Employed",
          "Private Sector/Self Employed",
          "Private Sector/Self Employed",
          "Private Sector/Self Employed",
          "Private Sector/Self Employed",
          "Private Sector/Self Employed",
          "Private Sector/Self Employed",
          "Private Sector/Self Employed",
          "Private Sector/Self Employed",
          "Government Sector",
          "Private Sector/Self Employed",
          "Private Sector/Self Employed",
          "Government Sector",
          "Private Sector/Self Employed",
          "Government Sector",
          "Private Sector/Self Employed",
          "Private Sector/Self Employed",
          "Private Sector/Self Employed",
          "Private Sector/Self Employed",
          "Government Sector",
          "Private Sector/Self Employed",
          "Private Sector/Self Employed",
          "Private Sector/Self Employed",
          "Private Sector/Self Employed",
          "Government Sector",
          "Private Sector/Self Employed",
          "Private Sector/Self Employed",
          "Private Sector/Self Employed",
          "Private Sector/Self Employed",
          "Private Sector/Self Employed",
          "Government Sector",
          "Government Sector",
          "Private Sector/Self Employed",
          "Private Sector/Self Employed",
          "Private Sector/Self Employed",
          "Government Sector",
          "Government Sector",
          "Private Sector/Self Employed",
          "Private Sector/Self Employed",
          "Government Sector",
          "Private Sector/Self Employed",
          "Government Sector",
          "Private Sector/Self Employed",
          "Private Sector/Self Employed",
          "Private Sector/Self Employed",
          "Government Sector",
          "Government Sector",
          "Government Sector",
          "Private Sector/Self Employed",
          "Government Sector",
          "Private Sector/Self Employed",
          "Private Sector/Self Employed",
          "Private Sector/Self Employed",
          "Government Sector",
          "Government Sector",
          "Private Sector/Self Employed",
          "Private Sector/Self Employed",
          "Private Sector/Self Employed",
          "Private Sector/Self Employed",
          "Government Sector",
          "Private Sector/Self Employed",
          "Private Sector/Self Employed",
          "Private Sector/Self Employed",
          "Private Sector/Self Employed",
          "Private Sector/Self Employed",
          "Government Sector",
          "Government Sector",
          "Government Sector",
          "Private Sector/Self Employed",
          "Private Sector/Self Employed",
          "Government Sector",
          "Government Sector",
          "Private Sector/Self Employed",
          "Government Sector",
          "Private Sector/Self Employed",
          "Government Sector",
          "Private Sector/Self Employed",
          "Private Sector/Self Employed",
          "Private Sector/Self Employed",
          "Government Sector",
          "Government Sector",
          "Private Sector/Self Employed",
          "Private Sector/Self Employed",
          "Private Sector/Self Employed",
          "Government Sector",
          "Private Sector/Self Employed",
          "Private Sector/Self Employed",
          "Government Sector",
          "Private Sector/Self Employed",
          "Private Sector/Self Employed",
          "Government Sector",
          "Government Sector",
          "Government Sector",
          "Government Sector",
          "Private Sector/Self Employed",
          "Private Sector/Self Employed",
          "Private Sector/Self Employed",
          "Government Sector",
          "Government Sector",
          "Private Sector/Self Employed",
          "Private Sector/Self Employed",
          "Private Sector/Self Employed",
          "Private Sector/Self Employed",
          "Government Sector",
          "Private Sector/Self Employed",
          "Private Sector/Self Employed",
          "Private Sector/Self Employed",
          "Private Sector/Self Employed",
          "Private Sector/Self Employed",
          "Private Sector/Self Employed",
          "Government Sector",
          "Private Sector/Self Employed",
          "Private Sector/Self Employed",
          "Private Sector/Self Employed",
          "Government Sector",
          "Private Sector/Self Employed",
          "Government Sector",
          "Private Sector/Self Employed",
          "Government Sector",
          "Private Sector/Self Employed",
          "Government Sector",
          "Private Sector/Self Employed",
          "Private Sector/Self Employed",
          "Government Sector",
          "Private Sector/Self Employed",
          "Private Sector/Self Employed",
          "Private Sector/Self Employed",
          "Private Sector/Self Employed",
          "Government Sector",
          "Private Sector/Self Employed",
          "Private Sector/Self Employed",
          "Private Sector/Self Employed",
          "Private Sector/Self Employed",
          "Private Sector/Self Employed"
         ],
         "xaxis": "x",
         "yaxis": "y"
        },
        {
         "alignmentgroup": "True",
         "bingroup": "x",
         "hovertemplate": "TravelInsurance=Purchased<br>Employment Type=%{x}<br>count=%{y}<extra></extra>",
         "legendgroup": "Purchased",
         "marker": {
          "color": "#EF553B",
          "pattern": {
           "shape": ""
          }
         },
         "name": "Purchased",
         "offsetgroup": "Purchased",
         "orientation": "v",
         "showlegend": true,
         "type": "histogram",
         "x": [
          "Private Sector/Self Employed",
          "Private Sector/Self Employed",
          "Private Sector/Self Employed",
          "Private Sector/Self Employed",
          "Government Sector",
          "Government Sector",
          "Private Sector/Self Employed",
          "Private Sector/Self Employed",
          "Private Sector/Self Employed",
          "Private Sector/Self Employed",
          "Government Sector",
          "Private Sector/Self Employed",
          "Government Sector",
          "Private Sector/Self Employed",
          "Private Sector/Self Employed",
          "Private Sector/Self Employed",
          "Private Sector/Self Employed",
          "Private Sector/Self Employed",
          "Private Sector/Self Employed",
          "Private Sector/Self Employed",
          "Private Sector/Self Employed",
          "Private Sector/Self Employed",
          "Private Sector/Self Employed",
          "Private Sector/Self Employed",
          "Private Sector/Self Employed",
          "Private Sector/Self Employed",
          "Government Sector",
          "Private Sector/Self Employed",
          "Private Sector/Self Employed",
          "Private Sector/Self Employed",
          "Government Sector",
          "Private Sector/Self Employed",
          "Private Sector/Self Employed",
          "Government Sector",
          "Private Sector/Self Employed",
          "Private Sector/Self Employed",
          "Private Sector/Self Employed",
          "Private Sector/Self Employed",
          "Private Sector/Self Employed",
          "Private Sector/Self Employed",
          "Private Sector/Self Employed",
          "Government Sector",
          "Private Sector/Self Employed",
          "Private Sector/Self Employed",
          "Private Sector/Self Employed",
          "Private Sector/Self Employed",
          "Private Sector/Self Employed",
          "Private Sector/Self Employed",
          "Private Sector/Self Employed",
          "Private Sector/Self Employed",
          "Private Sector/Self Employed",
          "Private Sector/Self Employed",
          "Private Sector/Self Employed",
          "Private Sector/Self Employed",
          "Private Sector/Self Employed",
          "Government Sector",
          "Private Sector/Self Employed",
          "Private Sector/Self Employed",
          "Private Sector/Self Employed",
          "Private Sector/Self Employed",
          "Private Sector/Self Employed",
          "Private Sector/Self Employed",
          "Private Sector/Self Employed",
          "Government Sector",
          "Private Sector/Self Employed",
          "Private Sector/Self Employed",
          "Private Sector/Self Employed",
          "Private Sector/Self Employed",
          "Private Sector/Self Employed",
          "Private Sector/Self Employed",
          "Government Sector",
          "Private Sector/Self Employed",
          "Private Sector/Self Employed",
          "Private Sector/Self Employed",
          "Private Sector/Self Employed",
          "Private Sector/Self Employed",
          "Private Sector/Self Employed",
          "Government Sector",
          "Private Sector/Self Employed",
          "Private Sector/Self Employed",
          "Government Sector",
          "Government Sector",
          "Private Sector/Self Employed",
          "Private Sector/Self Employed",
          "Private Sector/Self Employed",
          "Private Sector/Self Employed",
          "Government Sector",
          "Private Sector/Self Employed",
          "Government Sector",
          "Private Sector/Self Employed",
          "Private Sector/Self Employed",
          "Government Sector",
          "Private Sector/Self Employed",
          "Government Sector",
          "Private Sector/Self Employed",
          "Government Sector",
          "Private Sector/Self Employed",
          "Government Sector",
          "Private Sector/Self Employed",
          "Private Sector/Self Employed",
          "Private Sector/Self Employed",
          "Private Sector/Self Employed",
          "Private Sector/Self Employed",
          "Government Sector",
          "Private Sector/Self Employed",
          "Government Sector",
          "Government Sector",
          "Private Sector/Self Employed",
          "Private Sector/Self Employed",
          "Private Sector/Self Employed",
          "Government Sector",
          "Government Sector",
          "Private Sector/Self Employed",
          "Private Sector/Self Employed",
          "Private Sector/Self Employed",
          "Private Sector/Self Employed",
          "Private Sector/Self Employed",
          "Private Sector/Self Employed",
          "Private Sector/Self Employed",
          "Private Sector/Self Employed",
          "Private Sector/Self Employed",
          "Private Sector/Self Employed",
          "Private Sector/Self Employed",
          "Private Sector/Self Employed",
          "Private Sector/Self Employed",
          "Private Sector/Self Employed",
          "Private Sector/Self Employed",
          "Government Sector",
          "Private Sector/Self Employed",
          "Private Sector/Self Employed",
          "Private Sector/Self Employed",
          "Private Sector/Self Employed",
          "Private Sector/Self Employed",
          "Private Sector/Self Employed",
          "Private Sector/Self Employed",
          "Government Sector",
          "Private Sector/Self Employed",
          "Private Sector/Self Employed",
          "Government Sector",
          "Government Sector",
          "Private Sector/Self Employed",
          "Private Sector/Self Employed",
          "Private Sector/Self Employed",
          "Private Sector/Self Employed",
          "Private Sector/Self Employed",
          "Private Sector/Self Employed",
          "Private Sector/Self Employed",
          "Private Sector/Self Employed",
          "Private Sector/Self Employed",
          "Private Sector/Self Employed",
          "Private Sector/Self Employed",
          "Private Sector/Self Employed",
          "Private Sector/Self Employed",
          "Private Sector/Self Employed",
          "Private Sector/Self Employed",
          "Private Sector/Self Employed",
          "Private Sector/Self Employed",
          "Private Sector/Self Employed",
          "Private Sector/Self Employed",
          "Private Sector/Self Employed",
          "Private Sector/Self Employed",
          "Private Sector/Self Employed",
          "Private Sector/Self Employed",
          "Government Sector",
          "Private Sector/Self Employed",
          "Private Sector/Self Employed",
          "Private Sector/Self Employed",
          "Private Sector/Self Employed",
          "Private Sector/Self Employed",
          "Private Sector/Self Employed",
          "Private Sector/Self Employed",
          "Private Sector/Self Employed",
          "Government Sector",
          "Private Sector/Self Employed",
          "Private Sector/Self Employed",
          "Private Sector/Self Employed",
          "Private Sector/Self Employed",
          "Government Sector",
          "Private Sector/Self Employed",
          "Private Sector/Self Employed",
          "Private Sector/Self Employed",
          "Private Sector/Self Employed",
          "Private Sector/Self Employed",
          "Private Sector/Self Employed",
          "Private Sector/Self Employed",
          "Government Sector",
          "Private Sector/Self Employed",
          "Private Sector/Self Employed",
          "Private Sector/Self Employed",
          "Private Sector/Self Employed",
          "Private Sector/Self Employed",
          "Private Sector/Self Employed",
          "Private Sector/Self Employed",
          "Private Sector/Self Employed",
          "Private Sector/Self Employed",
          "Private Sector/Self Employed",
          "Private Sector/Self Employed",
          "Private Sector/Self Employed",
          "Government Sector",
          "Private Sector/Self Employed",
          "Private Sector/Self Employed",
          "Private Sector/Self Employed",
          "Private Sector/Self Employed",
          "Private Sector/Self Employed",
          "Private Sector/Self Employed",
          "Private Sector/Self Employed",
          "Private Sector/Self Employed",
          "Private Sector/Self Employed",
          "Private Sector/Self Employed",
          "Private Sector/Self Employed",
          "Private Sector/Self Employed",
          "Private Sector/Self Employed",
          "Private Sector/Self Employed",
          "Private Sector/Self Employed",
          "Private Sector/Self Employed",
          "Government Sector",
          "Private Sector/Self Employed",
          "Private Sector/Self Employed",
          "Government Sector",
          "Private Sector/Self Employed",
          "Private Sector/Self Employed",
          "Private Sector/Self Employed",
          "Government Sector",
          "Private Sector/Self Employed",
          "Private Sector/Self Employed",
          "Government Sector",
          "Private Sector/Self Employed",
          "Private Sector/Self Employed",
          "Private Sector/Self Employed",
          "Private Sector/Self Employed",
          "Private Sector/Self Employed",
          "Private Sector/Self Employed",
          "Private Sector/Self Employed",
          "Government Sector",
          "Private Sector/Self Employed",
          "Private Sector/Self Employed",
          "Private Sector/Self Employed",
          "Private Sector/Self Employed",
          "Government Sector",
          "Private Sector/Self Employed",
          "Government Sector",
          "Private Sector/Self Employed",
          "Private Sector/Self Employed",
          "Private Sector/Self Employed",
          "Private Sector/Self Employed",
          "Government Sector",
          "Private Sector/Self Employed",
          "Private Sector/Self Employed",
          "Government Sector",
          "Private Sector/Self Employed",
          "Private Sector/Self Employed",
          "Private Sector/Self Employed",
          "Private Sector/Self Employed",
          "Private Sector/Self Employed",
          "Private Sector/Self Employed",
          "Private Sector/Self Employed",
          "Private Sector/Self Employed",
          "Government Sector",
          "Private Sector/Self Employed",
          "Private Sector/Self Employed",
          "Private Sector/Self Employed",
          "Private Sector/Self Employed",
          "Private Sector/Self Employed",
          "Private Sector/Self Employed",
          "Private Sector/Self Employed",
          "Private Sector/Self Employed",
          "Private Sector/Self Employed",
          "Government Sector",
          "Government Sector",
          "Private Sector/Self Employed",
          "Government Sector",
          "Private Sector/Self Employed",
          "Private Sector/Self Employed",
          "Government Sector",
          "Private Sector/Self Employed",
          "Private Sector/Self Employed",
          "Government Sector",
          "Private Sector/Self Employed",
          "Private Sector/Self Employed",
          "Government Sector",
          "Private Sector/Self Employed",
          "Private Sector/Self Employed",
          "Private Sector/Self Employed",
          "Government Sector",
          "Private Sector/Self Employed",
          "Private Sector/Self Employed",
          "Private Sector/Self Employed",
          "Government Sector",
          "Private Sector/Self Employed",
          "Private Sector/Self Employed",
          "Private Sector/Self Employed",
          "Private Sector/Self Employed",
          "Private Sector/Self Employed",
          "Private Sector/Self Employed",
          "Private Sector/Self Employed",
          "Private Sector/Self Employed",
          "Government Sector",
          "Private Sector/Self Employed",
          "Private Sector/Self Employed",
          "Private Sector/Self Employed",
          "Private Sector/Self Employed",
          "Government Sector",
          "Private Sector/Self Employed",
          "Private Sector/Self Employed",
          "Private Sector/Self Employed",
          "Government Sector",
          "Private Sector/Self Employed",
          "Private Sector/Self Employed",
          "Private Sector/Self Employed",
          "Private Sector/Self Employed",
          "Private Sector/Self Employed",
          "Private Sector/Self Employed",
          "Private Sector/Self Employed",
          "Private Sector/Self Employed",
          "Private Sector/Self Employed",
          "Private Sector/Self Employed",
          "Private Sector/Self Employed",
          "Private Sector/Self Employed",
          "Government Sector",
          "Private Sector/Self Employed",
          "Private Sector/Self Employed",
          "Private Sector/Self Employed",
          "Private Sector/Self Employed",
          "Private Sector/Self Employed",
          "Private Sector/Self Employed",
          "Government Sector",
          "Private Sector/Self Employed",
          "Government Sector",
          "Private Sector/Self Employed",
          "Private Sector/Self Employed",
          "Private Sector/Self Employed",
          "Private Sector/Self Employed",
          "Private Sector/Self Employed",
          "Private Sector/Self Employed",
          "Private Sector/Self Employed",
          "Private Sector/Self Employed",
          "Private Sector/Self Employed",
          "Private Sector/Self Employed",
          "Government Sector",
          "Private Sector/Self Employed",
          "Private Sector/Self Employed",
          "Private Sector/Self Employed",
          "Private Sector/Self Employed",
          "Private Sector/Self Employed",
          "Private Sector/Self Employed",
          "Private Sector/Self Employed",
          "Private Sector/Self Employed",
          "Private Sector/Self Employed",
          "Private Sector/Self Employed",
          "Government Sector",
          "Private Sector/Self Employed",
          "Private Sector/Self Employed",
          "Private Sector/Self Employed",
          "Private Sector/Self Employed",
          "Private Sector/Self Employed",
          "Private Sector/Self Employed",
          "Private Sector/Self Employed",
          "Private Sector/Self Employed",
          "Private Sector/Self Employed",
          "Private Sector/Self Employed",
          "Government Sector",
          "Private Sector/Self Employed",
          "Government Sector",
          "Private Sector/Self Employed",
          "Private Sector/Self Employed",
          "Government Sector",
          "Government Sector",
          "Government Sector",
          "Private Sector/Self Employed",
          "Private Sector/Self Employed",
          "Private Sector/Self Employed",
          "Government Sector",
          "Private Sector/Self Employed",
          "Private Sector/Self Employed",
          "Private Sector/Self Employed",
          "Private Sector/Self Employed",
          "Private Sector/Self Employed",
          "Private Sector/Self Employed",
          "Government Sector",
          "Private Sector/Self Employed",
          "Government Sector",
          "Private Sector/Self Employed",
          "Government Sector",
          "Private Sector/Self Employed",
          "Government Sector",
          "Private Sector/Self Employed",
          "Private Sector/Self Employed",
          "Private Sector/Self Employed",
          "Government Sector",
          "Private Sector/Self Employed",
          "Private Sector/Self Employed",
          "Private Sector/Self Employed",
          "Government Sector",
          "Private Sector/Self Employed",
          "Private Sector/Self Employed",
          "Private Sector/Self Employed",
          "Private Sector/Self Employed",
          "Government Sector",
          "Government Sector",
          "Private Sector/Self Employed",
          "Private Sector/Self Employed",
          "Private Sector/Self Employed",
          "Private Sector/Self Employed",
          "Private Sector/Self Employed",
          "Private Sector/Self Employed",
          "Private Sector/Self Employed",
          "Government Sector",
          "Private Sector/Self Employed",
          "Private Sector/Self Employed",
          "Private Sector/Self Employed",
          "Private Sector/Self Employed",
          "Private Sector/Self Employed",
          "Private Sector/Self Employed",
          "Private Sector/Self Employed",
          "Private Sector/Self Employed",
          "Government Sector",
          "Private Sector/Self Employed",
          "Government Sector",
          "Private Sector/Self Employed",
          "Private Sector/Self Employed",
          "Private Sector/Self Employed",
          "Private Sector/Self Employed",
          "Private Sector/Self Employed",
          "Private Sector/Self Employed",
          "Private Sector/Self Employed",
          "Private Sector/Self Employed",
          "Private Sector/Self Employed",
          "Government Sector",
          "Private Sector/Self Employed",
          "Private Sector/Self Employed",
          "Private Sector/Self Employed",
          "Private Sector/Self Employed",
          "Private Sector/Self Employed",
          "Government Sector",
          "Government Sector",
          "Private Sector/Self Employed",
          "Private Sector/Self Employed",
          "Private Sector/Self Employed",
          "Government Sector",
          "Government Sector",
          "Private Sector/Self Employed",
          "Private Sector/Self Employed",
          "Private Sector/Self Employed",
          "Private Sector/Self Employed",
          "Private Sector/Self Employed",
          "Government Sector",
          "Government Sector",
          "Government Sector",
          "Government Sector",
          "Private Sector/Self Employed",
          "Private Sector/Self Employed",
          "Government Sector",
          "Private Sector/Self Employed",
          "Government Sector",
          "Government Sector",
          "Private Sector/Self Employed",
          "Private Sector/Self Employed",
          "Private Sector/Self Employed",
          "Private Sector/Self Employed",
          "Private Sector/Self Employed",
          "Private Sector/Self Employed",
          "Private Sector/Self Employed",
          "Government Sector",
          "Government Sector",
          "Private Sector/Self Employed",
          "Private Sector/Self Employed",
          "Private Sector/Self Employed",
          "Private Sector/Self Employed",
          "Private Sector/Self Employed",
          "Private Sector/Self Employed",
          "Private Sector/Self Employed",
          "Private Sector/Self Employed",
          "Private Sector/Self Employed",
          "Private Sector/Self Employed",
          "Private Sector/Self Employed",
          "Private Sector/Self Employed",
          "Government Sector",
          "Private Sector/Self Employed",
          "Private Sector/Self Employed",
          "Private Sector/Self Employed",
          "Government Sector",
          "Private Sector/Self Employed",
          "Private Sector/Self Employed",
          "Private Sector/Self Employed",
          "Private Sector/Self Employed",
          "Private Sector/Self Employed",
          "Private Sector/Self Employed",
          "Private Sector/Self Employed",
          "Government Sector",
          "Private Sector/Self Employed",
          "Private Sector/Self Employed",
          "Private Sector/Self Employed",
          "Government Sector",
          "Private Sector/Self Employed",
          "Private Sector/Self Employed",
          "Government Sector",
          "Private Sector/Self Employed",
          "Government Sector",
          "Private Sector/Self Employed",
          "Private Sector/Self Employed",
          "Government Sector",
          "Private Sector/Self Employed",
          "Private Sector/Self Employed",
          "Private Sector/Self Employed",
          "Private Sector/Self Employed",
          "Private Sector/Self Employed",
          "Private Sector/Self Employed",
          "Government Sector",
          "Private Sector/Self Employed",
          "Private Sector/Self Employed",
          "Private Sector/Self Employed",
          "Government Sector",
          "Private Sector/Self Employed",
          "Private Sector/Self Employed",
          "Private Sector/Self Employed",
          "Government Sector",
          "Private Sector/Self Employed",
          "Private Sector/Self Employed",
          "Private Sector/Self Employed",
          "Private Sector/Self Employed",
          "Government Sector",
          "Private Sector/Self Employed",
          "Private Sector/Self Employed",
          "Private Sector/Self Employed",
          "Private Sector/Self Employed",
          "Private Sector/Self Employed",
          "Private Sector/Self Employed",
          "Government Sector",
          "Private Sector/Self Employed",
          "Private Sector/Self Employed",
          "Private Sector/Self Employed",
          "Private Sector/Self Employed",
          "Government Sector",
          "Private Sector/Self Employed",
          "Private Sector/Self Employed",
          "Private Sector/Self Employed",
          "Government Sector",
          "Private Sector/Self Employed",
          "Private Sector/Self Employed",
          "Private Sector/Self Employed",
          "Private Sector/Self Employed",
          "Private Sector/Self Employed",
          "Government Sector",
          "Private Sector/Self Employed",
          "Government Sector",
          "Private Sector/Self Employed",
          "Private Sector/Self Employed",
          "Private Sector/Self Employed",
          "Private Sector/Self Employed",
          "Private Sector/Self Employed",
          "Private Sector/Self Employed",
          "Government Sector",
          "Private Sector/Self Employed",
          "Private Sector/Self Employed",
          "Private Sector/Self Employed",
          "Private Sector/Self Employed",
          "Government Sector",
          "Government Sector",
          "Government Sector",
          "Private Sector/Self Employed",
          "Private Sector/Self Employed",
          "Private Sector/Self Employed",
          "Private Sector/Self Employed",
          "Private Sector/Self Employed",
          "Private Sector/Self Employed",
          "Private Sector/Self Employed",
          "Private Sector/Self Employed",
          "Private Sector/Self Employed",
          "Private Sector/Self Employed",
          "Private Sector/Self Employed",
          "Private Sector/Self Employed",
          "Private Sector/Self Employed",
          "Private Sector/Self Employed",
          "Private Sector/Self Employed",
          "Private Sector/Self Employed",
          "Private Sector/Self Employed",
          "Private Sector/Self Employed",
          "Private Sector/Self Employed",
          "Government Sector",
          "Private Sector/Self Employed",
          "Private Sector/Self Employed",
          "Private Sector/Self Employed",
          "Private Sector/Self Employed",
          "Government Sector",
          "Government Sector",
          "Private Sector/Self Employed",
          "Private Sector/Self Employed",
          "Private Sector/Self Employed",
          "Government Sector",
          "Private Sector/Self Employed",
          "Private Sector/Self Employed",
          "Private Sector/Self Employed",
          "Private Sector/Self Employed",
          "Private Sector/Self Employed",
          "Private Sector/Self Employed",
          "Private Sector/Self Employed",
          "Private Sector/Self Employed",
          "Private Sector/Self Employed",
          "Government Sector",
          "Private Sector/Self Employed",
          "Private Sector/Self Employed",
          "Private Sector/Self Employed",
          "Private Sector/Self Employed",
          "Private Sector/Self Employed",
          "Private Sector/Self Employed",
          "Private Sector/Self Employed",
          "Private Sector/Self Employed",
          "Private Sector/Self Employed",
          "Government Sector",
          "Private Sector/Self Employed",
          "Private Sector/Self Employed",
          "Private Sector/Self Employed",
          "Private Sector/Self Employed",
          "Government Sector",
          "Private Sector/Self Employed",
          "Private Sector/Self Employed",
          "Private Sector/Self Employed",
          "Private Sector/Self Employed",
          "Private Sector/Self Employed",
          "Private Sector/Self Employed",
          "Private Sector/Self Employed",
          "Private Sector/Self Employed",
          "Private Sector/Self Employed",
          "Private Sector/Self Employed",
          "Private Sector/Self Employed",
          "Government Sector",
          "Private Sector/Self Employed",
          "Private Sector/Self Employed",
          "Private Sector/Self Employed",
          "Government Sector",
          "Private Sector/Self Employed",
          "Private Sector/Self Employed",
          "Private Sector/Self Employed",
          "Private Sector/Self Employed",
          "Private Sector/Self Employed",
          "Private Sector/Self Employed",
          "Government Sector",
          "Private Sector/Self Employed",
          "Private Sector/Self Employed",
          "Private Sector/Self Employed",
          "Private Sector/Self Employed",
          "Private Sector/Self Employed",
          "Private Sector/Self Employed",
          "Private Sector/Self Employed",
          "Government Sector",
          "Private Sector/Self Employed",
          "Government Sector",
          "Private Sector/Self Employed",
          "Private Sector/Self Employed",
          "Private Sector/Self Employed",
          "Private Sector/Self Employed",
          "Private Sector/Self Employed",
          "Private Sector/Self Employed",
          "Private Sector/Self Employed",
          "Government Sector",
          "Private Sector/Self Employed",
          "Private Sector/Self Employed",
          "Government Sector",
          "Private Sector/Self Employed",
          "Government Sector",
          "Private Sector/Self Employed",
          "Private Sector/Self Employed",
          "Government Sector",
          "Private Sector/Self Employed",
          "Private Sector/Self Employed",
          "Private Sector/Self Employed",
          "Government Sector",
          "Private Sector/Self Employed",
          "Private Sector/Self Employed",
          "Private Sector/Self Employed",
          "Private Sector/Self Employed",
          "Private Sector/Self Employed",
          "Government Sector",
          "Private Sector/Self Employed",
          "Private Sector/Self Employed",
          "Government Sector",
          "Private Sector/Self Employed",
          "Private Sector/Self Employed",
          "Government Sector",
          "Government Sector",
          "Private Sector/Self Employed",
          "Private Sector/Self Employed",
          "Private Sector/Self Employed",
          "Private Sector/Self Employed",
          "Private Sector/Self Employed",
          "Private Sector/Self Employed",
          "Private Sector/Self Employed",
          "Private Sector/Self Employed",
          "Government Sector",
          "Private Sector/Self Employed",
          "Private Sector/Self Employed",
          "Private Sector/Self Employed",
          "Private Sector/Self Employed",
          "Government Sector",
          "Private Sector/Self Employed",
          "Private Sector/Self Employed",
          "Government Sector",
          "Government Sector",
          "Government Sector",
          "Government Sector",
          "Government Sector",
          "Private Sector/Self Employed",
          "Private Sector/Self Employed",
          "Private Sector/Self Employed",
          "Private Sector/Self Employed",
          "Private Sector/Self Employed",
          "Private Sector/Self Employed",
          "Government Sector",
          "Private Sector/Self Employed",
          "Private Sector/Self Employed"
         ],
         "xaxis": "x",
         "yaxis": "y"
        }
       ],
       "layout": {
        "barmode": "relative",
        "legend": {
         "title": {
          "text": "TravelInsurance"
         },
         "tracegroupgap": 0
        },
        "template": {
         "data": {
          "bar": [
           {
            "error_x": {
             "color": "#2a3f5f"
            },
            "error_y": {
             "color": "#2a3f5f"
            },
            "marker": {
             "line": {
              "color": "#E5ECF6",
              "width": 0.5
             },
             "pattern": {
              "fillmode": "overlay",
              "size": 10,
              "solidity": 0.2
             }
            },
            "type": "bar"
           }
          ],
          "barpolar": [
           {
            "marker": {
             "line": {
              "color": "#E5ECF6",
              "width": 0.5
             },
             "pattern": {
              "fillmode": "overlay",
              "size": 10,
              "solidity": 0.2
             }
            },
            "type": "barpolar"
           }
          ],
          "carpet": [
           {
            "aaxis": {
             "endlinecolor": "#2a3f5f",
             "gridcolor": "white",
             "linecolor": "white",
             "minorgridcolor": "white",
             "startlinecolor": "#2a3f5f"
            },
            "baxis": {
             "endlinecolor": "#2a3f5f",
             "gridcolor": "white",
             "linecolor": "white",
             "minorgridcolor": "white",
             "startlinecolor": "#2a3f5f"
            },
            "type": "carpet"
           }
          ],
          "choropleth": [
           {
            "colorbar": {
             "outlinewidth": 0,
             "ticks": ""
            },
            "type": "choropleth"
           }
          ],
          "contour": [
           {
            "colorbar": {
             "outlinewidth": 0,
             "ticks": ""
            },
            "colorscale": [
             [
              0,
              "#0d0887"
             ],
             [
              0.1111111111111111,
              "#46039f"
             ],
             [
              0.2222222222222222,
              "#7201a8"
             ],
             [
              0.3333333333333333,
              "#9c179e"
             ],
             [
              0.4444444444444444,
              "#bd3786"
             ],
             [
              0.5555555555555556,
              "#d8576b"
             ],
             [
              0.6666666666666666,
              "#ed7953"
             ],
             [
              0.7777777777777778,
              "#fb9f3a"
             ],
             [
              0.8888888888888888,
              "#fdca26"
             ],
             [
              1,
              "#f0f921"
             ]
            ],
            "type": "contour"
           }
          ],
          "contourcarpet": [
           {
            "colorbar": {
             "outlinewidth": 0,
             "ticks": ""
            },
            "type": "contourcarpet"
           }
          ],
          "heatmap": [
           {
            "colorbar": {
             "outlinewidth": 0,
             "ticks": ""
            },
            "colorscale": [
             [
              0,
              "#0d0887"
             ],
             [
              0.1111111111111111,
              "#46039f"
             ],
             [
              0.2222222222222222,
              "#7201a8"
             ],
             [
              0.3333333333333333,
              "#9c179e"
             ],
             [
              0.4444444444444444,
              "#bd3786"
             ],
             [
              0.5555555555555556,
              "#d8576b"
             ],
             [
              0.6666666666666666,
              "#ed7953"
             ],
             [
              0.7777777777777778,
              "#fb9f3a"
             ],
             [
              0.8888888888888888,
              "#fdca26"
             ],
             [
              1,
              "#f0f921"
             ]
            ],
            "type": "heatmap"
           }
          ],
          "heatmapgl": [
           {
            "colorbar": {
             "outlinewidth": 0,
             "ticks": ""
            },
            "colorscale": [
             [
              0,
              "#0d0887"
             ],
             [
              0.1111111111111111,
              "#46039f"
             ],
             [
              0.2222222222222222,
              "#7201a8"
             ],
             [
              0.3333333333333333,
              "#9c179e"
             ],
             [
              0.4444444444444444,
              "#bd3786"
             ],
             [
              0.5555555555555556,
              "#d8576b"
             ],
             [
              0.6666666666666666,
              "#ed7953"
             ],
             [
              0.7777777777777778,
              "#fb9f3a"
             ],
             [
              0.8888888888888888,
              "#fdca26"
             ],
             [
              1,
              "#f0f921"
             ]
            ],
            "type": "heatmapgl"
           }
          ],
          "histogram": [
           {
            "marker": {
             "pattern": {
              "fillmode": "overlay",
              "size": 10,
              "solidity": 0.2
             }
            },
            "type": "histogram"
           }
          ],
          "histogram2d": [
           {
            "colorbar": {
             "outlinewidth": 0,
             "ticks": ""
            },
            "colorscale": [
             [
              0,
              "#0d0887"
             ],
             [
              0.1111111111111111,
              "#46039f"
             ],
             [
              0.2222222222222222,
              "#7201a8"
             ],
             [
              0.3333333333333333,
              "#9c179e"
             ],
             [
              0.4444444444444444,
              "#bd3786"
             ],
             [
              0.5555555555555556,
              "#d8576b"
             ],
             [
              0.6666666666666666,
              "#ed7953"
             ],
             [
              0.7777777777777778,
              "#fb9f3a"
             ],
             [
              0.8888888888888888,
              "#fdca26"
             ],
             [
              1,
              "#f0f921"
             ]
            ],
            "type": "histogram2d"
           }
          ],
          "histogram2dcontour": [
           {
            "colorbar": {
             "outlinewidth": 0,
             "ticks": ""
            },
            "colorscale": [
             [
              0,
              "#0d0887"
             ],
             [
              0.1111111111111111,
              "#46039f"
             ],
             [
              0.2222222222222222,
              "#7201a8"
             ],
             [
              0.3333333333333333,
              "#9c179e"
             ],
             [
              0.4444444444444444,
              "#bd3786"
             ],
             [
              0.5555555555555556,
              "#d8576b"
             ],
             [
              0.6666666666666666,
              "#ed7953"
             ],
             [
              0.7777777777777778,
              "#fb9f3a"
             ],
             [
              0.8888888888888888,
              "#fdca26"
             ],
             [
              1,
              "#f0f921"
             ]
            ],
            "type": "histogram2dcontour"
           }
          ],
          "mesh3d": [
           {
            "colorbar": {
             "outlinewidth": 0,
             "ticks": ""
            },
            "type": "mesh3d"
           }
          ],
          "parcoords": [
           {
            "line": {
             "colorbar": {
              "outlinewidth": 0,
              "ticks": ""
             }
            },
            "type": "parcoords"
           }
          ],
          "pie": [
           {
            "automargin": true,
            "type": "pie"
           }
          ],
          "scatter": [
           {
            "fillpattern": {
             "fillmode": "overlay",
             "size": 10,
             "solidity": 0.2
            },
            "type": "scatter"
           }
          ],
          "scatter3d": [
           {
            "line": {
             "colorbar": {
              "outlinewidth": 0,
              "ticks": ""
             }
            },
            "marker": {
             "colorbar": {
              "outlinewidth": 0,
              "ticks": ""
             }
            },
            "type": "scatter3d"
           }
          ],
          "scattercarpet": [
           {
            "marker": {
             "colorbar": {
              "outlinewidth": 0,
              "ticks": ""
             }
            },
            "type": "scattercarpet"
           }
          ],
          "scattergeo": [
           {
            "marker": {
             "colorbar": {
              "outlinewidth": 0,
              "ticks": ""
             }
            },
            "type": "scattergeo"
           }
          ],
          "scattergl": [
           {
            "marker": {
             "colorbar": {
              "outlinewidth": 0,
              "ticks": ""
             }
            },
            "type": "scattergl"
           }
          ],
          "scattermapbox": [
           {
            "marker": {
             "colorbar": {
              "outlinewidth": 0,
              "ticks": ""
             }
            },
            "type": "scattermapbox"
           }
          ],
          "scatterpolar": [
           {
            "marker": {
             "colorbar": {
              "outlinewidth": 0,
              "ticks": ""
             }
            },
            "type": "scatterpolar"
           }
          ],
          "scatterpolargl": [
           {
            "marker": {
             "colorbar": {
              "outlinewidth": 0,
              "ticks": ""
             }
            },
            "type": "scatterpolargl"
           }
          ],
          "scatterternary": [
           {
            "marker": {
             "colorbar": {
              "outlinewidth": 0,
              "ticks": ""
             }
            },
            "type": "scatterternary"
           }
          ],
          "surface": [
           {
            "colorbar": {
             "outlinewidth": 0,
             "ticks": ""
            },
            "colorscale": [
             [
              0,
              "#0d0887"
             ],
             [
              0.1111111111111111,
              "#46039f"
             ],
             [
              0.2222222222222222,
              "#7201a8"
             ],
             [
              0.3333333333333333,
              "#9c179e"
             ],
             [
              0.4444444444444444,
              "#bd3786"
             ],
             [
              0.5555555555555556,
              "#d8576b"
             ],
             [
              0.6666666666666666,
              "#ed7953"
             ],
             [
              0.7777777777777778,
              "#fb9f3a"
             ],
             [
              0.8888888888888888,
              "#fdca26"
             ],
             [
              1,
              "#f0f921"
             ]
            ],
            "type": "surface"
           }
          ],
          "table": [
           {
            "cells": {
             "fill": {
              "color": "#EBF0F8"
             },
             "line": {
              "color": "white"
             }
            },
            "header": {
             "fill": {
              "color": "#C8D4E3"
             },
             "line": {
              "color": "white"
             }
            },
            "type": "table"
           }
          ]
         },
         "layout": {
          "annotationdefaults": {
           "arrowcolor": "#2a3f5f",
           "arrowhead": 0,
           "arrowwidth": 1
          },
          "autotypenumbers": "strict",
          "coloraxis": {
           "colorbar": {
            "outlinewidth": 0,
            "ticks": ""
           }
          },
          "colorscale": {
           "diverging": [
            [
             0,
             "#8e0152"
            ],
            [
             0.1,
             "#c51b7d"
            ],
            [
             0.2,
             "#de77ae"
            ],
            [
             0.3,
             "#f1b6da"
            ],
            [
             0.4,
             "#fde0ef"
            ],
            [
             0.5,
             "#f7f7f7"
            ],
            [
             0.6,
             "#e6f5d0"
            ],
            [
             0.7,
             "#b8e186"
            ],
            [
             0.8,
             "#7fbc41"
            ],
            [
             0.9,
             "#4d9221"
            ],
            [
             1,
             "#276419"
            ]
           ],
           "sequential": [
            [
             0,
             "#0d0887"
            ],
            [
             0.1111111111111111,
             "#46039f"
            ],
            [
             0.2222222222222222,
             "#7201a8"
            ],
            [
             0.3333333333333333,
             "#9c179e"
            ],
            [
             0.4444444444444444,
             "#bd3786"
            ],
            [
             0.5555555555555556,
             "#d8576b"
            ],
            [
             0.6666666666666666,
             "#ed7953"
            ],
            [
             0.7777777777777778,
             "#fb9f3a"
            ],
            [
             0.8888888888888888,
             "#fdca26"
            ],
            [
             1,
             "#f0f921"
            ]
           ],
           "sequentialminus": [
            [
             0,
             "#0d0887"
            ],
            [
             0.1111111111111111,
             "#46039f"
            ],
            [
             0.2222222222222222,
             "#7201a8"
            ],
            [
             0.3333333333333333,
             "#9c179e"
            ],
            [
             0.4444444444444444,
             "#bd3786"
            ],
            [
             0.5555555555555556,
             "#d8576b"
            ],
            [
             0.6666666666666666,
             "#ed7953"
            ],
            [
             0.7777777777777778,
             "#fb9f3a"
            ],
            [
             0.8888888888888888,
             "#fdca26"
            ],
            [
             1,
             "#f0f921"
            ]
           ]
          },
          "colorway": [
           "#636efa",
           "#EF553B",
           "#00cc96",
           "#ab63fa",
           "#FFA15A",
           "#19d3f3",
           "#FF6692",
           "#B6E880",
           "#FF97FF",
           "#FECB52"
          ],
          "font": {
           "color": "#2a3f5f"
          },
          "geo": {
           "bgcolor": "white",
           "lakecolor": "white",
           "landcolor": "#E5ECF6",
           "showlakes": true,
           "showland": true,
           "subunitcolor": "white"
          },
          "hoverlabel": {
           "align": "left"
          },
          "hovermode": "closest",
          "mapbox": {
           "style": "light"
          },
          "paper_bgcolor": "white",
          "plot_bgcolor": "#E5ECF6",
          "polar": {
           "angularaxis": {
            "gridcolor": "white",
            "linecolor": "white",
            "ticks": ""
           },
           "bgcolor": "#E5ECF6",
           "radialaxis": {
            "gridcolor": "white",
            "linecolor": "white",
            "ticks": ""
           }
          },
          "scene": {
           "xaxis": {
            "backgroundcolor": "#E5ECF6",
            "gridcolor": "white",
            "gridwidth": 2,
            "linecolor": "white",
            "showbackground": true,
            "ticks": "",
            "zerolinecolor": "white"
           },
           "yaxis": {
            "backgroundcolor": "#E5ECF6",
            "gridcolor": "white",
            "gridwidth": 2,
            "linecolor": "white",
            "showbackground": true,
            "ticks": "",
            "zerolinecolor": "white"
           },
           "zaxis": {
            "backgroundcolor": "#E5ECF6",
            "gridcolor": "white",
            "gridwidth": 2,
            "linecolor": "white",
            "showbackground": true,
            "ticks": "",
            "zerolinecolor": "white"
           }
          },
          "shapedefaults": {
           "line": {
            "color": "#2a3f5f"
           }
          },
          "ternary": {
           "aaxis": {
            "gridcolor": "white",
            "linecolor": "white",
            "ticks": ""
           },
           "baxis": {
            "gridcolor": "white",
            "linecolor": "white",
            "ticks": ""
           },
           "bgcolor": "#E5ECF6",
           "caxis": {
            "gridcolor": "white",
            "linecolor": "white",
            "ticks": ""
           }
          },
          "title": {
           "x": 0.05
          },
          "xaxis": {
           "automargin": true,
           "gridcolor": "white",
           "linecolor": "white",
           "ticks": "",
           "title": {
            "standoff": 15
           },
           "zerolinecolor": "white",
           "zerolinewidth": 2
          },
          "yaxis": {
           "automargin": true,
           "gridcolor": "white",
           "linecolor": "white",
           "ticks": "",
           "title": {
            "standoff": 15
           },
           "zerolinecolor": "white",
           "zerolinewidth": 2
          }
         }
        },
        "title": {
         "text": "Factors Affecting Purchase of Travel Insurance: Employment Type"
        },
        "xaxis": {
         "anchor": "y",
         "domain": [
          0,
          1
         ],
         "title": {
          "text": "Employment Type"
         }
        },
        "yaxis": {
         "anchor": "x",
         "domain": [
          0,
          1
         ],
         "title": {
          "text": "count"
         }
        }
       }
      }
     },
     "metadata": {},
     "output_type": "display_data"
    }
   ],
   "source": [
    "\n",
    "data = data\n",
    "figure = px.histogram(data, x = \"Employment Type\", \n",
    "                      color = \"TravelInsurance\", \n",
    "                      title= \"Factors Affecting Purchase of Travel Insurance: Employment Type\")\n",
    "figure.show()\n"
   ]
  },
  {
   "attachments": {},
   "cell_type": "markdown",
   "metadata": {},
   "source": [
    "According to the visualization above, people working in the private sector or the self-employed are more likely to purchase travel insurance policy."
   ]
  },
  {
   "attachments": {},
   "cell_type": "markdown",
   "metadata": {},
   "source": [
    "let’s see how a person’s annual income affects the purchase of an insurance policy:\n",
    "\n",
    "The code below is creating a histogram using the Plotly Express library to visualize the relationship between annual income and the purchase of travel insurance. Here is a breakdown of each line:\n",
    "\n",
    "This line creates a histogram using the px.histogram() function from the Plotly Express library. The first argument is the data DataFrame, which contains the data to be plotted. The x argument specifies that the histogram should be created based on the \"AnnualIncome\" column of the data DataFrame. The color argument specifies that the histogram bars should be colored based on the \"TravelInsurance\" column of the data DataFrame. The title argument specifies the title of the histogram."
   ]
  },
  {
   "cell_type": "code",
   "execution_count": 66,
   "metadata": {},
   "outputs": [
    {
     "data": {
      "application/vnd.plotly.v1+json": {
       "config": {
        "plotlyServerURL": "https://plot.ly"
       },
       "data": [
        {
         "alignmentgroup": "True",
         "bingroup": "x",
         "hovertemplate": "TravelInsurance=Not Purchased<br>AnnualIncome=%{x}<br>count=%{y}<extra></extra>",
         "legendgroup": "Not Purchased",
         "marker": {
          "color": "#636efa",
          "pattern": {
           "shape": ""
          }
         },
         "name": "Not Purchased",
         "offsetgroup": "Not Purchased",
         "orientation": "v",
         "showlegend": true,
         "type": "histogram",
         "x": [
          400000,
          1250000,
          700000,
          700000,
          1150000,
          1300000,
          800000,
          400000,
          400000,
          700000,
          1150000,
          1150000,
          1100000,
          1500000,
          800000,
          1250000,
          600000,
          900000,
          550000,
          300000,
          850000,
          1400000,
          300000,
          700000,
          1100000,
          550000,
          1100000,
          600000,
          1250000,
          1050000,
          1250000,
          300000,
          1200000,
          750000,
          1250000,
          800000,
          500000,
          600000,
          800000,
          350000,
          300000,
          1300000,
          750000,
          800000,
          750000,
          700000,
          1300000,
          400000,
          400000,
          1300000,
          1150000,
          1250000,
          350000,
          900000,
          300000,
          1050000,
          300000,
          1050000,
          300000,
          1150000,
          1300000,
          700000,
          350000,
          1100000,
          600000,
          500000,
          1150000,
          750000,
          1300000,
          850000,
          400000,
          800000,
          800000,
          900000,
          500000,
          900000,
          400000,
          500000,
          800000,
          800000,
          850000,
          350000,
          800000,
          750000,
          1050000,
          800000,
          750000,
          1100000,
          600000,
          600000,
          1150000,
          550000,
          1400000,
          350000,
          1300000,
          1250000,
          1150000,
          400000,
          800000,
          1200000,
          600000,
          700000,
          900000,
          600000,
          900000,
          350000,
          300000,
          1000000,
          800000,
          400000,
          850000,
          600000,
          900000,
          600000,
          800000,
          1250000,
          350000,
          1250000,
          750000,
          1300000,
          1700000,
          750000,
          650000,
          500000,
          900000,
          650000,
          800000,
          1300000,
          1100000,
          1150000,
          1100000,
          900000,
          1150000,
          350000,
          1700000,
          1200000,
          450000,
          750000,
          850000,
          1100000,
          800000,
          1500000,
          1250000,
          800000,
          1200000,
          1200000,
          650000,
          1100000,
          1250000,
          1300000,
          1000000,
          1000000,
          900000,
          1200000,
          1250000,
          1200000,
          1300000,
          550000,
          500000,
          600000,
          1250000,
          350000,
          400000,
          750000,
          500000,
          1150000,
          350000,
          1150000,
          300000,
          1200000,
          900000,
          750000,
          800000,
          350000,
          850000,
          400000,
          800000,
          900000,
          700000,
          1050000,
          950000,
          350000,
          800000,
          750000,
          600000,
          750000,
          600000,
          1200000,
          1100000,
          500000,
          900000,
          1300000,
          850000,
          1200000,
          550000,
          350000,
          450000,
          850000,
          300000,
          1050000,
          1250000,
          1150000,
          1000000,
          550000,
          850000,
          300000,
          950000,
          800000,
          500000,
          750000,
          300000,
          1250000,
          1150000,
          1300000,
          1100000,
          800000,
          1400000,
          350000,
          550000,
          600000,
          1050000,
          800000,
          550000,
          1250000,
          800000,
          1200000,
          1300000,
          1400000,
          500000,
          950000,
          1200000,
          300000,
          1000000,
          500000,
          1000000,
          1150000,
          550000,
          700000,
          1300000,
          1200000,
          300000,
          1300000,
          800000,
          900000,
          350000,
          900000,
          600000,
          1100000,
          1300000,
          1200000,
          1200000,
          1100000,
          600000,
          1000000,
          300000,
          550000,
          1050000,
          800000,
          750000,
          1250000,
          800000,
          1200000,
          700000,
          1250000,
          800000,
          850000,
          350000,
          700000,
          550000,
          600000,
          300000,
          600000,
          1000000,
          1150000,
          1050000,
          300000,
          350000,
          500000,
          700000,
          350000,
          500000,
          500000,
          1100000,
          1200000,
          800000,
          400000,
          800000,
          1100000,
          1050000,
          700000,
          500000,
          1250000,
          800000,
          1100000,
          300000,
          1100000,
          1150000,
          750000,
          1250000,
          750000,
          550000,
          500000,
          1200000,
          1300000,
          1250000,
          300000,
          1100000,
          900000,
          1300000,
          1100000,
          850000,
          1150000,
          450000,
          550000,
          300000,
          800000,
          1200000,
          500000,
          1050000,
          1300000,
          1200000,
          600000,
          600000,
          350000,
          1250000,
          1300000,
          500000,
          800000,
          600000,
          800000,
          950000,
          1250000,
          1100000,
          850000,
          850000,
          1250000,
          1100000,
          1100000,
          400000,
          800000,
          500000,
          1100000,
          700000,
          1150000,
          1250000,
          900000,
          1150000,
          600000,
          500000,
          1150000,
          400000,
          1200000,
          600000,
          850000,
          400000,
          600000,
          550000,
          850000,
          300000,
          1050000,
          1050000,
          1400000,
          800000,
          1750000,
          550000,
          1050000,
          850000,
          1050000,
          1000000,
          900000,
          800000,
          850000,
          800000,
          500000,
          1150000,
          850000,
          550000,
          350000,
          1150000,
          1000000,
          400000,
          1250000,
          700000,
          1100000,
          900000,
          300000,
          500000,
          1150000,
          600000,
          550000,
          1150000,
          1000000,
          700000,
          1300000,
          350000,
          800000,
          550000,
          900000,
          500000,
          550000,
          1250000,
          1000000,
          300000,
          750000,
          1050000,
          650000,
          800000,
          1100000,
          1000000,
          1750000,
          1100000,
          500000,
          1150000,
          600000,
          1100000,
          700000,
          700000,
          1300000,
          550000,
          1300000,
          1250000,
          800000,
          700000,
          500000,
          1100000,
          800000,
          1100000,
          1100000,
          800000,
          300000,
          500000,
          1750000,
          700000,
          500000,
          500000,
          300000,
          300000,
          500000,
          1250000,
          800000,
          1300000,
          1000000,
          600000,
          800000,
          1100000,
          1050000,
          850000,
          350000,
          1200000,
          450000,
          500000,
          1200000,
          750000,
          1150000,
          1150000,
          400000,
          500000,
          1400000,
          950000,
          300000,
          800000,
          1150000,
          350000,
          800000,
          500000,
          500000,
          850000,
          700000,
          550000,
          1000000,
          300000,
          1200000,
          800000,
          900000,
          1300000,
          850000,
          1050000,
          1050000,
          750000,
          1250000,
          600000,
          800000,
          800000,
          900000,
          300000,
          650000,
          800000,
          500000,
          1050000,
          600000,
          500000,
          650000,
          800000,
          1100000,
          850000,
          1200000,
          300000,
          500000,
          500000,
          800000,
          600000,
          500000,
          350000,
          700000,
          300000,
          800000,
          600000,
          950000,
          950000,
          800000,
          350000,
          500000,
          850000,
          400000,
          1200000,
          1100000,
          1200000,
          500000,
          1000000,
          500000,
          750000,
          500000,
          350000,
          300000,
          300000,
          1200000,
          1200000,
          1050000,
          350000,
          1050000,
          550000,
          600000,
          450000,
          1000000,
          550000,
          1050000,
          1700000,
          1050000,
          1150000,
          1150000,
          1200000,
          1200000,
          850000,
          1150000,
          600000,
          1050000,
          600000,
          1100000,
          1100000,
          1100000,
          600000,
          1100000,
          750000,
          700000,
          900000,
          1300000,
          850000,
          500000,
          400000,
          850000,
          500000,
          1050000,
          800000,
          1000000,
          300000,
          1100000,
          600000,
          750000,
          1200000,
          800000,
          1700000,
          1000000,
          550000,
          600000,
          800000,
          600000,
          750000,
          1200000,
          600000,
          350000,
          600000,
          1250000,
          800000,
          1050000,
          1050000,
          400000,
          600000,
          1300000,
          1300000,
          700000,
          600000,
          300000,
          550000,
          1300000,
          1300000,
          1300000,
          1050000,
          800000,
          600000,
          300000,
          650000,
          400000,
          900000,
          1100000,
          400000,
          800000,
          1200000,
          600000,
          800000,
          800000,
          1250000,
          1000000,
          500000,
          1200000,
          600000,
          1200000,
          800000,
          500000,
          550000,
          1750000,
          1000000,
          500000,
          350000,
          500000,
          300000,
          1000000,
          1150000,
          900000,
          1250000,
          900000,
          450000,
          1200000,
          1300000,
          900000,
          650000,
          300000,
          750000,
          850000,
          550000,
          1750000,
          1100000,
          700000,
          550000,
          850000,
          700000,
          300000,
          500000,
          1250000,
          400000,
          350000,
          1100000,
          500000,
          1200000,
          600000,
          350000,
          300000,
          400000,
          1150000,
          850000,
          700000,
          1150000,
          1150000,
          300000,
          1000000,
          1200000,
          1250000,
          1300000,
          750000,
          800000,
          500000,
          500000,
          500000,
          1100000,
          400000,
          500000,
          900000,
          1100000,
          600000,
          1200000,
          400000,
          1300000,
          700000,
          900000,
          350000,
          950000,
          400000,
          650000,
          1200000,
          1200000,
          300000,
          800000,
          800000,
          750000,
          400000,
          500000,
          1500000,
          650000,
          1050000,
          300000,
          1000000,
          700000,
          1200000,
          1150000,
          1050000,
          1250000,
          300000,
          1200000,
          1250000,
          500000,
          1100000,
          700000,
          600000,
          1150000,
          500000,
          1200000,
          1050000,
          1000000,
          1300000,
          1100000,
          500000,
          800000,
          400000,
          1000000,
          700000,
          800000,
          1100000,
          300000,
          300000,
          1100000,
          300000,
          1200000,
          650000,
          700000,
          550000,
          400000,
          800000,
          900000,
          500000,
          750000,
          750000,
          750000,
          500000,
          300000,
          500000,
          1200000,
          700000,
          300000,
          1150000,
          1000000,
          700000,
          1250000,
          1050000,
          900000,
          1300000,
          1050000,
          600000,
          1300000,
          400000,
          800000,
          400000,
          1300000,
          700000,
          500000,
          500000,
          600000,
          300000,
          1100000,
          800000,
          400000,
          900000,
          1200000,
          500000,
          1300000,
          1250000,
          1150000,
          950000,
          900000,
          300000,
          400000,
          1200000,
          650000,
          1150000,
          700000,
          450000,
          1200000,
          1300000,
          1200000,
          400000,
          1150000,
          1100000,
          300000,
          1350000,
          550000,
          350000,
          1050000,
          400000,
          350000,
          1050000,
          1300000,
          1200000,
          600000,
          900000,
          700000,
          700000,
          1150000,
          1250000,
          500000,
          1200000,
          600000,
          800000,
          1050000,
          1200000,
          550000,
          550000,
          600000,
          400000,
          1000000,
          1200000,
          350000,
          1200000,
          1000000,
          600000,
          600000,
          900000,
          400000,
          500000,
          550000,
          500000,
          750000,
          800000,
          650000,
          300000,
          600000,
          1050000,
          300000,
          700000,
          1200000,
          550000,
          1200000,
          700000,
          900000,
          1250000,
          1300000,
          900000,
          1150000,
          600000,
          300000,
          1750000,
          700000,
          800000,
          900000,
          1100000,
          1200000,
          1250000,
          750000,
          900000,
          1250000,
          1000000,
          700000,
          1100000,
          1300000,
          800000,
          1100000,
          400000,
          1200000,
          550000,
          550000,
          1300000,
          600000,
          350000,
          750000,
          1750000,
          750000,
          800000,
          650000,
          300000,
          750000,
          1300000,
          800000,
          1000000,
          500000,
          500000,
          350000,
          900000,
          1400000,
          1000000,
          650000,
          1100000,
          350000,
          900000,
          600000,
          1050000,
          300000,
          600000,
          600000,
          1100000,
          1250000,
          550000,
          1150000,
          700000,
          600000,
          800000,
          1050000,
          700000,
          700000,
          550000,
          400000,
          600000,
          500000,
          1750000,
          900000,
          850000,
          850000,
          400000,
          500000,
          900000,
          1100000,
          300000,
          800000,
          1100000,
          1150000,
          550000,
          1050000,
          800000,
          550000,
          400000,
          500000,
          1150000,
          400000,
          950000,
          1200000,
          850000,
          1250000,
          300000,
          1100000,
          1200000,
          1050000,
          300000,
          300000,
          1000000,
          1100000,
          750000,
          700000,
          300000,
          800000,
          500000,
          350000,
          350000,
          700000,
          1150000,
          1000000,
          900000,
          750000,
          600000,
          1200000,
          800000,
          750000,
          500000,
          850000,
          500000,
          1150000,
          750000,
          1300000,
          500000,
          1300000,
          500000,
          350000,
          1300000,
          600000,
          400000,
          750000,
          1200000,
          800000,
          750000,
          500000,
          750000,
          1200000,
          600000,
          400000,
          1100000,
          1100000,
          800000,
          350000,
          1200000,
          550000,
          450000,
          700000,
          1200000,
          1300000,
          900000,
          800000,
          800000,
          1050000,
          1200000,
          700000,
          1250000,
          550000,
          800000,
          1200000,
          500000,
          700000,
          1150000,
          650000,
          550000,
          550000,
          300000,
          500000,
          1200000,
          1200000,
          900000,
          300000,
          300000,
          750000,
          900000,
          550000,
          300000,
          500000,
          500000,
          400000,
          1250000,
          650000,
          850000,
          1250000,
          700000,
          600000,
          1050000,
          450000,
          700000,
          500000,
          550000,
          550000,
          650000,
          1150000,
          300000,
          750000,
          850000,
          900000,
          600000,
          1150000,
          1000000,
          1000000,
          800000,
          1150000,
          1000000,
          1250000,
          1400000,
          600000,
          1100000,
          1250000,
          1150000,
          1150000,
          850000,
          1100000,
          1150000,
          300000,
          600000,
          550000,
          950000,
          500000,
          700000,
          550000,
          1250000,
          1150000,
          300000,
          750000,
          350000,
          700000,
          950000,
          300000,
          550000,
          1300000,
          1050000,
          800000,
          800000,
          750000,
          800000,
          400000,
          1250000,
          500000,
          1100000,
          400000,
          1100000,
          800000,
          1050000,
          500000,
          800000,
          1250000,
          1050000,
          900000,
          1400000,
          300000,
          400000,
          800000,
          1200000,
          1100000,
          800000,
          500000,
          800000,
          1250000,
          1100000,
          800000,
          700000,
          1100000,
          500000,
          1100000,
          500000,
          1200000,
          300000,
          1050000,
          500000,
          1050000,
          1200000,
          500000,
          600000,
          800000,
          800000,
          550000,
          850000,
          400000,
          1100000,
          1100000,
          700000,
          300000,
          500000,
          850000,
          1150000,
          500000,
          750000,
          500000,
          1300000,
          1050000,
          900000,
          550000,
          650000,
          1050000,
          1050000,
          1150000,
          500000,
          350000,
          1200000,
          700000,
          750000,
          950000,
          600000,
          850000,
          1150000,
          950000,
          500000,
          1750000,
          1150000,
          1150000,
          1200000,
          850000,
          1200000,
          800000,
          750000,
          1200000,
          400000,
          1100000,
          1200000,
          600000,
          500000,
          300000,
          350000,
          1100000,
          800000,
          1000000,
          500000,
          800000,
          800000,
          800000,
          600000,
          1200000,
          300000,
          350000,
          1050000,
          1200000,
          1100000,
          400000,
          800000,
          1300000,
          700000,
          350000,
          900000,
          350000,
          700000,
          1200000,
          350000,
          300000,
          850000,
          400000,
          1250000,
          300000,
          1200000,
          700000,
          600000,
          900000,
          800000,
          550000,
          1050000,
          550000,
          500000,
          300000,
          1050000,
          1000000,
          500000,
          1100000,
          350000,
          500000,
          1100000,
          350000,
          900000,
          750000,
          1300000,
          1200000,
          700000,
          850000,
          700000,
          500000,
          600000,
          1250000,
          1000000,
          600000,
          400000,
          700000,
          600000,
          800000,
          300000,
          1150000,
          500000,
          1100000,
          550000,
          800000,
          1100000,
          300000,
          800000,
          300000,
          500000,
          750000,
          750000,
          400000,
          1200000,
          1300000,
          800000,
          550000,
          1350000,
          1000000,
          500000,
          1400000,
          450000,
          1400000,
          900000,
          1050000,
          900000,
          1250000,
          600000,
          550000,
          1750000,
          1250000,
          1300000,
          550000,
          500000,
          1150000,
          1100000,
          700000,
          700000,
          300000,
          500000,
          950000,
          800000,
          1200000,
          900000,
          1100000,
          1150000,
          1750000,
          1150000,
          500000
         ],
         "xaxis": "x",
         "yaxis": "y"
        },
        {
         "alignmentgroup": "True",
         "bingroup": "x",
         "hovertemplate": "TravelInsurance=Purchased<br>AnnualIncome=%{x}<br>count=%{y}<extra></extra>",
         "legendgroup": "Purchased",
         "marker": {
          "color": "#EF553B",
          "pattern": {
           "shape": ""
          }
         },
         "name": "Purchased",
         "offsetgroup": "Purchased",
         "orientation": "v",
         "showlegend": true,
         "type": "histogram",
         "x": [
          500000,
          1350000,
          1450000,
          1400000,
          850000,
          1500000,
          800000,
          1050000,
          1500000,
          350000,
          600000,
          1300000,
          750000,
          800000,
          1500000,
          1400000,
          1500000,
          1200000,
          1400000,
          1400000,
          1400000,
          1350000,
          550000,
          1000000,
          1400000,
          1400000,
          800000,
          1450000,
          1500000,
          1200000,
          1300000,
          950000,
          1700000,
          700000,
          1400000,
          1300000,
          1500000,
          1400000,
          1300000,
          1700000,
          1150000,
          1500000,
          1400000,
          500000,
          1350000,
          1750000,
          800000,
          500000,
          800000,
          750000,
          1400000,
          650000,
          1200000,
          1300000,
          1250000,
          1200000,
          1400000,
          500000,
          1350000,
          450000,
          700000,
          1050000,
          800000,
          300000,
          500000,
          1400000,
          1400000,
          1000000,
          1350000,
          1450000,
          1050000,
          1400000,
          600000,
          1150000,
          1350000,
          1400000,
          1050000,
          1300000,
          1500000,
          800000,
          1050000,
          1300000,
          1000000,
          1350000,
          1400000,
          1500000,
          1300000,
          550000,
          400000,
          1400000,
          1100000,
          1100000,
          500000,
          1300000,
          1000000,
          850000,
          1400000,
          800000,
          1400000,
          750000,
          1250000,
          800000,
          1700000,
          900000,
          700000,
          650000,
          650000,
          1500000,
          1150000,
          1400000,
          800000,
          1100000,
          1700000,
          1400000,
          700000,
          550000,
          1650000,
          1050000,
          800000,
          1100000,
          1800000,
          1350000,
          1150000,
          1400000,
          1350000,
          1700000,
          800000,
          1300000,
          1550000,
          1700000,
          1550000,
          1400000,
          1350000,
          1350000,
          550000,
          1200000,
          950000,
          1200000,
          650000,
          650000,
          1200000,
          1700000,
          1700000,
          1400000,
          1400000,
          1400000,
          1500000,
          1400000,
          1100000,
          1400000,
          1300000,
          1300000,
          1500000,
          1000000,
          850000,
          1150000,
          700000,
          1500000,
          500000,
          1300000,
          1500000,
          1500000,
          1350000,
          900000,
          1500000,
          1500000,
          1700000,
          1400000,
          1000000,
          1400000,
          1500000,
          1050000,
          800000,
          850000,
          1100000,
          1200000,
          1500000,
          300000,
          900000,
          1450000,
          500000,
          1250000,
          1350000,
          1700000,
          800000,
          1300000,
          450000,
          1350000,
          600000,
          1500000,
          1400000,
          1400000,
          1200000,
          1400000,
          550000,
          800000,
          900000,
          1400000,
          500000,
          500000,
          1400000,
          900000,
          800000,
          1400000,
          1700000,
          1350000,
          800000,
          1500000,
          1500000,
          1400000,
          1250000,
          800000,
          700000,
          550000,
          1650000,
          1100000,
          1400000,
          1400000,
          1450000,
          1300000,
          1400000,
          1400000,
          800000,
          1200000,
          1450000,
          800000,
          1500000,
          750000,
          1700000,
          1100000,
          1500000,
          1500000,
          1500000,
          1100000,
          1400000,
          1200000,
          1450000,
          1350000,
          700000,
          1500000,
          1450000,
          1000000,
          1450000,
          1100000,
          1100000,
          400000,
          800000,
          1700000,
          1100000,
          500000,
          1050000,
          700000,
          550000,
          1000000,
          1300000,
          1050000,
          1300000,
          1300000,
          1350000,
          550000,
          1400000,
          700000,
          1500000,
          1500000,
          500000,
          1400000,
          1400000,
          500000,
          1500000,
          750000,
          900000,
          800000,
          1150000,
          1300000,
          500000,
          550000,
          1050000,
          1500000,
          1450000,
          500000,
          900000,
          1000000,
          900000,
          850000,
          1000000,
          1050000,
          1500000,
          1500000,
          1400000,
          1450000,
          1250000,
          1100000,
          1500000,
          1050000,
          500000,
          700000,
          600000,
          1450000,
          1350000,
          1400000,
          1400000,
          350000,
          1400000,
          1050000,
          1350000,
          1100000,
          1350000,
          1400000,
          800000,
          600000,
          1700000,
          1050000,
          500000,
          1400000,
          1400000,
          1400000,
          1400000,
          1500000,
          1000000,
          1500000,
          700000,
          1500000,
          450000,
          600000,
          700000,
          1050000,
          1550000,
          1200000,
          500000,
          1400000,
          1400000,
          1200000,
          1500000,
          1450000,
          1300000,
          1700000,
          1450000,
          600000,
          400000,
          1700000,
          1050000,
          1500000,
          1500000,
          1450000,
          1500000,
          950000,
          1400000,
          1400000,
          1400000,
          400000,
          600000,
          1450000,
          1400000,
          1400000,
          1300000,
          1250000,
          1000000,
          1400000,
          1500000,
          950000,
          550000,
          1400000,
          850000,
          1150000,
          1400000,
          800000,
          1300000,
          850000,
          1400000,
          900000,
          550000,
          850000,
          1350000,
          1350000,
          1050000,
          1700000,
          1200000,
          700000,
          500000,
          1350000,
          1450000,
          1500000,
          1500000,
          1500000,
          1100000,
          1450000,
          800000,
          450000,
          1450000,
          1400000,
          950000,
          1400000,
          600000,
          1000000,
          700000,
          1800000,
          1500000,
          1300000,
          1100000,
          1250000,
          1100000,
          600000,
          1500000,
          1400000,
          600000,
          700000,
          600000,
          1300000,
          800000,
          600000,
          1400000,
          1400000,
          1150000,
          1400000,
          900000,
          850000,
          800000,
          1100000,
          1350000,
          1700000,
          1400000,
          1400000,
          800000,
          1200000,
          1500000,
          800000,
          1700000,
          750000,
          1700000,
          800000,
          700000,
          1400000,
          1500000,
          400000,
          1500000,
          1500000,
          700000,
          1500000,
          1100000,
          700000,
          1400000,
          500000,
          1700000,
          700000,
          500000,
          1300000,
          400000,
          800000,
          500000,
          1400000,
          1350000,
          1000000,
          500000,
          650000,
          1200000,
          1500000,
          550000,
          1200000,
          1400000,
          1400000,
          1400000,
          1500000,
          900000,
          500000,
          550000,
          1050000,
          900000,
          1400000,
          1150000,
          800000,
          1400000,
          1400000,
          1700000,
          1350000,
          1350000,
          1050000,
          400000,
          800000,
          1400000,
          1250000,
          750000,
          1450000,
          1500000,
          700000,
          1400000,
          1500000,
          1700000,
          1400000,
          700000,
          1400000,
          650000,
          1500000,
          850000,
          1400000,
          700000,
          850000,
          1350000,
          1200000,
          550000,
          1450000,
          1450000,
          500000,
          1400000,
          1400000,
          1400000,
          650000,
          1150000,
          1050000,
          1400000,
          750000,
          1000000,
          700000,
          1200000,
          1200000,
          500000,
          1300000,
          800000,
          1350000,
          1150000,
          1300000,
          650000,
          1400000,
          1150000,
          700000,
          1400000,
          500000,
          500000,
          400000,
          1200000,
          500000,
          1050000,
          1350000,
          1100000,
          1700000,
          600000,
          1500000,
          1100000,
          1750000,
          1400000,
          500000,
          1350000,
          1400000,
          750000,
          600000,
          400000,
          1750000,
          1700000,
          1450000,
          1000000,
          1400000,
          1250000,
          300000,
          1350000,
          550000,
          1250000,
          1250000,
          600000,
          1750000,
          650000,
          500000,
          550000,
          1400000,
          1500000,
          750000,
          1450000,
          1400000,
          1450000,
          1100000,
          1500000,
          1500000,
          1500000,
          1100000,
          550000,
          1700000,
          1450000,
          1400000,
          1700000,
          1400000,
          300000,
          350000,
          1500000,
          1400000,
          1400000,
          1300000,
          500000,
          1000000,
          1400000,
          1150000,
          300000,
          1050000,
          900000,
          800000,
          1200000,
          1700000,
          1100000,
          1250000,
          1800000,
          1500000,
          1100000,
          500000,
          1400000,
          1200000,
          1300000,
          500000,
          1050000,
          1350000,
          1350000,
          750000,
          1050000,
          1350000,
          1400000,
          800000,
          1400000,
          1300000,
          700000,
          1250000,
          1350000,
          1400000,
          1500000,
          700000,
          1700000,
          1450000,
          1500000,
          900000,
          1500000,
          900000,
          750000,
          950000,
          1500000,
          600000,
          1450000,
          900000,
          1500000,
          1300000,
          800000,
          1400000,
          1100000,
          1700000,
          1200000,
          700000,
          1500000,
          1500000,
          1450000,
          1700000,
          1450000,
          1400000,
          550000,
          1350000,
          550000,
          550000,
          1050000,
          1400000,
          1350000,
          1800000,
          800000,
          1400000,
          1700000,
          1200000,
          550000,
          1300000,
          1550000,
          750000,
          400000,
          1400000,
          800000,
          1400000,
          1500000,
          1700000,
          1500000,
          1400000,
          1500000,
          700000,
          1050000,
          1300000,
          1350000,
          1200000,
          800000,
          1400000,
          1100000,
          650000,
          1450000,
          600000,
          1550000,
          1300000,
          1400000,
          1400000,
          1000000,
          1500000,
          600000,
          1500000,
          450000,
          1500000,
          550000,
          850000,
          800000,
          700000,
          1500000,
          1300000,
          350000,
          300000,
          1100000,
          550000,
          500000,
          1350000,
          1400000,
          1350000,
          700000,
          850000,
          1500000,
          1000000
         ],
         "xaxis": "x",
         "yaxis": "y"
        }
       ],
       "layout": {
        "barmode": "relative",
        "legend": {
         "title": {
          "text": "TravelInsurance"
         },
         "tracegroupgap": 0
        },
        "template": {
         "data": {
          "bar": [
           {
            "error_x": {
             "color": "#2a3f5f"
            },
            "error_y": {
             "color": "#2a3f5f"
            },
            "marker": {
             "line": {
              "color": "#E5ECF6",
              "width": 0.5
             },
             "pattern": {
              "fillmode": "overlay",
              "size": 10,
              "solidity": 0.2
             }
            },
            "type": "bar"
           }
          ],
          "barpolar": [
           {
            "marker": {
             "line": {
              "color": "#E5ECF6",
              "width": 0.5
             },
             "pattern": {
              "fillmode": "overlay",
              "size": 10,
              "solidity": 0.2
             }
            },
            "type": "barpolar"
           }
          ],
          "carpet": [
           {
            "aaxis": {
             "endlinecolor": "#2a3f5f",
             "gridcolor": "white",
             "linecolor": "white",
             "minorgridcolor": "white",
             "startlinecolor": "#2a3f5f"
            },
            "baxis": {
             "endlinecolor": "#2a3f5f",
             "gridcolor": "white",
             "linecolor": "white",
             "minorgridcolor": "white",
             "startlinecolor": "#2a3f5f"
            },
            "type": "carpet"
           }
          ],
          "choropleth": [
           {
            "colorbar": {
             "outlinewidth": 0,
             "ticks": ""
            },
            "type": "choropleth"
           }
          ],
          "contour": [
           {
            "colorbar": {
             "outlinewidth": 0,
             "ticks": ""
            },
            "colorscale": [
             [
              0,
              "#0d0887"
             ],
             [
              0.1111111111111111,
              "#46039f"
             ],
             [
              0.2222222222222222,
              "#7201a8"
             ],
             [
              0.3333333333333333,
              "#9c179e"
             ],
             [
              0.4444444444444444,
              "#bd3786"
             ],
             [
              0.5555555555555556,
              "#d8576b"
             ],
             [
              0.6666666666666666,
              "#ed7953"
             ],
             [
              0.7777777777777778,
              "#fb9f3a"
             ],
             [
              0.8888888888888888,
              "#fdca26"
             ],
             [
              1,
              "#f0f921"
             ]
            ],
            "type": "contour"
           }
          ],
          "contourcarpet": [
           {
            "colorbar": {
             "outlinewidth": 0,
             "ticks": ""
            },
            "type": "contourcarpet"
           }
          ],
          "heatmap": [
           {
            "colorbar": {
             "outlinewidth": 0,
             "ticks": ""
            },
            "colorscale": [
             [
              0,
              "#0d0887"
             ],
             [
              0.1111111111111111,
              "#46039f"
             ],
             [
              0.2222222222222222,
              "#7201a8"
             ],
             [
              0.3333333333333333,
              "#9c179e"
             ],
             [
              0.4444444444444444,
              "#bd3786"
             ],
             [
              0.5555555555555556,
              "#d8576b"
             ],
             [
              0.6666666666666666,
              "#ed7953"
             ],
             [
              0.7777777777777778,
              "#fb9f3a"
             ],
             [
              0.8888888888888888,
              "#fdca26"
             ],
             [
              1,
              "#f0f921"
             ]
            ],
            "type": "heatmap"
           }
          ],
          "heatmapgl": [
           {
            "colorbar": {
             "outlinewidth": 0,
             "ticks": ""
            },
            "colorscale": [
             [
              0,
              "#0d0887"
             ],
             [
              0.1111111111111111,
              "#46039f"
             ],
             [
              0.2222222222222222,
              "#7201a8"
             ],
             [
              0.3333333333333333,
              "#9c179e"
             ],
             [
              0.4444444444444444,
              "#bd3786"
             ],
             [
              0.5555555555555556,
              "#d8576b"
             ],
             [
              0.6666666666666666,
              "#ed7953"
             ],
             [
              0.7777777777777778,
              "#fb9f3a"
             ],
             [
              0.8888888888888888,
              "#fdca26"
             ],
             [
              1,
              "#f0f921"
             ]
            ],
            "type": "heatmapgl"
           }
          ],
          "histogram": [
           {
            "marker": {
             "pattern": {
              "fillmode": "overlay",
              "size": 10,
              "solidity": 0.2
             }
            },
            "type": "histogram"
           }
          ],
          "histogram2d": [
           {
            "colorbar": {
             "outlinewidth": 0,
             "ticks": ""
            },
            "colorscale": [
             [
              0,
              "#0d0887"
             ],
             [
              0.1111111111111111,
              "#46039f"
             ],
             [
              0.2222222222222222,
              "#7201a8"
             ],
             [
              0.3333333333333333,
              "#9c179e"
             ],
             [
              0.4444444444444444,
              "#bd3786"
             ],
             [
              0.5555555555555556,
              "#d8576b"
             ],
             [
              0.6666666666666666,
              "#ed7953"
             ],
             [
              0.7777777777777778,
              "#fb9f3a"
             ],
             [
              0.8888888888888888,
              "#fdca26"
             ],
             [
              1,
              "#f0f921"
             ]
            ],
            "type": "histogram2d"
           }
          ],
          "histogram2dcontour": [
           {
            "colorbar": {
             "outlinewidth": 0,
             "ticks": ""
            },
            "colorscale": [
             [
              0,
              "#0d0887"
             ],
             [
              0.1111111111111111,
              "#46039f"
             ],
             [
              0.2222222222222222,
              "#7201a8"
             ],
             [
              0.3333333333333333,
              "#9c179e"
             ],
             [
              0.4444444444444444,
              "#bd3786"
             ],
             [
              0.5555555555555556,
              "#d8576b"
             ],
             [
              0.6666666666666666,
              "#ed7953"
             ],
             [
              0.7777777777777778,
              "#fb9f3a"
             ],
             [
              0.8888888888888888,
              "#fdca26"
             ],
             [
              1,
              "#f0f921"
             ]
            ],
            "type": "histogram2dcontour"
           }
          ],
          "mesh3d": [
           {
            "colorbar": {
             "outlinewidth": 0,
             "ticks": ""
            },
            "type": "mesh3d"
           }
          ],
          "parcoords": [
           {
            "line": {
             "colorbar": {
              "outlinewidth": 0,
              "ticks": ""
             }
            },
            "type": "parcoords"
           }
          ],
          "pie": [
           {
            "automargin": true,
            "type": "pie"
           }
          ],
          "scatter": [
           {
            "fillpattern": {
             "fillmode": "overlay",
             "size": 10,
             "solidity": 0.2
            },
            "type": "scatter"
           }
          ],
          "scatter3d": [
           {
            "line": {
             "colorbar": {
              "outlinewidth": 0,
              "ticks": ""
             }
            },
            "marker": {
             "colorbar": {
              "outlinewidth": 0,
              "ticks": ""
             }
            },
            "type": "scatter3d"
           }
          ],
          "scattercarpet": [
           {
            "marker": {
             "colorbar": {
              "outlinewidth": 0,
              "ticks": ""
             }
            },
            "type": "scattercarpet"
           }
          ],
          "scattergeo": [
           {
            "marker": {
             "colorbar": {
              "outlinewidth": 0,
              "ticks": ""
             }
            },
            "type": "scattergeo"
           }
          ],
          "scattergl": [
           {
            "marker": {
             "colorbar": {
              "outlinewidth": 0,
              "ticks": ""
             }
            },
            "type": "scattergl"
           }
          ],
          "scattermapbox": [
           {
            "marker": {
             "colorbar": {
              "outlinewidth": 0,
              "ticks": ""
             }
            },
            "type": "scattermapbox"
           }
          ],
          "scatterpolar": [
           {
            "marker": {
             "colorbar": {
              "outlinewidth": 0,
              "ticks": ""
             }
            },
            "type": "scatterpolar"
           }
          ],
          "scatterpolargl": [
           {
            "marker": {
             "colorbar": {
              "outlinewidth": 0,
              "ticks": ""
             }
            },
            "type": "scatterpolargl"
           }
          ],
          "scatterternary": [
           {
            "marker": {
             "colorbar": {
              "outlinewidth": 0,
              "ticks": ""
             }
            },
            "type": "scatterternary"
           }
          ],
          "surface": [
           {
            "colorbar": {
             "outlinewidth": 0,
             "ticks": ""
            },
            "colorscale": [
             [
              0,
              "#0d0887"
             ],
             [
              0.1111111111111111,
              "#46039f"
             ],
             [
              0.2222222222222222,
              "#7201a8"
             ],
             [
              0.3333333333333333,
              "#9c179e"
             ],
             [
              0.4444444444444444,
              "#bd3786"
             ],
             [
              0.5555555555555556,
              "#d8576b"
             ],
             [
              0.6666666666666666,
              "#ed7953"
             ],
             [
              0.7777777777777778,
              "#fb9f3a"
             ],
             [
              0.8888888888888888,
              "#fdca26"
             ],
             [
              1,
              "#f0f921"
             ]
            ],
            "type": "surface"
           }
          ],
          "table": [
           {
            "cells": {
             "fill": {
              "color": "#EBF0F8"
             },
             "line": {
              "color": "white"
             }
            },
            "header": {
             "fill": {
              "color": "#C8D4E3"
             },
             "line": {
              "color": "white"
             }
            },
            "type": "table"
           }
          ]
         },
         "layout": {
          "annotationdefaults": {
           "arrowcolor": "#2a3f5f",
           "arrowhead": 0,
           "arrowwidth": 1
          },
          "autotypenumbers": "strict",
          "coloraxis": {
           "colorbar": {
            "outlinewidth": 0,
            "ticks": ""
           }
          },
          "colorscale": {
           "diverging": [
            [
             0,
             "#8e0152"
            ],
            [
             0.1,
             "#c51b7d"
            ],
            [
             0.2,
             "#de77ae"
            ],
            [
             0.3,
             "#f1b6da"
            ],
            [
             0.4,
             "#fde0ef"
            ],
            [
             0.5,
             "#f7f7f7"
            ],
            [
             0.6,
             "#e6f5d0"
            ],
            [
             0.7,
             "#b8e186"
            ],
            [
             0.8,
             "#7fbc41"
            ],
            [
             0.9,
             "#4d9221"
            ],
            [
             1,
             "#276419"
            ]
           ],
           "sequential": [
            [
             0,
             "#0d0887"
            ],
            [
             0.1111111111111111,
             "#46039f"
            ],
            [
             0.2222222222222222,
             "#7201a8"
            ],
            [
             0.3333333333333333,
             "#9c179e"
            ],
            [
             0.4444444444444444,
             "#bd3786"
            ],
            [
             0.5555555555555556,
             "#d8576b"
            ],
            [
             0.6666666666666666,
             "#ed7953"
            ],
            [
             0.7777777777777778,
             "#fb9f3a"
            ],
            [
             0.8888888888888888,
             "#fdca26"
            ],
            [
             1,
             "#f0f921"
            ]
           ],
           "sequentialminus": [
            [
             0,
             "#0d0887"
            ],
            [
             0.1111111111111111,
             "#46039f"
            ],
            [
             0.2222222222222222,
             "#7201a8"
            ],
            [
             0.3333333333333333,
             "#9c179e"
            ],
            [
             0.4444444444444444,
             "#bd3786"
            ],
            [
             0.5555555555555556,
             "#d8576b"
            ],
            [
             0.6666666666666666,
             "#ed7953"
            ],
            [
             0.7777777777777778,
             "#fb9f3a"
            ],
            [
             0.8888888888888888,
             "#fdca26"
            ],
            [
             1,
             "#f0f921"
            ]
           ]
          },
          "colorway": [
           "#636efa",
           "#EF553B",
           "#00cc96",
           "#ab63fa",
           "#FFA15A",
           "#19d3f3",
           "#FF6692",
           "#B6E880",
           "#FF97FF",
           "#FECB52"
          ],
          "font": {
           "color": "#2a3f5f"
          },
          "geo": {
           "bgcolor": "white",
           "lakecolor": "white",
           "landcolor": "#E5ECF6",
           "showlakes": true,
           "showland": true,
           "subunitcolor": "white"
          },
          "hoverlabel": {
           "align": "left"
          },
          "hovermode": "closest",
          "mapbox": {
           "style": "light"
          },
          "paper_bgcolor": "white",
          "plot_bgcolor": "#E5ECF6",
          "polar": {
           "angularaxis": {
            "gridcolor": "white",
            "linecolor": "white",
            "ticks": ""
           },
           "bgcolor": "#E5ECF6",
           "radialaxis": {
            "gridcolor": "white",
            "linecolor": "white",
            "ticks": ""
           }
          },
          "scene": {
           "xaxis": {
            "backgroundcolor": "#E5ECF6",
            "gridcolor": "white",
            "gridwidth": 2,
            "linecolor": "white",
            "showbackground": true,
            "ticks": "",
            "zerolinecolor": "white"
           },
           "yaxis": {
            "backgroundcolor": "#E5ECF6",
            "gridcolor": "white",
            "gridwidth": 2,
            "linecolor": "white",
            "showbackground": true,
            "ticks": "",
            "zerolinecolor": "white"
           },
           "zaxis": {
            "backgroundcolor": "#E5ECF6",
            "gridcolor": "white",
            "gridwidth": 2,
            "linecolor": "white",
            "showbackground": true,
            "ticks": "",
            "zerolinecolor": "white"
           }
          },
          "shapedefaults": {
           "line": {
            "color": "#2a3f5f"
           }
          },
          "ternary": {
           "aaxis": {
            "gridcolor": "white",
            "linecolor": "white",
            "ticks": ""
           },
           "baxis": {
            "gridcolor": "white",
            "linecolor": "white",
            "ticks": ""
           },
           "bgcolor": "#E5ECF6",
           "caxis": {
            "gridcolor": "white",
            "linecolor": "white",
            "ticks": ""
           }
          },
          "title": {
           "x": 0.05
          },
          "xaxis": {
           "automargin": true,
           "gridcolor": "white",
           "linecolor": "white",
           "ticks": "",
           "title": {
            "standoff": 15
           },
           "zerolinecolor": "white",
           "zerolinewidth": 2
          },
          "yaxis": {
           "automargin": true,
           "gridcolor": "white",
           "linecolor": "white",
           "ticks": "",
           "title": {
            "standoff": 15
           },
           "zerolinecolor": "white",
           "zerolinewidth": 2
          }
         }
        },
        "title": {
         "text": "Factors Affecting Purchase of Travel Insurance: Income"
        },
        "xaxis": {
         "anchor": "y",
         "domain": [
          0,
          1
         ],
         "title": {
          "text": "AnnualIncome"
         }
        },
        "yaxis": {
         "anchor": "x",
         "domain": [
          0,
          1
         ],
         "title": {
          "text": "count"
         }
        }
       }
      }
     },
     "metadata": {},
     "output_type": "display_data"
    }
   ],
   "source": [
    "\n",
    "\n",
    "data = data\n",
    "figure = px.histogram(data, x = \"AnnualIncome\", \n",
    "                      color = \"TravelInsurance\", \n",
    "                      title= \"Factors Affecting Purchase of Travel Insurance: Income\")\n",
    "\n",
    "figure.show()\n",
    "\n"
   ]
  },
  {
   "attachments": {},
   "cell_type": "markdown",
   "metadata": {},
   "source": [
    "People who are having an annual income of more than **1.4M** are more likely to purchase the insurance policy, according to the above visualisation.\n",
    "\n",
    "The dataset is based on the purchases of travel insurance so it is more likely that the people who are earning a higher income do travel more, and as a result, they are more likely to purchase travel insurance. "
   ]
  },
  {
   "attachments": {},
   "cell_type": "markdown",
   "metadata": {},
   "source": [
    "## TRAVEL INSURANCE PREDICTION MODEL"
   ]
  },
  {
   "attachments": {},
   "cell_type": "markdown",
   "metadata": {},
   "source": [
    "Training a machine learning model to predict whether a person will purchase travel insurance or not.\n",
    "\n",
    "\n",
    "\n",
    "The major function of machine learning is to enable computers to learn from data, without being explicitly programmed. Machine learning algorithms use statistical techniques to identify patterns in the data and use those patterns to make predictions or decisions about new data. The goal of machine learning is to develop models that can learn from data and make accurate predictions or decisions about new data.\n",
    "\n",
    "\n",
    "In other words, the purpose of this machine learning modeling is to learn from our dataset and improve its performance over time. To help us with a level of accuracy, precict a prospective client who is likely to purchase our traavel insurance"
   ]
  },
  {
   "attachments": {},
   "cell_type": "markdown",
   "metadata": {},
   "source": [
    "### FEATURE ENGINEERING"
   ]
  },
  {
   "attachments": {},
   "cell_type": "markdown",
   "metadata": {},
   "source": [
    "Feature engineering is the process of selecting and transforming raw data into features that can be used by machine learning models to make accurate predictions or decisions. The goal of feature engineering is to create a set of features that captures the relevant information in the data and presents it in a way that can be easily understood by a machine learning algorithm. The process of feature engineering involves several steps, including:"
   ]
  },
  {
   "attachments": {},
   "cell_type": "markdown",
   "metadata": {},
   "source": [
    "Feature selection: Choosing the most relevant features for the problem at hand, based on domain knowledge and statistical analysis.\n",
    "\n",
    "Feature extraction: Transforming raw data into features that can be easily understood by a machine learning algorithm, using techniques such as dimensionality reduction, PCA, and text processing.\n",
    "\n",
    "Feature scaling: Scaling the features to ensure that they have the same range and variance, which can improve the performance of some machine learning algorithms.\n",
    "\n",
    "Feature encoding: Converting categorical features into numerical values that can be used by machine learning algorithms, using techniques such as one-hot encoding and label encoding."
   ]
  },
  {
   "cell_type": "code",
   "execution_count": 68,
   "metadata": {},
   "outputs": [
    {
     "data": {
      "text/plain": [
       "Index(['Unnamed: 0', 'Age', 'Employment Type', 'GraduateOrNot', 'AnnualIncome',\n",
       "       'FamilyMembers', 'ChronicDiseases', 'FrequentFlyer',\n",
       "       'EverTravelledAbroad', 'TravelInsurance'],\n",
       "      dtype='object')"
      ]
     },
     "execution_count": 68,
     "metadata": {},
     "output_type": "execute_result"
    }
   ],
   "source": [
    "\n",
    "# Check out the column names in the dataset\n",
    "columns = data.columns\n",
    "columns\n",
    "\n"
   ]
  },
  {
   "cell_type": "code",
   "execution_count": 69,
   "metadata": {},
   "outputs": [],
   "source": [
    "\n",
    "\n",
    "# Before we continue, the unnamed column in the dataset is of no use, so it should be removed.\n",
    "# The feature selection approach is applied here.\n",
    "\n",
    "data.drop(columns=[\"Unnamed: 0\"], inplace=True)\n",
    "\n"
   ]
  },
  {
   "attachments": {},
   "cell_type": "markdown",
   "metadata": {},
   "source": [
    "#### converting categorical columns into indicator variables"
   ]
  },
  {
   "attachments": {},
   "cell_type": "markdown",
   "metadata": {},
   "source": [
    "the **get_dummies()** function in pandas is used to convert categorical variables into dummy or indicator variables.\n",
    "\n",
    "Dummy variables are binary variables representing the presence or absence of a particular category in a categorical variable. They are commonly used in statistical and machine learning models as they enable categorical variables to be included in analyses that otherwise would not be possible.\n",
    "\n",
    "The get_dummies() function takes one or more categorical columns of a pandas DataFrame and converts them into a set of dummy columns, with a binary 1 or 0 indicating whether or not a particular category is present in each observation. "
   ]
  },
  {
   "cell_type": "code",
   "execution_count": 70,
   "metadata": {},
   "outputs": [
    {
     "data": {
      "text/html": [
       "<div>\n",
       "<style scoped>\n",
       "    .dataframe tbody tr th:only-of-type {\n",
       "        vertical-align: middle;\n",
       "    }\n",
       "\n",
       "    .dataframe tbody tr th {\n",
       "        vertical-align: top;\n",
       "    }\n",
       "\n",
       "    .dataframe thead th {\n",
       "        text-align: right;\n",
       "    }\n",
       "</style>\n",
       "<table border=\"1\" class=\"dataframe\">\n",
       "  <thead>\n",
       "    <tr style=\"text-align: right;\">\n",
       "      <th></th>\n",
       "      <th>Age</th>\n",
       "      <th>AnnualIncome</th>\n",
       "      <th>FamilyMembers</th>\n",
       "      <th>ChronicDiseases</th>\n",
       "      <th>Employment Type_Private Sector/Self Employed</th>\n",
       "      <th>GraduateOrNot_Yes</th>\n",
       "      <th>FrequentFlyer_Yes</th>\n",
       "      <th>EverTravelledAbroad_Yes</th>\n",
       "    </tr>\n",
       "  </thead>\n",
       "  <tbody>\n",
       "    <tr>\n",
       "      <th>0</th>\n",
       "      <td>31</td>\n",
       "      <td>400000</td>\n",
       "      <td>6</td>\n",
       "      <td>1</td>\n",
       "      <td>0</td>\n",
       "      <td>1</td>\n",
       "      <td>0</td>\n",
       "      <td>0</td>\n",
       "    </tr>\n",
       "    <tr>\n",
       "      <th>1</th>\n",
       "      <td>31</td>\n",
       "      <td>1250000</td>\n",
       "      <td>7</td>\n",
       "      <td>0</td>\n",
       "      <td>1</td>\n",
       "      <td>1</td>\n",
       "      <td>0</td>\n",
       "      <td>0</td>\n",
       "    </tr>\n",
       "    <tr>\n",
       "      <th>2</th>\n",
       "      <td>34</td>\n",
       "      <td>500000</td>\n",
       "      <td>4</td>\n",
       "      <td>1</td>\n",
       "      <td>1</td>\n",
       "      <td>1</td>\n",
       "      <td>0</td>\n",
       "      <td>0</td>\n",
       "    </tr>\n",
       "    <tr>\n",
       "      <th>3</th>\n",
       "      <td>28</td>\n",
       "      <td>700000</td>\n",
       "      <td>3</td>\n",
       "      <td>1</td>\n",
       "      <td>1</td>\n",
       "      <td>1</td>\n",
       "      <td>0</td>\n",
       "      <td>0</td>\n",
       "    </tr>\n",
       "    <tr>\n",
       "      <th>4</th>\n",
       "      <td>28</td>\n",
       "      <td>700000</td>\n",
       "      <td>8</td>\n",
       "      <td>1</td>\n",
       "      <td>1</td>\n",
       "      <td>1</td>\n",
       "      <td>1</td>\n",
       "      <td>0</td>\n",
       "    </tr>\n",
       "    <tr>\n",
       "      <th>...</th>\n",
       "      <td>...</td>\n",
       "      <td>...</td>\n",
       "      <td>...</td>\n",
       "      <td>...</td>\n",
       "      <td>...</td>\n",
       "      <td>...</td>\n",
       "      <td>...</td>\n",
       "      <td>...</td>\n",
       "    </tr>\n",
       "    <tr>\n",
       "      <th>1982</th>\n",
       "      <td>33</td>\n",
       "      <td>1500000</td>\n",
       "      <td>4</td>\n",
       "      <td>0</td>\n",
       "      <td>1</td>\n",
       "      <td>1</td>\n",
       "      <td>1</td>\n",
       "      <td>1</td>\n",
       "    </tr>\n",
       "    <tr>\n",
       "      <th>1983</th>\n",
       "      <td>28</td>\n",
       "      <td>1750000</td>\n",
       "      <td>5</td>\n",
       "      <td>1</td>\n",
       "      <td>1</td>\n",
       "      <td>1</td>\n",
       "      <td>0</td>\n",
       "      <td>1</td>\n",
       "    </tr>\n",
       "    <tr>\n",
       "      <th>1984</th>\n",
       "      <td>28</td>\n",
       "      <td>1150000</td>\n",
       "      <td>6</td>\n",
       "      <td>1</td>\n",
       "      <td>1</td>\n",
       "      <td>1</td>\n",
       "      <td>0</td>\n",
       "      <td>0</td>\n",
       "    </tr>\n",
       "    <tr>\n",
       "      <th>1985</th>\n",
       "      <td>34</td>\n",
       "      <td>1000000</td>\n",
       "      <td>6</td>\n",
       "      <td>0</td>\n",
       "      <td>1</td>\n",
       "      <td>1</td>\n",
       "      <td>1</td>\n",
       "      <td>1</td>\n",
       "    </tr>\n",
       "    <tr>\n",
       "      <th>1986</th>\n",
       "      <td>34</td>\n",
       "      <td>500000</td>\n",
       "      <td>4</td>\n",
       "      <td>0</td>\n",
       "      <td>1</td>\n",
       "      <td>1</td>\n",
       "      <td>0</td>\n",
       "      <td>0</td>\n",
       "    </tr>\n",
       "  </tbody>\n",
       "</table>\n",
       "<p>1987 rows × 8 columns</p>\n",
       "</div>"
      ],
      "text/plain": [
       "      Age  AnnualIncome  FamilyMembers  ChronicDiseases  \\\n",
       "0      31        400000              6                1   \n",
       "1      31       1250000              7                0   \n",
       "2      34        500000              4                1   \n",
       "3      28        700000              3                1   \n",
       "4      28        700000              8                1   \n",
       "...   ...           ...            ...              ...   \n",
       "1982   33       1500000              4                0   \n",
       "1983   28       1750000              5                1   \n",
       "1984   28       1150000              6                1   \n",
       "1985   34       1000000              6                0   \n",
       "1986   34        500000              4                0   \n",
       "\n",
       "      Employment Type_Private Sector/Self Employed  GraduateOrNot_Yes  \\\n",
       "0                                                0                  1   \n",
       "1                                                1                  1   \n",
       "2                                                1                  1   \n",
       "3                                                1                  1   \n",
       "4                                                1                  1   \n",
       "...                                            ...                ...   \n",
       "1982                                             1                  1   \n",
       "1983                                             1                  1   \n",
       "1984                                             1                  1   \n",
       "1985                                             1                  1   \n",
       "1986                                             1                  1   \n",
       "\n",
       "      FrequentFlyer_Yes  EverTravelledAbroad_Yes  \n",
       "0                     0                        0  \n",
       "1                     0                        0  \n",
       "2                     0                        0  \n",
       "3                     0                        0  \n",
       "4                     1                        0  \n",
       "...                 ...                      ...  \n",
       "1982                  1                        1  \n",
       "1983                  0                        1  \n",
       "1984                  0                        0  \n",
       "1985                  1                        1  \n",
       "1986                  0                        0  \n",
       "\n",
       "[1987 rows x 8 columns]"
      ]
     },
     "execution_count": 70,
     "metadata": {},
     "output_type": "execute_result"
    }
   ],
   "source": [
    "\n",
    "\n",
    "# The feature encoding approach is applied here.\n",
    "pd.get_dummies(data.drop('TravelInsurance',axis=1),drop_first=True)\n",
    "\n"
   ]
  },
  {
   "cell_type": "code",
   "execution_count": 18,
   "metadata": {},
   "outputs": [
    {
     "data": {
      "text/plain": [
       "Index(['Age', 'Employment Type', 'GraduateOrNot', 'AnnualIncome',\n",
       "       'FamilyMembers', 'ChronicDiseases', 'FrequentFlyer',\n",
       "       'EverTravelledAbroad', 'TravelInsurance'],\n",
       "      dtype='object')"
      ]
     },
     "execution_count": 18,
     "metadata": {},
     "output_type": "execute_result"
    }
   ],
   "source": [
    "data.columns"
   ]
  },
  {
   "attachments": {},
   "cell_type": "markdown",
   "metadata": {},
   "source": [
    "The **.corr()** function in Python is used to compute pairwise correlation of columns in a dataframe. It returns a correlation matrix which is a table showing the correlation coefficients between variables."
   ]
  },
  {
   "cell_type": "code",
   "execution_count": 71,
   "metadata": {},
   "outputs": [],
   "source": [
    "\n",
    "\n",
    "corr_data  = pd.get_dummies(data,drop_first=True).corr()\n",
    "\n"
   ]
  },
  {
   "attachments": {},
   "cell_type": "markdown",
   "metadata": {},
   "source": [
    "Let's pick out the columns which shows how the other columns correlate with the Label(TravelInsurance_Purchased)"
   ]
  },
  {
   "cell_type": "code",
   "execution_count": 72,
   "metadata": {},
   "outputs": [
    {
     "data": {
      "text/html": [
       "<div>\n",
       "<style scoped>\n",
       "    .dataframe tbody tr th:only-of-type {\n",
       "        vertical-align: middle;\n",
       "    }\n",
       "\n",
       "    .dataframe tbody tr th {\n",
       "        vertical-align: top;\n",
       "    }\n",
       "\n",
       "    .dataframe thead th {\n",
       "        text-align: right;\n",
       "    }\n",
       "</style>\n",
       "<table border=\"1\" class=\"dataframe\">\n",
       "  <thead>\n",
       "    <tr style=\"text-align: right;\">\n",
       "      <th></th>\n",
       "      <th>TravelInsurance_Purchased</th>\n",
       "    </tr>\n",
       "  </thead>\n",
       "  <tbody>\n",
       "    <tr>\n",
       "      <th>ChronicDiseases</th>\n",
       "      <td>0.018190</td>\n",
       "    </tr>\n",
       "    <tr>\n",
       "      <th>GraduateOrNot_Yes</th>\n",
       "      <td>0.018934</td>\n",
       "    </tr>\n",
       "    <tr>\n",
       "      <th>Age</th>\n",
       "      <td>0.061060</td>\n",
       "    </tr>\n",
       "    <tr>\n",
       "      <th>FamilyMembers</th>\n",
       "      <td>0.079909</td>\n",
       "    </tr>\n",
       "    <tr>\n",
       "      <th>Employment Type_Private Sector/Self Employed</th>\n",
       "      <td>0.147847</td>\n",
       "    </tr>\n",
       "    <tr>\n",
       "      <th>FrequentFlyer_Yes</th>\n",
       "      <td>0.232103</td>\n",
       "    </tr>\n",
       "    <tr>\n",
       "      <th>AnnualIncome</th>\n",
       "      <td>0.396763</td>\n",
       "    </tr>\n",
       "    <tr>\n",
       "      <th>EverTravelledAbroad_Yes</th>\n",
       "      <td>0.433183</td>\n",
       "    </tr>\n",
       "  </tbody>\n",
       "</table>\n",
       "</div>"
      ],
      "text/plain": [
       "                                              TravelInsurance_Purchased\n",
       "ChronicDiseases                                                0.018190\n",
       "GraduateOrNot_Yes                                              0.018934\n",
       "Age                                                            0.061060\n",
       "FamilyMembers                                                  0.079909\n",
       "Employment Type_Private Sector/Self Employed                   0.147847\n",
       "FrequentFlyer_Yes                                              0.232103\n",
       "AnnualIncome                                                   0.396763\n",
       "EverTravelledAbroad_Yes                                        0.433183"
      ]
     },
     "execution_count": 72,
     "metadata": {},
     "output_type": "execute_result"
    }
   ],
   "source": [
    "corr_data[[\"TravelInsurance_Purchased\"]].sort_values(by=\"TravelInsurance_Purchased\").iloc[:-1]"
   ]
  },
  {
   "cell_type": "code",
   "execution_count": 73,
   "metadata": {},
   "outputs": [
    {
     "data": {
      "image/png": "[encoded data removed]",
      "text/plain": [
       "<Figure size 2000x800 with 1 Axes>"
      ]
     },
     "metadata": {},
     "output_type": "display_data"
    }
   ],
   "source": [
    "# Visualize the correlation figures\n",
    "\n",
    "plt.figure(figsize=(10,4),dpi=200)\n",
    "sns.barplot(x=corr_data[[\"TravelInsurance_Purchased\"]].sort_values(by=\"TravelInsurance_Purchased\").iloc[:-1].index,\n",
    "            y=corr_data[[\"TravelInsurance_Purchased\"]].sort_values(by=\"TravelInsurance_Purchased\").iloc[:-1][\"TravelInsurance_Purchased\"].values)\n",
    "plt.title(\"Feature Correlation to TravelInsurance_Purchased\")\n",
    "plt.xticks(rotation=90);\n"
   ]
  },
  {
   "attachments": {},
   "cell_type": "markdown",
   "metadata": {},
   "source": [
    "### Train | Test Split"
   ]
  },
  {
   "cell_type": "code",
   "execution_count": 74,
   "metadata": {},
   "outputs": [],
   "source": [
    "\n",
    "# choose x based on the importance of the column\n",
    "X = pd.get_dummies(data.drop('TravelInsurance',axis=1),drop_first=True)\n",
    "y = data['TravelInsurance']\n",
    "\n"
   ]
  },
  {
   "cell_type": "code",
   "execution_count": 75,
   "metadata": {},
   "outputs": [],
   "source": [
    "\n",
    "\n",
    "from sklearn.model_selection import train_test_split\n",
    "\n",
    "X_train, X_test, y_train, y_test = train_test_split(X, y, test_size=0.3, random_state=101)\n",
    "\n"
   ]
  },
  {
   "attachments": {},
   "cell_type": "markdown",
   "metadata": {},
   "source": [
    "### DECISION TREE CLASSIFIER"
   ]
  },
  {
   "attachments": {},
   "cell_type": "markdown",
   "metadata": {},
   "source": [
    "#### USING **DEFAULT** HYPERPARAMETERS"
   ]
  },
  {
   "cell_type": "code",
   "execution_count": 77,
   "metadata": {},
   "outputs": [
    {
     "data": {
      "text/html": [
       "<style>#sk-container-id-4 {color: black;background-color: white;}#sk-container-id-4 pre{padding: 0;}#sk-container-id-4 div.sk-toggleable {background-color: white;}#sk-container-id-4 label.sk-toggleable__label {cursor: pointer;display: block;width: 100%;margin-bottom: 0;padding: 0.3em;box-sizing: border-box;text-align: center;}#sk-container-id-4 label.sk-toggleable__label-arrow:before {content: \"▸\";float: left;margin-right: 0.25em;color: #696969;}#sk-container-id-4 label.sk-toggleable__label-arrow:hover:before {color: black;}#sk-container-id-4 div.sk-estimator:hover label.sk-toggleable__label-arrow:before {color: black;}#sk-container-id-4 div.sk-toggleable__content {max-height: 0;max-width: 0;overflow: hidden;text-align: left;background-color: #f0f8ff;}#sk-container-id-4 div.sk-toggleable__content pre {margin: 0.2em;color: black;border-radius: 0.25em;background-color: #f0f8ff;}#sk-container-id-4 input.sk-toggleable__control:checked~div.sk-toggleable__content {max-height: 200px;max-width: 100%;overflow: auto;}#sk-container-id-4 input.sk-toggleable__control:checked~label.sk-toggleable__label-arrow:before {content: \"▾\";}#sk-container-id-4 div.sk-estimator input.sk-toggleable__control:checked~label.sk-toggleable__label {background-color: #d4ebff;}#sk-container-id-4 div.sk-label input.sk-toggleable__control:checked~label.sk-toggleable__label {background-color: #d4ebff;}#sk-container-id-4 input.sk-hidden--visually {border: 0;clip: rect(1px 1px 1px 1px);clip: rect(1px, 1px, 1px, 1px);height: 1px;margin: -1px;overflow: hidden;padding: 0;position: absolute;width: 1px;}#sk-container-id-4 div.sk-estimator {font-family: monospace;background-color: #f0f8ff;border: 1px dotted black;border-radius: 0.25em;box-sizing: border-box;margin-bottom: 0.5em;}#sk-container-id-4 div.sk-estimator:hover {background-color: #d4ebff;}#sk-container-id-4 div.sk-parallel-item::after {content: \"\";width: 100%;border-bottom: 1px solid gray;flex-grow: 1;}#sk-container-id-4 div.sk-label:hover label.sk-toggleable__label {background-color: #d4ebff;}#sk-container-id-4 div.sk-serial::before {content: \"\";position: absolute;border-left: 1px solid gray;box-sizing: border-box;top: 0;bottom: 0;left: 50%;z-index: 0;}#sk-container-id-4 div.sk-serial {display: flex;flex-direction: column;align-items: center;background-color: white;padding-right: 0.2em;padding-left: 0.2em;position: relative;}#sk-container-id-4 div.sk-item {position: relative;z-index: 1;}#sk-container-id-4 div.sk-parallel {display: flex;align-items: stretch;justify-content: center;background-color: white;position: relative;}#sk-container-id-4 div.sk-item::before, #sk-container-id-4 div.sk-parallel-item::before {content: \"\";position: absolute;border-left: 1px solid gray;box-sizing: border-box;top: 0;bottom: 0;left: 50%;z-index: -1;}#sk-container-id-4 div.sk-parallel-item {display: flex;flex-direction: column;z-index: 1;position: relative;background-color: white;}#sk-container-id-4 div.sk-parallel-item:first-child::after {align-self: flex-end;width: 50%;}#sk-container-id-4 div.sk-parallel-item:last-child::after {align-self: flex-start;width: 50%;}#sk-container-id-4 div.sk-parallel-item:only-child::after {width: 0;}#sk-container-id-4 div.sk-dashed-wrapped {border: 1px dashed gray;margin: 0 0.4em 0.5em 0.4em;box-sizing: border-box;padding-bottom: 0.4em;background-color: white;}#sk-container-id-4 div.sk-label label {font-family: monospace;font-weight: bold;display: inline-block;line-height: 1.2em;}#sk-container-id-4 div.sk-label-container {text-align: center;}#sk-container-id-4 div.sk-container {/* jupyter's `normalize.less` sets `[hidden] { display: none; }` but bootstrap.min.css set `[hidden] { display: none !important; }` so we also need the `!important` here to be able to override the default hidden behavior on the sphinx rendered scikit-learn.org. See: https://github.com/scikit-learn/scikit-learn/issues/21755 */display: inline-block !important;position: relative;}#sk-container-id-4 div.sk-text-repr-fallback {display: none;}</style><div id=\"sk-container-id-4\" class=\"sk-top-container\"><div class=\"sk-text-repr-fallback\"><pre>DecisionTreeClassifier(random_state=1807)</pre><b>In a Jupyter environment, please rerun this cell to show the HTML representation or trust the notebook. <br />On GitHub, the HTML representation is unable to render, please try loading this page with nbviewer.org.</b></div><div class=\"sk-container\" hidden><div class=\"sk-item\"><div class=\"sk-estimator sk-toggleable\"><input class=\"sk-toggleable__control sk-hidden--visually\" id=\"sk-estimator-id-6\" type=\"checkbox\" checked><label for=\"sk-estimator-id-6\" class=\"sk-toggleable__label sk-toggleable__label-arrow\">DecisionTreeClassifier</label><div class=\"sk-toggleable__content\"><pre>DecisionTreeClassifier(random_state=1807)</pre></div></div></div></div></div>"
      ],
      "text/plain": [
       "DecisionTreeClassifier(random_state=1807)"
      ]
     },
     "execution_count": 77,
     "metadata": {},
     "output_type": "execute_result"
    }
   ],
   "source": [
    "\n",
    "\n",
    "from sklearn.tree import DecisionTreeClassifier\n",
    "\n",
    "model = DecisionTreeClassifier(random_state=1807)\n",
    "model.fit(X_train,y_train)\n",
    "\n"
   ]
  },
  {
   "cell_type": "code",
   "execution_count": 78,
   "metadata": {},
   "outputs": [],
   "source": [
    "\n",
    "\n",
    "base_pred = model.predict(X_test)\n",
    "\n"
   ]
  },
  {
   "attachments": {},
   "cell_type": "markdown",
   "metadata": {},
   "source": [
    "### EVALUATION"
   ]
  },
  {
   "cell_type": "code",
   "execution_count": 79,
   "metadata": {},
   "outputs": [],
   "source": [
    "\n",
    "\n",
    "from sklearn.metrics import confusion_matrix,classification_report,plot_confusion_matrix\n",
    "\n"
   ]
  },
  {
   "cell_type": "code",
   "execution_count": 80,
   "metadata": {},
   "outputs": [
    {
     "data": {
      "text/plain": [
       "array([[323,  62],\n",
       "       [ 81, 131]], dtype=int64)"
      ]
     },
     "execution_count": 80,
     "metadata": {},
     "output_type": "execute_result"
    }
   ],
   "source": [
    "\n",
    "\n",
    "confusion_matrix(y_test,base_pred)\n",
    "\n"
   ]
  },
  {
   "cell_type": "code",
   "execution_count": 81,
   "metadata": {},
   "outputs": [
    {
     "name": "stderr",
     "output_type": "stream",
     "text": [
      "C:\\Users\\GH0128\\AppData\\Local\\Packages\\PythonSoftwareFoundation.Python.3.10_qbz5n2kfra8p0\\LocalCache\\local-packages\\Python310\\site-packages\\sklearn\\utils\\deprecation.py:87: FutureWarning:\n",
      "\n",
      "Function plot_confusion_matrix is deprecated; Function `plot_confusion_matrix` is deprecated in 1.0 and will be removed in 1.2. Use one of the class methods: ConfusionMatrixDisplay.from_predictions or ConfusionMatrixDisplay.from_estimator.\n",
      "\n"
     ]
    },
    {
     "data": {
      "text/plain": [
       "<sklearn.metrics._plot.confusion_matrix.ConfusionMatrixDisplay at 0x2763c9056c0>"
      ]
     },
     "execution_count": 81,
     "metadata": {},
     "output_type": "execute_result"
    },
    {
     "data": {
      "image/png": "[encoded data removed]",
      "text/plain": [
       "<Figure size 640x480 with 2 Axes>"
      ]
     },
     "metadata": {},
     "output_type": "display_data"
    }
   ],
   "source": [
    "\n",
    "\n",
    "plot_confusion_matrix(model,X_test,y_test)\n",
    "\n",
    "\n"
   ]
  },
  {
   "attachments": {},
   "cell_type": "markdown",
   "metadata": {},
   "source": [
    "The graph above shows that there are **81 false negatives** (not-so-good recall for purchase). The model may mislead our sales team -- because a larger portion of prospective clients who will buy the travel insurance may be predicted otherwise."
   ]
  },
  {
   "cell_type": "code",
   "execution_count": 82,
   "metadata": {},
   "outputs": [
    {
     "name": "stdout",
     "output_type": "stream",
     "text": [
      "               precision    recall  f1-score   support\n",
      "\n",
      "Not Purchased       0.80      0.84      0.82       385\n",
      "    Purchased       0.68      0.62      0.65       212\n",
      "\n",
      "     accuracy                           0.76       597\n",
      "    macro avg       0.74      0.73      0.73       597\n",
      " weighted avg       0.76      0.76      0.76       597\n",
      "\n"
     ]
    }
   ],
   "source": [
    "\n",
    "\n",
    "print(classification_report(y_test,base_pred))\n",
    "\n"
   ]
  },
  {
   "attachments": {},
   "cell_type": "markdown",
   "metadata": {},
   "source": [
    "**model.feature_importances_** returns an array of scores that indicate the relative importance of each feature in the model. These scores are calculated based on the number of times each feature is used to split the data in the tree and the decrease in impurity that results from each split.\n",
    "\n",
    "This information can be useful for feature selection or feature engineering, as it can help identify which features have the greatest impact on the model's predictions. By focusing on these important features, it may be possible to improve the performance of the model or reduce its complexity."
   ]
  },
  {
   "cell_type": "code",
   "execution_count": 83,
   "metadata": {},
   "outputs": [
    {
     "data": {
      "text/plain": [
       "array([0.11711522, 0.52309924, 0.20586464, 0.05916829, 0.02427983,\n",
       "       0.0147265 , 0.04006438, 0.0156819 ])"
      ]
     },
     "execution_count": 83,
     "metadata": {},
     "output_type": "execute_result"
    }
   ],
   "source": [
    "\n",
    "\n",
    "model.feature_importances_\n",
    "\n"
   ]
  },
  {
   "cell_type": "code",
   "execution_count": 86,
   "metadata": {},
   "outputs": [
    {
     "data": {
      "text/html": [
       "<div>\n",
       "<style scoped>\n",
       "    .dataframe tbody tr th:only-of-type {\n",
       "        vertical-align: middle;\n",
       "    }\n",
       "\n",
       "    .dataframe tbody tr th {\n",
       "        vertical-align: top;\n",
       "    }\n",
       "\n",
       "    .dataframe thead th {\n",
       "        text-align: right;\n",
       "    }\n",
       "</style>\n",
       "<table border=\"1\" class=\"dataframe\">\n",
       "  <thead>\n",
       "    <tr style=\"text-align: right;\">\n",
       "      <th></th>\n",
       "      <th>Feature Importance</th>\n",
       "    </tr>\n",
       "  </thead>\n",
       "  <tbody>\n",
       "    <tr>\n",
       "      <th>AnnualIncome</th>\n",
       "      <td>0.523099</td>\n",
       "    </tr>\n",
       "    <tr>\n",
       "      <th>FamilyMembers</th>\n",
       "      <td>0.205865</td>\n",
       "    </tr>\n",
       "    <tr>\n",
       "      <th>Age</th>\n",
       "      <td>0.117115</td>\n",
       "    </tr>\n",
       "    <tr>\n",
       "      <th>ChronicDiseases</th>\n",
       "      <td>0.059168</td>\n",
       "    </tr>\n",
       "    <tr>\n",
       "      <th>FrequentFlyer_Yes</th>\n",
       "      <td>0.040064</td>\n",
       "    </tr>\n",
       "    <tr>\n",
       "      <th>Employment Type_Private Sector/Self Employed</th>\n",
       "      <td>0.024280</td>\n",
       "    </tr>\n",
       "    <tr>\n",
       "      <th>EverTravelledAbroad_Yes</th>\n",
       "      <td>0.015682</td>\n",
       "    </tr>\n",
       "    <tr>\n",
       "      <th>GraduateOrNot_Yes</th>\n",
       "      <td>0.014726</td>\n",
       "    </tr>\n",
       "  </tbody>\n",
       "</table>\n",
       "</div>"
      ],
      "text/plain": [
       "                                              Feature Importance\n",
       "AnnualIncome                                            0.523099\n",
       "FamilyMembers                                           0.205865\n",
       "Age                                                     0.117115\n",
       "ChronicDiseases                                         0.059168\n",
       "FrequentFlyer_Yes                                       0.040064\n",
       "Employment Type_Private Sector/Self Employed            0.024280\n",
       "EverTravelledAbroad_Yes                                 0.015682\n",
       "GraduateOrNot_Yes                                       0.014726"
      ]
     },
     "execution_count": 86,
     "metadata": {},
     "output_type": "execute_result"
    }
   ],
   "source": [
    "\n",
    "\n",
    "pd.DataFrame(index=X.columns,data=model.feature_importances_,columns=['Feature Importance']).sort_values(\"Feature Importance\", ascending=False)\n",
    "\n",
    "# Select only first five for post evaluation modelling\n"
   ]
  },
  {
   "cell_type": "code",
   "execution_count": 90,
   "metadata": {},
   "outputs": [],
   "source": [
    "\n",
    "\n",
    "imp_feats = pd.DataFrame(data=model.feature_importances_,index=X.columns,columns=['Feature Importance']).sort_values(\"Feature Importance\")\n"
   ]
  },
  {
   "cell_type": "code",
   "execution_count": 92,
   "metadata": {},
   "outputs": [
    {
     "data": {
      "image/png": "[encoded data removed]",
      "text/plain": [
       "<Figure size 2800x1200 with 1 Axes>"
      ]
     },
     "metadata": {},
     "output_type": "display_data"
    }
   ],
   "source": [
    "\n",
    "\n",
    "plt.figure(figsize=(14,6),dpi=200)\n",
    "sns.barplot(data=imp_feats.sort_values('Feature Importance'),x=imp_feats.sort_values('Feature Importance').index,y='Feature Importance')\n",
    "plt.xticks(rotation=90)\n",
    "plt.title(\"FEATURE IMPORTANCE FOR DECISION TREE\");\n",
    "\n"
   ]
  },
  {
   "attachments": {},
   "cell_type": "markdown",
   "metadata": {},
   "source": [
    "### FINE-TUNING HYPERPARAMETERS"
   ]
  },
  {
   "attachments": {},
   "cell_type": "markdown",
   "metadata": {},
   "source": [
    "Hyperparameters are parameters that are set by the data scientist or machine learning engineer before training a machine learning model. Unlike the model parameters, which are learned during training, hyperparameters are not updated based on the data"
   ]
  },
  {
   "cell_type": "code",
   "execution_count": 93,
   "metadata": {},
   "outputs": [],
   "source": [
    "\n",
    "\n",
    "from sklearn.tree import DecisionTreeClassifier\n",
    "from sklearn.model_selection import GridSearchCV\n",
    "from sklearn.metrics import accuracy_score\n",
    "\n"
   ]
  },
  {
   "attachments": {},
   "cell_type": "markdown",
   "metadata": {},
   "source": [
    "Let's determine how the hyperparameters below can be tweaked to enhance the performane of our model"
   ]
  },
  {
   "cell_type": "code",
   "execution_count": 94,
   "metadata": {},
   "outputs": [],
   "source": [
    "\n",
    "\n",
    "# Define the parameter grid to search over\n",
    "param_grid = {\n",
    "    'max_depth': [3, 5, 10, None],\n",
    "    'min_samples_leaf': [1, 2, 5, 10],\n",
    "    'min_samples_split': [2, 5, 10]\n",
    "}\n",
    "\n"
   ]
  },
  {
   "cell_type": "code",
   "execution_count": 95,
   "metadata": {},
   "outputs": [],
   "source": [
    "\n",
    "\n",
    "# Create a decision tree classifier\n",
    "dt_classifier = DecisionTreeClassifier(random_state=1807)\n",
    "\n"
   ]
  },
  {
   "cell_type": "code",
   "execution_count": 96,
   "metadata": {},
   "outputs": [],
   "source": [
    "\n",
    "\n",
    "# Create a grid search object with 5-fold cross-validation\n",
    "grid_search = GridSearchCV(\n",
    "    dt_classifier, \n",
    "    param_grid, \n",
    "    cv=5, \n",
    "    scoring='accuracy'\n",
    ")\n",
    "\n"
   ]
  },
  {
   "cell_type": "code",
   "execution_count": 97,
   "metadata": {},
   "outputs": [
    {
     "data": {
      "text/html": [
       "<style>#sk-container-id-5 {color: black;background-color: white;}#sk-container-id-5 pre{padding: 0;}#sk-container-id-5 div.sk-toggleable {background-color: white;}#sk-container-id-5 label.sk-toggleable__label {cursor: pointer;display: block;width: 100%;margin-bottom: 0;padding: 0.3em;box-sizing: border-box;text-align: center;}#sk-container-id-5 label.sk-toggleable__label-arrow:before {content: \"▸\";float: left;margin-right: 0.25em;color: #696969;}#sk-container-id-5 label.sk-toggleable__label-arrow:hover:before {color: black;}#sk-container-id-5 div.sk-estimator:hover label.sk-toggleable__label-arrow:before {color: black;}#sk-container-id-5 div.sk-toggleable__content {max-height: 0;max-width: 0;overflow: hidden;text-align: left;background-color: #f0f8ff;}#sk-container-id-5 div.sk-toggleable__content pre {margin: 0.2em;color: black;border-radius: 0.25em;background-color: #f0f8ff;}#sk-container-id-5 input.sk-toggleable__control:checked~div.sk-toggleable__content {max-height: 200px;max-width: 100%;overflow: auto;}#sk-container-id-5 input.sk-toggleable__control:checked~label.sk-toggleable__label-arrow:before {content: \"▾\";}#sk-container-id-5 div.sk-estimator input.sk-toggleable__control:checked~label.sk-toggleable__label {background-color: #d4ebff;}#sk-container-id-5 div.sk-label input.sk-toggleable__control:checked~label.sk-toggleable__label {background-color: #d4ebff;}#sk-container-id-5 input.sk-hidden--visually {border: 0;clip: rect(1px 1px 1px 1px);clip: rect(1px, 1px, 1px, 1px);height: 1px;margin: -1px;overflow: hidden;padding: 0;position: absolute;width: 1px;}#sk-container-id-5 div.sk-estimator {font-family: monospace;background-color: #f0f8ff;border: 1px dotted black;border-radius: 0.25em;box-sizing: border-box;margin-bottom: 0.5em;}#sk-container-id-5 div.sk-estimator:hover {background-color: #d4ebff;}#sk-container-id-5 div.sk-parallel-item::after {content: \"\";width: 100%;border-bottom: 1px solid gray;flex-grow: 1;}#sk-container-id-5 div.sk-label:hover label.sk-toggleable__label {background-color: #d4ebff;}#sk-container-id-5 div.sk-serial::before {content: \"\";position: absolute;border-left: 1px solid gray;box-sizing: border-box;top: 0;bottom: 0;left: 50%;z-index: 0;}#sk-container-id-5 div.sk-serial {display: flex;flex-direction: column;align-items: center;background-color: white;padding-right: 0.2em;padding-left: 0.2em;position: relative;}#sk-container-id-5 div.sk-item {position: relative;z-index: 1;}#sk-container-id-5 div.sk-parallel {display: flex;align-items: stretch;justify-content: center;background-color: white;position: relative;}#sk-container-id-5 div.sk-item::before, #sk-container-id-5 div.sk-parallel-item::before {content: \"\";position: absolute;border-left: 1px solid gray;box-sizing: border-box;top: 0;bottom: 0;left: 50%;z-index: -1;}#sk-container-id-5 div.sk-parallel-item {display: flex;flex-direction: column;z-index: 1;position: relative;background-color: white;}#sk-container-id-5 div.sk-parallel-item:first-child::after {align-self: flex-end;width: 50%;}#sk-container-id-5 div.sk-parallel-item:last-child::after {align-self: flex-start;width: 50%;}#sk-container-id-5 div.sk-parallel-item:only-child::after {width: 0;}#sk-container-id-5 div.sk-dashed-wrapped {border: 1px dashed gray;margin: 0 0.4em 0.5em 0.4em;box-sizing: border-box;padding-bottom: 0.4em;background-color: white;}#sk-container-id-5 div.sk-label label {font-family: monospace;font-weight: bold;display: inline-block;line-height: 1.2em;}#sk-container-id-5 div.sk-label-container {text-align: center;}#sk-container-id-5 div.sk-container {/* jupyter's `normalize.less` sets `[hidden] { display: none; }` but bootstrap.min.css set `[hidden] { display: none !important; }` so we also need the `!important` here to be able to override the default hidden behavior on the sphinx rendered scikit-learn.org. See: https://github.com/scikit-learn/scikit-learn/issues/21755 */display: inline-block !important;position: relative;}#sk-container-id-5 div.sk-text-repr-fallback {display: none;}</style><div id=\"sk-container-id-5\" class=\"sk-top-container\"><div class=\"sk-text-repr-fallback\"><pre>GridSearchCV(cv=5, estimator=DecisionTreeClassifier(random_state=1807),\n",
       "             param_grid={&#x27;max_depth&#x27;: [3, 5, 10, None],\n",
       "                         &#x27;min_samples_leaf&#x27;: [1, 2, 5, 10],\n",
       "                         &#x27;min_samples_split&#x27;: [2, 5, 10]},\n",
       "             scoring=&#x27;accuracy&#x27;)</pre><b>In a Jupyter environment, please rerun this cell to show the HTML representation or trust the notebook. <br />On GitHub, the HTML representation is unable to render, please try loading this page with nbviewer.org.</b></div><div class=\"sk-container\" hidden><div class=\"sk-item sk-dashed-wrapped\"><div class=\"sk-label-container\"><div class=\"sk-label sk-toggleable\"><input class=\"sk-toggleable__control sk-hidden--visually\" id=\"sk-estimator-id-7\" type=\"checkbox\" ><label for=\"sk-estimator-id-7\" class=\"sk-toggleable__label sk-toggleable__label-arrow\">GridSearchCV</label><div class=\"sk-toggleable__content\"><pre>GridSearchCV(cv=5, estimator=DecisionTreeClassifier(random_state=1807),\n",
       "             param_grid={&#x27;max_depth&#x27;: [3, 5, 10, None],\n",
       "                         &#x27;min_samples_leaf&#x27;: [1, 2, 5, 10],\n",
       "                         &#x27;min_samples_split&#x27;: [2, 5, 10]},\n",
       "             scoring=&#x27;accuracy&#x27;)</pre></div></div></div><div class=\"sk-parallel\"><div class=\"sk-parallel-item\"><div class=\"sk-item\"><div class=\"sk-label-container\"><div class=\"sk-label sk-toggleable\"><input class=\"sk-toggleable__control sk-hidden--visually\" id=\"sk-estimator-id-8\" type=\"checkbox\" ><label for=\"sk-estimator-id-8\" class=\"sk-toggleable__label sk-toggleable__label-arrow\">estimator: DecisionTreeClassifier</label><div class=\"sk-toggleable__content\"><pre>DecisionTreeClassifier(random_state=1807)</pre></div></div></div><div class=\"sk-serial\"><div class=\"sk-item\"><div class=\"sk-estimator sk-toggleable\"><input class=\"sk-toggleable__control sk-hidden--visually\" id=\"sk-estimator-id-9\" type=\"checkbox\" ><label for=\"sk-estimator-id-9\" class=\"sk-toggleable__label sk-toggleable__label-arrow\">DecisionTreeClassifier</label><div class=\"sk-toggleable__content\"><pre>DecisionTreeClassifier(random_state=1807)</pre></div></div></div></div></div></div></div></div></div></div>"
      ],
      "text/plain": [
       "GridSearchCV(cv=5, estimator=DecisionTreeClassifier(random_state=1807),\n",
       "             param_grid={'max_depth': [3, 5, 10, None],\n",
       "                         'min_samples_leaf': [1, 2, 5, 10],\n",
       "                         'min_samples_split': [2, 5, 10]},\n",
       "             scoring='accuracy')"
      ]
     },
     "execution_count": 97,
     "metadata": {},
     "output_type": "execute_result"
    }
   ],
   "source": [
    "\n",
    "\n",
    "# Fit the grid search object to the data\n",
    "grid_search.fit(X_train, y_train)\n",
    "\n"
   ]
  },
  {
   "cell_type": "code",
   "execution_count": 98,
   "metadata": {},
   "outputs": [
    {
     "name": "stdout",
     "output_type": "stream",
     "text": [
      "Best hyperparameters:  {'max_depth': 3, 'min_samples_leaf': 1, 'min_samples_split': 2}\n",
      "Best accuracy score:  0.8352517985611512\n"
     ]
    }
   ],
   "source": [
    "\n",
    "\n",
    "# Print the best hyperparameters and corresponding accuracy score\n",
    "print(\"Best hyperparameters: \", grid_search.best_params_)\n",
    "print(\"Best accuracy score: \", grid_search.best_score_)\n",
    "\n"
   ]
  },
  {
   "cell_type": "code",
   "execution_count": 99,
   "metadata": {},
   "outputs": [],
   "source": [
    "\n",
    "\n",
    "# Use the best estimator to make predictions on the test set\n",
    "y_pred = grid_search.best_estimator_.predict(X_test)\n",
    "\n"
   ]
  },
  {
   "cell_type": "code",
   "execution_count": 100,
   "metadata": {},
   "outputs": [
    {
     "name": "stdout",
     "output_type": "stream",
     "text": [
      "Test accuracy score:  0.8358458961474037\n"
     ]
    }
   ],
   "source": [
    "\n",
    "\n",
    "# Calculate accuracy score on the test set\n",
    "test_accuracy = accuracy_score(y_test, y_pred)\n",
    "print(\"Test accuracy score: \", test_accuracy)\n",
    "\n"
   ]
  },
  {
   "cell_type": "code",
   "execution_count": 101,
   "metadata": {},
   "outputs": [],
   "source": [
    "\n",
    "\n",
    "from sklearn.metrics import confusion_matrix,classification_report,plot_confusion_matrix\n",
    "\n"
   ]
  },
  {
   "cell_type": "code",
   "execution_count": 102,
   "metadata": {},
   "outputs": [
    {
     "data": {
      "text/plain": [
       "array([[378,   7],\n",
       "       [ 91, 121]], dtype=int64)"
      ]
     },
     "execution_count": 102,
     "metadata": {},
     "output_type": "execute_result"
    }
   ],
   "source": [
    "\n",
    "\n",
    "confusion_matrix(y_test,y_pred)\n",
    "\n"
   ]
  },
  {
   "cell_type": "code",
   "execution_count": 103,
   "metadata": {},
   "outputs": [
    {
     "name": "stderr",
     "output_type": "stream",
     "text": [
      "C:\\Users\\GH0128\\AppData\\Local\\Packages\\PythonSoftwareFoundation.Python.3.10_qbz5n2kfra8p0\\LocalCache\\local-packages\\Python310\\site-packages\\sklearn\\utils\\deprecation.py:87: FutureWarning:\n",
      "\n",
      "Function plot_confusion_matrix is deprecated; Function `plot_confusion_matrix` is deprecated in 1.0 and will be removed in 1.2. Use one of the class methods: ConfusionMatrixDisplay.from_predictions or ConfusionMatrixDisplay.from_estimator.\n",
      "\n"
     ]
    },
    {
     "data": {
      "text/plain": [
       "<sklearn.metrics._plot.confusion_matrix.ConfusionMatrixDisplay at 0x2763dc00be0>"
      ]
     },
     "execution_count": 103,
     "metadata": {},
     "output_type": "execute_result"
    },
    {
     "data": {
      "image/png": "[encoded data removed]",
      "text/plain": [
       "<Figure size 640x480 with 2 Axes>"
      ]
     },
     "metadata": {},
     "output_type": "display_data"
    }
   ],
   "source": [
    "\n",
    "\n",
    "plot_confusion_matrix(grid_search,X_test,y_test)\n",
    "\n"
   ]
  },
  {
   "cell_type": "code",
   "execution_count": 104,
   "metadata": {},
   "outputs": [
    {
     "name": "stdout",
     "output_type": "stream",
     "text": [
      "               precision    recall  f1-score   support\n",
      "\n",
      "Not Purchased       0.81      0.98      0.89       385\n",
      "    Purchased       0.95      0.57      0.71       212\n",
      "\n",
      "     accuracy                           0.84       597\n",
      "    macro avg       0.88      0.78      0.80       597\n",
      " weighted avg       0.86      0.84      0.82       597\n",
      "\n"
     ]
    }
   ],
   "source": [
    "\n",
    "\n",
    "\n",
    "print(classification_report(y_test,y_pred))\n",
    "\n"
   ]
  },
  {
   "attachments": {},
   "cell_type": "markdown",
   "metadata": {},
   "source": [
    "### Test Prediction on the **default** model"
   ]
  },
  {
   "cell_type": "code",
   "execution_count": 105,
   "metadata": {},
   "outputs": [
    {
     "name": "stdout",
     "output_type": "stream",
     "text": [
      "['Purchased']\n"
     ]
    },
    {
     "name": "stderr",
     "output_type": "stream",
     "text": [
      "C:\\Users\\GH0128\\AppData\\Local\\Packages\\PythonSoftwareFoundation.Python.3.10_qbz5n2kfra8p0\\LocalCache\\local-packages\\Python310\\site-packages\\sklearn\\base.py:450: UserWarning:\n",
      "\n",
      "X does not have valid feature names, but DecisionTreeClassifier was fitted with feature names\n",
      "\n"
     ]
    }
   ],
   "source": [
    "#features = [\n",
    "# 'Age', \n",
    "# 'AnnualIncome', \n",
    "# 'FamilyMembers', \n",
    "# 'ChronicDiseases',\n",
    "# 'Employment Type_Private Sector/Self Employed', \n",
    "# 'GraduateOrNot_Yes',\n",
    "# 'FrequentFlyer_Yes', \n",
    "# 'EverTravelledAbroad_Yes'\n",
    "# ]\n",
    "\n",
    "\n",
    "features = np.array([[34, 10000000, 8, 1, 1, 1, 1, 1]])\n",
    "print(model.predict(features))\n",
    "\n"
   ]
  },
  {
   "cell_type": "code",
   "execution_count": 106,
   "metadata": {},
   "outputs": [
    {
     "name": "stdout",
     "output_type": "stream",
     "text": [
      "['Not Purchased']\n"
     ]
    },
    {
     "name": "stderr",
     "output_type": "stream",
     "text": [
      "C:\\Users\\GH0128\\AppData\\Local\\Packages\\PythonSoftwareFoundation.Python.3.10_qbz5n2kfra8p0\\LocalCache\\local-packages\\Python310\\site-packages\\sklearn\\base.py:450: UserWarning:\n",
      "\n",
      "X does not have valid feature names, but DecisionTreeClassifier was fitted with feature names\n",
      "\n"
     ]
    }
   ],
   "source": [
    "\n",
    "\n",
    "features = np.array([[34, 2000000, 2, 0, 0, 0, 0, 0]])\n",
    "print(model.predict(features))\n",
    "\n"
   ]
  },
  {
   "attachments": {},
   "cell_type": "markdown",
   "metadata": {},
   "source": [
    "### Test Prediction on the **fine-tuned** model"
   ]
  },
  {
   "cell_type": "code",
   "execution_count": 107,
   "metadata": {},
   "outputs": [
    {
     "name": "stdout",
     "output_type": "stream",
     "text": [
      "['Not Purchased']\n"
     ]
    },
    {
     "name": "stderr",
     "output_type": "stream",
     "text": [
      "C:\\Users\\GH0128\\AppData\\Local\\Packages\\PythonSoftwareFoundation.Python.3.10_qbz5n2kfra8p0\\LocalCache\\local-packages\\Python310\\site-packages\\sklearn\\base.py:450: UserWarning:\n",
      "\n",
      "X does not have valid feature names, but DecisionTreeClassifier was fitted with feature names\n",
      "\n"
     ]
    }
   ],
   "source": [
    "\n",
    "\n",
    "# features = [\n",
    "# 'Age', \n",
    "# 'AnnualIncome', \n",
    "# 'FamilyMembers', \n",
    "# 'ChronicDiseases',\n",
    "# 'Employment Type_Private Sector/Self Employed', \n",
    "# 'GraduateOrNot_Yes',\n",
    "# 'FrequentFlyer_Yes', \n",
    "# 'EverTravelledAbroad_Yes'\n",
    "# ]\n",
    "\n",
    "\n",
    "features = np.array([[34, 10000000, 8, 1, 1, 1, 1, 1]])\n",
    "print(grid_search.predict(features))\n",
    "\n",
    "\n"
   ]
  },
  {
   "cell_type": "code",
   "execution_count": 108,
   "metadata": {},
   "outputs": [
    {
     "name": "stdout",
     "output_type": "stream",
     "text": [
      "['Not Purchased']\n"
     ]
    },
    {
     "name": "stderr",
     "output_type": "stream",
     "text": [
      "C:\\Users\\GH0128\\AppData\\Local\\Packages\\PythonSoftwareFoundation.Python.3.10_qbz5n2kfra8p0\\LocalCache\\local-packages\\Python310\\site-packages\\sklearn\\base.py:450: UserWarning:\n",
      "\n",
      "X does not have valid feature names, but DecisionTreeClassifier was fitted with feature names\n",
      "\n"
     ]
    }
   ],
   "source": [
    "features = np.array([[34, 2000000, 2, 0, 0, 0, 0, 0]])\n",
    "print(grid_search.predict(features))"
   ]
  },
  {
   "attachments": {},
   "cell_type": "markdown",
   "metadata": {},
   "source": [
    "### The **Accuaracy Paradox** of the hyperparameters-adjusted model"
   ]
  },
  {
   "attachments": {},
   "cell_type": "markdown",
   "metadata": {},
   "source": [
    "\n",
    "The model's accuracy moved from 76% to 84% when the hyperparameters we tweaked. Which should have improved the performance of the model, but accuracy paradox was detected. The 84% accuracy performance model increased the number of false negatives from 81 to 91. Which does not give a true reflection as a performace metrics.\n",
    "\n",
    "76%  --  84%"
   ]
  },
  {
   "attachments": {},
   "cell_type": "markdown",
   "metadata": {},
   "source": [
    "The accuracy paradox in decision tree models can occur when the class distribution is imbalanced, meaning that there are many more instances of one class than the other. In this scenario, the model may achieve high accuracy by simply predicting the majority class for all instances, while performing poorly on the minority class.\n",
    "\n",
    "To avoid the accuracy paradox in decision tree models, you can try the following techniques:\n",
    "\n",
    "**Balance the class distribution:** Balancing the class distribution by either oversampling the minority class or undersampling the majority class can help to reduce the impact of the majority class on the model's predictions and improve the overall performance.\n",
    "\n",
    "**Use alternative metrics:** Instead of using accuracy as the performance metric for the model, you can use alternative metrics that are more appropriate for imbalanced datasets, such as precision, recall, F1 score, or the area under the receiver operating characteristic (ROC) curve.\n",
    "\n",
    "**Adjust the decision threshold:** By adjusting the decision threshold of the model, you can trade off between precision and recall, depending on the specific needs of your application. For example, if you want to prioritize recall (i.e., identifying the minority class correctly), you can lower the decision threshold to increase the number of true positives.\n",
    "\n",
    "**Try ensemble methods:** Ensemble methods, such as random forests and gradient boosting, can be used to improve the performance of decision tree models on imbalanced datasets. These methods combine multiple decision trees to make predictions, which can help to reduce the impact of the majority class and improve the performance on the minority class.\n",
    "\n",
    "It's important to note that different techniques may work better for different datasets, so it's important to experiment with different approaches to find the one that works best for your specific problem."
   ]
  },
  {
   "attachments": {},
   "cell_type": "markdown",
   "metadata": {},
   "source": [
    "### USING THE MOST IMPORTANT FEATURES FOR THE MODEL"
   ]
  },
  {
   "cell_type": "code",
   "execution_count": 109,
   "metadata": {},
   "outputs": [
    {
     "data": {
      "text/plain": [
       "Index(['Age', 'Employment Type', 'GraduateOrNot', 'AnnualIncome',\n",
       "       'FamilyMembers', 'ChronicDiseases', 'FrequentFlyer',\n",
       "       'EverTravelledAbroad', 'TravelInsurance'],\n",
       "      dtype='object')"
      ]
     },
     "execution_count": 109,
     "metadata": {},
     "output_type": "execute_result"
    }
   ],
   "source": [
    "data.columns"
   ]
  },
  {
   "cell_type": "code",
   "execution_count": 125,
   "metadata": {},
   "outputs": [],
   "source": [
    "# choose x based on the importance of the column\n",
    "X = pd.get_dummies(data [['Age','FamilyMembers', 'Age', 'ChronicDiseases', 'FrequentFlyer']],drop_first=True)\n",
    "y = data['TravelInsurance']\n"
   ]
  },
  {
   "cell_type": "code",
   "execution_count": 126,
   "metadata": {},
   "outputs": [],
   "source": [
    "from sklearn.model_selection import train_test_split\n",
    "\n",
    "X_train, X_test, y_train, y_test = train_test_split(X, y, test_size=0.3, random_state=101)"
   ]
  },
  {
   "cell_type": "code",
   "execution_count": 127,
   "metadata": {},
   "outputs": [
    {
     "data": {
      "text/html": [
       "<style>#sk-container-id-7 {color: black;background-color: white;}#sk-container-id-7 pre{padding: 0;}#sk-container-id-7 div.sk-toggleable {background-color: white;}#sk-container-id-7 label.sk-toggleable__label {cursor: pointer;display: block;width: 100%;margin-bottom: 0;padding: 0.3em;box-sizing: border-box;text-align: center;}#sk-container-id-7 label.sk-toggleable__label-arrow:before {content: \"▸\";float: left;margin-right: 0.25em;color: #696969;}#sk-container-id-7 label.sk-toggleable__label-arrow:hover:before {color: black;}#sk-container-id-7 div.sk-estimator:hover label.sk-toggleable__label-arrow:before {color: black;}#sk-container-id-7 div.sk-toggleable__content {max-height: 0;max-width: 0;overflow: hidden;text-align: left;background-color: #f0f8ff;}#sk-container-id-7 div.sk-toggleable__content pre {margin: 0.2em;color: black;border-radius: 0.25em;background-color: #f0f8ff;}#sk-container-id-7 input.sk-toggleable__control:checked~div.sk-toggleable__content {max-height: 200px;max-width: 100%;overflow: auto;}#sk-container-id-7 input.sk-toggleable__control:checked~label.sk-toggleable__label-arrow:before {content: \"▾\";}#sk-container-id-7 div.sk-estimator input.sk-toggleable__control:checked~label.sk-toggleable__label {background-color: #d4ebff;}#sk-container-id-7 div.sk-label input.sk-toggleable__control:checked~label.sk-toggleable__label {background-color: #d4ebff;}#sk-container-id-7 input.sk-hidden--visually {border: 0;clip: rect(1px 1px 1px 1px);clip: rect(1px, 1px, 1px, 1px);height: 1px;margin: -1px;overflow: hidden;padding: 0;position: absolute;width: 1px;}#sk-container-id-7 div.sk-estimator {font-family: monospace;background-color: #f0f8ff;border: 1px dotted black;border-radius: 0.25em;box-sizing: border-box;margin-bottom: 0.5em;}#sk-container-id-7 div.sk-estimator:hover {background-color: #d4ebff;}#sk-container-id-7 div.sk-parallel-item::after {content: \"\";width: 100%;border-bottom: 1px solid gray;flex-grow: 1;}#sk-container-id-7 div.sk-label:hover label.sk-toggleable__label {background-color: #d4ebff;}#sk-container-id-7 div.sk-serial::before {content: \"\";position: absolute;border-left: 1px solid gray;box-sizing: border-box;top: 0;bottom: 0;left: 50%;z-index: 0;}#sk-container-id-7 div.sk-serial {display: flex;flex-direction: column;align-items: center;background-color: white;padding-right: 0.2em;padding-left: 0.2em;position: relative;}#sk-container-id-7 div.sk-item {position: relative;z-index: 1;}#sk-container-id-7 div.sk-parallel {display: flex;align-items: stretch;justify-content: center;background-color: white;position: relative;}#sk-container-id-7 div.sk-item::before, #sk-container-id-7 div.sk-parallel-item::before {content: \"\";position: absolute;border-left: 1px solid gray;box-sizing: border-box;top: 0;bottom: 0;left: 50%;z-index: -1;}#sk-container-id-7 div.sk-parallel-item {display: flex;flex-direction: column;z-index: 1;position: relative;background-color: white;}#sk-container-id-7 div.sk-parallel-item:first-child::after {align-self: flex-end;width: 50%;}#sk-container-id-7 div.sk-parallel-item:last-child::after {align-self: flex-start;width: 50%;}#sk-container-id-7 div.sk-parallel-item:only-child::after {width: 0;}#sk-container-id-7 div.sk-dashed-wrapped {border: 1px dashed gray;margin: 0 0.4em 0.5em 0.4em;box-sizing: border-box;padding-bottom: 0.4em;background-color: white;}#sk-container-id-7 div.sk-label label {font-family: monospace;font-weight: bold;display: inline-block;line-height: 1.2em;}#sk-container-id-7 div.sk-label-container {text-align: center;}#sk-container-id-7 div.sk-container {/* jupyter's `normalize.less` sets `[hidden] { display: none; }` but bootstrap.min.css set `[hidden] { display: none !important; }` so we also need the `!important` here to be able to override the default hidden behavior on the sphinx rendered scikit-learn.org. See: https://github.com/scikit-learn/scikit-learn/issues/21755 */display: inline-block !important;position: relative;}#sk-container-id-7 div.sk-text-repr-fallback {display: none;}</style><div id=\"sk-container-id-7\" class=\"sk-top-container\"><div class=\"sk-text-repr-fallback\"><pre>DecisionTreeClassifier(random_state=1807)</pre><b>In a Jupyter environment, please rerun this cell to show the HTML representation or trust the notebook. <br />On GitHub, the HTML representation is unable to render, please try loading this page with nbviewer.org.</b></div><div class=\"sk-container\" hidden><div class=\"sk-item\"><div class=\"sk-estimator sk-toggleable\"><input class=\"sk-toggleable__control sk-hidden--visually\" id=\"sk-estimator-id-11\" type=\"checkbox\" checked><label for=\"sk-estimator-id-11\" class=\"sk-toggleable__label sk-toggleable__label-arrow\">DecisionTreeClassifier</label><div class=\"sk-toggleable__content\"><pre>DecisionTreeClassifier(random_state=1807)</pre></div></div></div></div></div>"
      ],
      "text/plain": [
       "DecisionTreeClassifier(random_state=1807)"
      ]
     },
     "execution_count": 127,
     "metadata": {},
     "output_type": "execute_result"
    }
   ],
   "source": [
    "from sklearn.tree import DecisionTreeClassifier\n",
    "\n",
    "model = DecisionTreeClassifier(random_state=1807)\n",
    "model.fit(X_train,y_train)\n"
   ]
  },
  {
   "cell_type": "code",
   "execution_count": 128,
   "metadata": {},
   "outputs": [],
   "source": [
    "base_pred = model.predict(X_test)"
   ]
  },
  {
   "cell_type": "code",
   "execution_count": 129,
   "metadata": {},
   "outputs": [],
   "source": [
    "\n",
    "# Evaluation\n",
    "from sklearn.metrics import confusion_matrix,classification_report,plot_confusion_matrix\n"
   ]
  },
  {
   "cell_type": "code",
   "execution_count": 130,
   "metadata": {},
   "outputs": [
    {
     "data": {
      "text/plain": [
       "array([[338,  47],\n",
       "       [136,  76]], dtype=int64)"
      ]
     },
     "execution_count": 130,
     "metadata": {},
     "output_type": "execute_result"
    }
   ],
   "source": [
    "confusion_matrix(y_test,base_pred)\n",
    "\n"
   ]
  },
  {
   "cell_type": "code",
   "execution_count": 131,
   "metadata": {},
   "outputs": [
    {
     "name": "stderr",
     "output_type": "stream",
     "text": [
      "C:\\Users\\GH0128\\AppData\\Local\\Packages\\PythonSoftwareFoundation.Python.3.10_qbz5n2kfra8p0\\LocalCache\\local-packages\\Python310\\site-packages\\sklearn\\utils\\deprecation.py:87: FutureWarning:\n",
      "\n",
      "Function plot_confusion_matrix is deprecated; Function `plot_confusion_matrix` is deprecated in 1.0 and will be removed in 1.2. Use one of the class methods: ConfusionMatrixDisplay.from_predictions or ConfusionMatrixDisplay.from_estimator.\n",
      "\n"
     ]
    },
    {
     "data": {
      "text/plain": [
       "<sklearn.metrics._plot.confusion_matrix.ConfusionMatrixDisplay at 0x2764190f760>"
      ]
     },
     "execution_count": 131,
     "metadata": {},
     "output_type": "execute_result"
    },
    {
     "data": {
      "image/png": "[encoded data removed]",
      "text/plain": [
       "<Figure size 640x480 with 2 Axes>"
      ]
     },
     "metadata": {},
     "output_type": "display_data"
    }
   ],
   "source": [
    "plot_confusion_matrix(model,X_test,y_test)\n",
    "\n"
   ]
  },
  {
   "cell_type": "code",
   "execution_count": 124,
   "metadata": {},
   "outputs": [
    {
     "name": "stdout",
     "output_type": "stream",
     "text": [
      "               precision    recall  f1-score   support\n",
      "\n",
      "Not Purchased       0.71      0.88      0.79       385\n",
      "    Purchased       0.62      0.36      0.45       212\n",
      "\n",
      "     accuracy                           0.69       597\n",
      "    macro avg       0.67      0.62      0.62       597\n",
      " weighted avg       0.68      0.69      0.67       597\n",
      "\n"
     ]
    }
   ],
   "source": [
    "print(classification_report(y_test,base_pred))\n",
    "\n"
   ]
  },
  {
   "attachments": {},
   "cell_type": "markdown",
   "metadata": {},
   "source": [
    "The accuracy is very low, therefore, this tweak wouldn't be needful\n"
   ]
  },
  {
   "attachments": {},
   "cell_type": "markdown",
   "metadata": {},
   "source": [
    "## **Conclusion**"
   ]
  },
  {
   "attachments": {},
   "cell_type": "markdown",
   "metadata": {},
   "source": [
    "After conducting several tweaks and adjustments to the model, it has been found that the default model performs the best for the purpose of this project. However, research is still ongoing to further optimize and improve the performance of the model."
   ]
  }
 ],
 "metadata": {
  "kernelspec": {
   "display_name": "Python 3",
   "language": "python",
   "name": "python3"
  },
  "language_info": {
   "codemirror_mode": {
    "name": "ipython",
    "version": 3
   },
   "file_extension": ".py",
   "mimetype": "text/x-python",
   "name": "python",
   "nbconvert_exporter": "python",
   "pygments_lexer": "ipython3",
   "version": "3.10.10"
  },
  "orig_nbformat": 4,
  "vscode": {
   "interpreter": {
    "hash": "60e16f051a19f96e4e56ef60f8c01e32be0a0dfef20ee836fb22979591ec8705"
   }
  }
 },
 "nbformat": 4,
 "nbformat_minor": 2
}
